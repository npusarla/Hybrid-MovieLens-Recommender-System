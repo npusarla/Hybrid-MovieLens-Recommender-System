{
 "cells": [
  {
   "cell_type": "markdown",
   "metadata": {},
   "source": [
    "#### Libraries and Packages"
   ]
  },
  {
   "cell_type": "code",
   "execution_count": 1,
   "metadata": {},
   "outputs": [],
   "source": [
    "import os\n",
    "import numpy as np\n",
    "import pandas as pd\n",
    "import math\n",
    "import random\n",
    "import time\n",
    "from matplotlib import pyplot as plt\n",
    "from surprise import KNNWithMeans\n",
    "from surprise.model_selection.validation import cross_validate\n",
    "from surprise import Dataset\n",
    "from surprise import Reader\n",
    "import findspark\n",
    "from pyspark.ml.evaluation import RegressionEvaluator\n",
    "from pyspark.mllib.evaluation import MulticlassMetrics\n",
    "from pyspark.ml.recommendation import ALS\n",
    "from pyspark.sql import Row\n",
    "from pyspark.context import SparkContext\n",
    "from pyspark.sql.session import SparkSession\n",
    "# Set spark environments\n",
    "os.environ['PYSPARK_PYTHON'] = '/Users/nehapusarla/anaconda3/bin/python3.7'\n",
    "os.environ['PYSPARK_DRIVER_PYTHON'] = '/Users/nehapusarla/anaconda3/bin/python3.7'"
   ]
  },
  {
   "cell_type": "code",
   "execution_count": 2,
   "metadata": {},
   "outputs": [],
   "source": [
    "file = \"/Users/nehapusarla/Documents/IEORE4571/ratings.csv\""
   ]
  },
  {
   "cell_type": "markdown",
   "metadata": {},
   "source": [
    "## Exploratory Data Analysis and Sampling "
   ]
  },
  {
   "cell_type": "code",
   "execution_count": 3,
   "metadata": {},
   "outputs": [],
   "source": [
    "data = pd.read_csv(file)"
   ]
  },
  {
   "cell_type": "code",
   "execution_count": 4,
   "metadata": {},
   "outputs": [
    {
     "data": {
      "text/html": [
       "<div>\n",
       "<style scoped>\n",
       "    .dataframe tbody tr th:only-of-type {\n",
       "        vertical-align: middle;\n",
       "    }\n",
       "\n",
       "    .dataframe tbody tr th {\n",
       "        vertical-align: top;\n",
       "    }\n",
       "\n",
       "    .dataframe thead th {\n",
       "        text-align: right;\n",
       "    }\n",
       "</style>\n",
       "<table border=\"1\" class=\"dataframe\">\n",
       "  <thead>\n",
       "    <tr style=\"text-align: right;\">\n",
       "      <th></th>\n",
       "      <th>userId</th>\n",
       "      <th>movieId</th>\n",
       "      <th>rating</th>\n",
       "      <th>timestamp</th>\n",
       "    </tr>\n",
       "  </thead>\n",
       "  <tbody>\n",
       "    <tr>\n",
       "      <th>0</th>\n",
       "      <td>1</td>\n",
       "      <td>307</td>\n",
       "      <td>3.5</td>\n",
       "      <td>1256677221</td>\n",
       "    </tr>\n",
       "    <tr>\n",
       "      <th>1</th>\n",
       "      <td>1</td>\n",
       "      <td>481</td>\n",
       "      <td>3.5</td>\n",
       "      <td>1256677456</td>\n",
       "    </tr>\n",
       "    <tr>\n",
       "      <th>2</th>\n",
       "      <td>1</td>\n",
       "      <td>1091</td>\n",
       "      <td>1.5</td>\n",
       "      <td>1256677471</td>\n",
       "    </tr>\n",
       "    <tr>\n",
       "      <th>3</th>\n",
       "      <td>1</td>\n",
       "      <td>1257</td>\n",
       "      <td>4.5</td>\n",
       "      <td>1256677460</td>\n",
       "    </tr>\n",
       "    <tr>\n",
       "      <th>4</th>\n",
       "      <td>1</td>\n",
       "      <td>1449</td>\n",
       "      <td>4.5</td>\n",
       "      <td>1256677264</td>\n",
       "    </tr>\n",
       "  </tbody>\n",
       "</table>\n",
       "</div>"
      ],
      "text/plain": [
       "   userId  movieId  rating   timestamp\n",
       "0       1      307     3.5  1256677221\n",
       "1       1      481     3.5  1256677456\n",
       "2       1     1091     1.5  1256677471\n",
       "3       1     1257     4.5  1256677460\n",
       "4       1     1449     4.5  1256677264"
      ]
     },
     "execution_count": 4,
     "metadata": {},
     "output_type": "execute_result"
    }
   ],
   "source": [
    "data.head()"
   ]
  },
  {
   "cell_type": "code",
   "execution_count": 6,
   "metadata": {},
   "outputs": [
    {
     "data": {
      "text/html": [
       "<div>\n",
       "<style scoped>\n",
       "    .dataframe tbody tr th:only-of-type {\n",
       "        vertical-align: middle;\n",
       "    }\n",
       "\n",
       "    .dataframe tbody tr th {\n",
       "        vertical-align: top;\n",
       "    }\n",
       "\n",
       "    .dataframe thead th {\n",
       "        text-align: right;\n",
       "    }\n",
       "</style>\n",
       "<table border=\"1\" class=\"dataframe\">\n",
       "  <thead>\n",
       "    <tr style=\"text-align: right;\">\n",
       "      <th></th>\n",
       "      <th>ratings_count</th>\n",
       "    </tr>\n",
       "    <tr>\n",
       "      <th>userId</th>\n",
       "      <th></th>\n",
       "    </tr>\n",
       "  </thead>\n",
       "  <tbody>\n",
       "    <tr>\n",
       "      <th>1</th>\n",
       "      <td>16</td>\n",
       "    </tr>\n",
       "    <tr>\n",
       "      <th>2</th>\n",
       "      <td>15</td>\n",
       "    </tr>\n",
       "    <tr>\n",
       "      <th>3</th>\n",
       "      <td>11</td>\n",
       "    </tr>\n",
       "    <tr>\n",
       "      <th>4</th>\n",
       "      <td>736</td>\n",
       "    </tr>\n",
       "    <tr>\n",
       "      <th>5</th>\n",
       "      <td>72</td>\n",
       "    </tr>\n",
       "  </tbody>\n",
       "</table>\n",
       "</div>"
      ],
      "text/plain": [
       "        ratings_count\n",
       "userId               \n",
       "1                  16\n",
       "2                  15\n",
       "3                  11\n",
       "4                 736\n",
       "5                  72"
      ]
     },
     "execution_count": 6,
     "metadata": {},
     "output_type": "execute_result"
    }
   ],
   "source": [
    "user_df = data.groupby('userId').count()[['movieId']].rename(columns={'movieId':'ratings_count'})\n",
    "user_df.head()"
   ]
  },
  {
   "cell_type": "code",
   "execution_count": 7,
   "metadata": {},
   "outputs": [
    {
     "data": {
      "text/html": [
       "<div>\n",
       "<style scoped>\n",
       "    .dataframe tbody tr th:only-of-type {\n",
       "        vertical-align: middle;\n",
       "    }\n",
       "\n",
       "    .dataframe tbody tr th {\n",
       "        vertical-align: top;\n",
       "    }\n",
       "\n",
       "    .dataframe thead th {\n",
       "        text-align: right;\n",
       "    }\n",
       "</style>\n",
       "<table border=\"1\" class=\"dataframe\">\n",
       "  <thead>\n",
       "    <tr style=\"text-align: right;\">\n",
       "      <th></th>\n",
       "      <th>userId</th>\n",
       "      <th>ratings_count</th>\n",
       "      <th>average_rating</th>\n",
       "    </tr>\n",
       "  </thead>\n",
       "  <tbody>\n",
       "    <tr>\n",
       "      <th>0</th>\n",
       "      <td>1</td>\n",
       "      <td>16</td>\n",
       "      <td>3.312500</td>\n",
       "    </tr>\n",
       "    <tr>\n",
       "      <th>1</th>\n",
       "      <td>2</td>\n",
       "      <td>15</td>\n",
       "      <td>3.666667</td>\n",
       "    </tr>\n",
       "    <tr>\n",
       "      <th>2</th>\n",
       "      <td>3</td>\n",
       "      <td>11</td>\n",
       "      <td>3.545455</td>\n",
       "    </tr>\n",
       "    <tr>\n",
       "      <th>3</th>\n",
       "      <td>4</td>\n",
       "      <td>736</td>\n",
       "      <td>3.397418</td>\n",
       "    </tr>\n",
       "    <tr>\n",
       "      <th>4</th>\n",
       "      <td>5</td>\n",
       "      <td>72</td>\n",
       "      <td>4.263889</td>\n",
       "    </tr>\n",
       "  </tbody>\n",
       "</table>\n",
       "</div>"
      ],
      "text/plain": [
       "   userId  ratings_count  average_rating\n",
       "0       1             16        3.312500\n",
       "1       2             15        3.666667\n",
       "2       3             11        3.545455\n",
       "3       4            736        3.397418\n",
       "4       5             72        4.263889"
      ]
     },
     "execution_count": 7,
     "metadata": {},
     "output_type": "execute_result"
    }
   ],
   "source": [
    "avg_rating = data.groupby('userId').mean()['rating']\n",
    "user_df['average_rating'] = avg_rating\n",
    "user_df = user_df.reset_index()\n",
    "user_df.head()"
   ]
  },
  {
   "cell_type": "code",
   "execution_count": 8,
   "metadata": {},
   "outputs": [
    {
     "name": "stdout",
     "output_type": "stream",
     "text": [
      "Number of users: 283228\n"
     ]
    }
   ],
   "source": [
    "print(\"Number of users:\", len(user_df))"
   ]
  },
  {
   "cell_type": "code",
   "execution_count": 9,
   "metadata": {},
   "outputs": [
    {
     "data": {
      "text/html": [
       "<div>\n",
       "<style scoped>\n",
       "    .dataframe tbody tr th:only-of-type {\n",
       "        vertical-align: middle;\n",
       "    }\n",
       "\n",
       "    .dataframe tbody tr th {\n",
       "        vertical-align: top;\n",
       "    }\n",
       "\n",
       "    .dataframe thead th {\n",
       "        text-align: right;\n",
       "    }\n",
       "</style>\n",
       "<table border=\"1\" class=\"dataframe\">\n",
       "  <thead>\n",
       "    <tr style=\"text-align: right;\">\n",
       "      <th></th>\n",
       "      <th>ratings_count</th>\n",
       "    </tr>\n",
       "    <tr>\n",
       "      <th>movieId</th>\n",
       "      <th></th>\n",
       "    </tr>\n",
       "  </thead>\n",
       "  <tbody>\n",
       "    <tr>\n",
       "      <th>1</th>\n",
       "      <td>68469</td>\n",
       "    </tr>\n",
       "    <tr>\n",
       "      <th>2</th>\n",
       "      <td>27143</td>\n",
       "    </tr>\n",
       "    <tr>\n",
       "      <th>3</th>\n",
       "      <td>15585</td>\n",
       "    </tr>\n",
       "    <tr>\n",
       "      <th>4</th>\n",
       "      <td>2989</td>\n",
       "    </tr>\n",
       "    <tr>\n",
       "      <th>5</th>\n",
       "      <td>15474</td>\n",
       "    </tr>\n",
       "  </tbody>\n",
       "</table>\n",
       "</div>"
      ],
      "text/plain": [
       "         ratings_count\n",
       "movieId               \n",
       "1                68469\n",
       "2                27143\n",
       "3                15585\n",
       "4                 2989\n",
       "5                15474"
      ]
     },
     "execution_count": 9,
     "metadata": {},
     "output_type": "execute_result"
    }
   ],
   "source": [
    "movie_df = data.groupby('movieId').count()[['userId']].rename(columns={'userId':'ratings_count'})\n",
    "movie_df.head()"
   ]
  },
  {
   "cell_type": "code",
   "execution_count": 10,
   "metadata": {},
   "outputs": [
    {
     "data": {
      "text/html": [
       "<div>\n",
       "<style scoped>\n",
       "    .dataframe tbody tr th:only-of-type {\n",
       "        vertical-align: middle;\n",
       "    }\n",
       "\n",
       "    .dataframe tbody tr th {\n",
       "        vertical-align: top;\n",
       "    }\n",
       "\n",
       "    .dataframe thead th {\n",
       "        text-align: right;\n",
       "    }\n",
       "</style>\n",
       "<table border=\"1\" class=\"dataframe\">\n",
       "  <thead>\n",
       "    <tr style=\"text-align: right;\">\n",
       "      <th></th>\n",
       "      <th>movieId</th>\n",
       "      <th>ratings_count</th>\n",
       "      <th>average_movie_rating</th>\n",
       "    </tr>\n",
       "  </thead>\n",
       "  <tbody>\n",
       "    <tr>\n",
       "      <th>0</th>\n",
       "      <td>1</td>\n",
       "      <td>68469</td>\n",
       "      <td>3.886649</td>\n",
       "    </tr>\n",
       "    <tr>\n",
       "      <th>1</th>\n",
       "      <td>2</td>\n",
       "      <td>27143</td>\n",
       "      <td>3.246583</td>\n",
       "    </tr>\n",
       "    <tr>\n",
       "      <th>2</th>\n",
       "      <td>3</td>\n",
       "      <td>15585</td>\n",
       "      <td>3.173981</td>\n",
       "    </tr>\n",
       "    <tr>\n",
       "      <th>3</th>\n",
       "      <td>4</td>\n",
       "      <td>2989</td>\n",
       "      <td>2.874540</td>\n",
       "    </tr>\n",
       "    <tr>\n",
       "      <th>4</th>\n",
       "      <td>5</td>\n",
       "      <td>15474</td>\n",
       "      <td>3.077291</td>\n",
       "    </tr>\n",
       "  </tbody>\n",
       "</table>\n",
       "</div>"
      ],
      "text/plain": [
       "   movieId  ratings_count  average_movie_rating\n",
       "0        1          68469              3.886649\n",
       "1        2          27143              3.246583\n",
       "2        3          15585              3.173981\n",
       "3        4           2989              2.874540\n",
       "4        5          15474              3.077291"
      ]
     },
     "execution_count": 10,
     "metadata": {},
     "output_type": "execute_result"
    }
   ],
   "source": [
    "avg_movie_rating = data.groupby('movieId').mean()['rating']\n",
    "movie_df['average_movie_rating'] = avg_movie_rating\n",
    "movie_df = movie_df.reset_index()\n",
    "movie_df.head()"
   ]
  },
  {
   "cell_type": "code",
   "execution_count": 11,
   "metadata": {},
   "outputs": [
    {
     "name": "stdout",
     "output_type": "stream",
     "text": [
      "Number of users:  53889\n"
     ]
    }
   ],
   "source": [
    "print(\"Number of users: \", len(movie_df))"
   ]
  },
  {
   "cell_type": "markdown",
   "metadata": {},
   "source": [
    "From observing the data, we see there are 283,228 unique users and 53889 unique movies. We will want to train our model on around 20,000 users and 1,000 movies. Hence we will set conditions based on our business objectives to narrow down our selection before randomly sampling to a smaller dataset."
   ]
  },
  {
   "cell_type": "markdown",
   "metadata": {},
   "source": [
    "### Finding Sampling Thresholds "
   ]
  },
  {
   "cell_type": "markdown",
   "metadata": {},
   "source": [
    "To sample the dataset, we took some rules that we mentioned above under Framework into consideration. Firstly, we mentioned that our intended user were existing, active users. Therefore, the first step to sampling our dataset is to find the threshold of the number of movies a user has rated that separates them from an inactive user to an active user. "
   ]
  },
  {
   "cell_type": "code",
   "execution_count": 12,
   "metadata": {},
   "outputs": [
    {
     "data": {
      "text/html": [
       "<div>\n",
       "<style scoped>\n",
       "    .dataframe tbody tr th:only-of-type {\n",
       "        vertical-align: middle;\n",
       "    }\n",
       "\n",
       "    .dataframe tbody tr th {\n",
       "        vertical-align: top;\n",
       "    }\n",
       "\n",
       "    .dataframe thead th {\n",
       "        text-align: right;\n",
       "    }\n",
       "</style>\n",
       "<table border=\"1\" class=\"dataframe\">\n",
       "  <thead>\n",
       "    <tr style=\"text-align: right;\">\n",
       "      <th></th>\n",
       "      <th>userId</th>\n",
       "      <th>ratings_count</th>\n",
       "      <th>average_rating</th>\n",
       "    </tr>\n",
       "  </thead>\n",
       "  <tbody>\n",
       "    <tr>\n",
       "      <th>0</th>\n",
       "      <td>1</td>\n",
       "      <td>16</td>\n",
       "      <td>3.312500</td>\n",
       "    </tr>\n",
       "    <tr>\n",
       "      <th>1</th>\n",
       "      <td>2</td>\n",
       "      <td>15</td>\n",
       "      <td>3.666667</td>\n",
       "    </tr>\n",
       "    <tr>\n",
       "      <th>2</th>\n",
       "      <td>3</td>\n",
       "      <td>11</td>\n",
       "      <td>3.545455</td>\n",
       "    </tr>\n",
       "    <tr>\n",
       "      <th>3</th>\n",
       "      <td>4</td>\n",
       "      <td>736</td>\n",
       "      <td>3.397418</td>\n",
       "    </tr>\n",
       "    <tr>\n",
       "      <th>4</th>\n",
       "      <td>5</td>\n",
       "      <td>72</td>\n",
       "      <td>4.263889</td>\n",
       "    </tr>\n",
       "  </tbody>\n",
       "</table>\n",
       "</div>"
      ],
      "text/plain": [
       "   userId  ratings_count  average_rating\n",
       "0       1             16        3.312500\n",
       "1       2             15        3.666667\n",
       "2       3             11        3.545455\n",
       "3       4            736        3.397418\n",
       "4       5             72        4.263889"
      ]
     },
     "execution_count": 12,
     "metadata": {},
     "output_type": "execute_result"
    }
   ],
   "source": [
    "user_df.head()"
   ]
  },
  {
   "cell_type": "code",
   "execution_count": 13,
   "metadata": {},
   "outputs": [
    {
     "data": {
      "image/png": "[encoded data removed]",
      "text/plain": [
       "<Figure size 432x288 with 1 Axes>"
      ]
     },
     "metadata": {
      "needs_background": "light"
     },
     "output_type": "display_data"
    }
   ],
   "source": [
    "plt.scatter(user_df['userId'], user_df['ratings_count'], s=10);"
   ]
  },
  {
   "cell_type": "markdown",
   "metadata": {},
   "source": [
    "We decided that this did not provide enough information for our analysis and thus, we took another step to group the number of ratings to see how many users rated a certain number of movies. "
   ]
  },
  {
   "cell_type": "code",
   "execution_count": 14,
   "metadata": {},
   "outputs": [
    {
     "data": {
      "text/plain": [
       "Text(0.5, 0, 'number of ratings')"
      ]
     },
     "execution_count": 14,
     "metadata": {},
     "output_type": "execute_result"
    },
    {
     "data": {
      "image/png": "[encoded data removed]",
      "text/plain": [
       "<Figure size 432x288 with 1 Axes>"
      ]
     },
     "metadata": {
      "needs_background": "light"
     },
     "output_type": "display_data"
    }
   ],
   "source": [
    "fig = plt.figure()\n",
    "temp = user_df.groupby('ratings_count').count().reset_index().rename(columns={'userId': 'count'})\n",
    "plt.scatter(temp['ratings_count'], temp['count'], s = 10)\n",
    "plt.xlabel('number of ratings')"
   ]
  },
  {
   "cell_type": "markdown",
   "metadata": {},
   "source": [
    "Majority of users rated under 5000. There seems to be outliers who did over 5000 ratings. Since, the distribution in the earlier number of ratings is not clear, we zoomed into that section. "
   ]
  },
  {
   "cell_type": "code",
   "execution_count": 15,
   "metadata": {},
   "outputs": [],
   "source": [
    "less_ratings = user_df[user_df['ratings_count'] < 30]"
   ]
  },
  {
   "cell_type": "code",
   "execution_count": 16,
   "metadata": {},
   "outputs": [
    {
     "data": {
      "text/plain": [
       "Text(0.5, 0, 'number of ratings')"
      ]
     },
     "execution_count": 16,
     "metadata": {},
     "output_type": "execute_result"
    },
    {
     "data": {
      "image/png": "[encoded data removed]",
      "text/plain": [
       "<Figure size 432x288 with 1 Axes>"
      ]
     },
     "metadata": {
      "needs_background": "light"
     },
     "output_type": "display_data"
    }
   ],
   "source": [
    "fig = plt.figure()\n",
    "temp2 = less_ratings.groupby('ratings_count').count().reset_index().rename(columns={'userId': 'count'})\n",
    "plt.scatter(temp2['ratings_count'], temp2['count'], s = 10)\n",
    "plt.xlabel('number of ratings')"
   ]
  },
  {
   "cell_type": "code",
   "execution_count": 17,
   "metadata": {},
   "outputs": [
    {
     "data": {
      "text/plain": [
       "count    283228.000000\n",
       "mean         97.989761\n",
       "std         212.760722\n",
       "min           1.000000\n",
       "25%          15.000000\n",
       "50%          30.000000\n",
       "75%          95.000000\n",
       "max       23715.000000\n",
       "Name: ratings_count, dtype: float64"
      ]
     },
     "execution_count": 17,
     "metadata": {},
     "output_type": "execute_result"
    }
   ],
   "source": [
    "user_df['ratings_count'].describe()"
   ]
  },
  {
   "cell_type": "markdown",
   "metadata": {},
   "source": [
    "Most users submit around 15 ratings. The number of users then slowly decreases as number of ratings continue to increase past 30. Our business objective focuses on active users and bettering their experience. In addition, we do not want the data to be too sparse in ratings made. For this current model, we are only training on the users and their ratings, hence, we want to select users with many ratings to make the dataframe more dense.\n",
    "\n",
    "Hence, we will limit to sampling from users who have at least rated 15 movies and at most 3000."
   ]
  },
  {
   "cell_type": "markdown",
   "metadata": {},
   "source": [
    "The next step in sampling our dataset, is focusing on popular movies, or those that have been rated a certain number of times. Our theory in working with popular movies comes from the fact that popular movies means that they have more ratings, and more information to work with. If a movie does not have many ratings, it is difficult to tell what kind of users like that movie. In addition, since it has a smaller dataset of users, the average ratings don't hold as much value as those that have been watched and rated by many people, making it difficult to know whether that movie was actually highly rated or not. "
   ]
  },
  {
   "cell_type": "code",
   "execution_count": 18,
   "metadata": {},
   "outputs": [
    {
     "data": {
      "text/html": [
       "<div>\n",
       "<style scoped>\n",
       "    .dataframe tbody tr th:only-of-type {\n",
       "        vertical-align: middle;\n",
       "    }\n",
       "\n",
       "    .dataframe tbody tr th {\n",
       "        vertical-align: top;\n",
       "    }\n",
       "\n",
       "    .dataframe thead th {\n",
       "        text-align: right;\n",
       "    }\n",
       "</style>\n",
       "<table border=\"1\" class=\"dataframe\">\n",
       "  <thead>\n",
       "    <tr style=\"text-align: right;\">\n",
       "      <th></th>\n",
       "      <th>movieId</th>\n",
       "      <th>ratings_count</th>\n",
       "      <th>average_movie_rating</th>\n",
       "    </tr>\n",
       "  </thead>\n",
       "  <tbody>\n",
       "    <tr>\n",
       "      <th>0</th>\n",
       "      <td>1</td>\n",
       "      <td>68469</td>\n",
       "      <td>3.886649</td>\n",
       "    </tr>\n",
       "    <tr>\n",
       "      <th>1</th>\n",
       "      <td>2</td>\n",
       "      <td>27143</td>\n",
       "      <td>3.246583</td>\n",
       "    </tr>\n",
       "    <tr>\n",
       "      <th>2</th>\n",
       "      <td>3</td>\n",
       "      <td>15585</td>\n",
       "      <td>3.173981</td>\n",
       "    </tr>\n",
       "    <tr>\n",
       "      <th>3</th>\n",
       "      <td>4</td>\n",
       "      <td>2989</td>\n",
       "      <td>2.874540</td>\n",
       "    </tr>\n",
       "    <tr>\n",
       "      <th>4</th>\n",
       "      <td>5</td>\n",
       "      <td>15474</td>\n",
       "      <td>3.077291</td>\n",
       "    </tr>\n",
       "  </tbody>\n",
       "</table>\n",
       "</div>"
      ],
      "text/plain": [
       "   movieId  ratings_count  average_movie_rating\n",
       "0        1          68469              3.886649\n",
       "1        2          27143              3.246583\n",
       "2        3          15585              3.173981\n",
       "3        4           2989              2.874540\n",
       "4        5          15474              3.077291"
      ]
     },
     "execution_count": 18,
     "metadata": {},
     "output_type": "execute_result"
    }
   ],
   "source": [
    "movie_df.head()"
   ]
  },
  {
   "cell_type": "markdown",
   "metadata": {},
   "source": [
    "The movie_df dataset above shows the number of ratings per movieId. For example, movieId: 1 has 68,469 ratings. We wanted to take this one step further by grouping the ratings, and visualizing how many groups of a certain number of ratings there are. For instance, how many movies have around 68,000 ratings? "
   ]
  },
  {
   "cell_type": "code",
   "execution_count": 19,
   "metadata": {},
   "outputs": [
    {
     "data": {
      "text/html": [
       "<div>\n",
       "<style scoped>\n",
       "    .dataframe tbody tr th:only-of-type {\n",
       "        vertical-align: middle;\n",
       "    }\n",
       "\n",
       "    .dataframe tbody tr th {\n",
       "        vertical-align: top;\n",
       "    }\n",
       "\n",
       "    .dataframe thead th {\n",
       "        text-align: right;\n",
       "    }\n",
       "</style>\n",
       "<table border=\"1\" class=\"dataframe\">\n",
       "  <thead>\n",
       "    <tr style=\"text-align: right;\">\n",
       "      <th></th>\n",
       "      <th>ratings_count</th>\n",
       "      <th>count</th>\n",
       "    </tr>\n",
       "  </thead>\n",
       "  <tbody>\n",
       "    <tr>\n",
       "      <th>0</th>\n",
       "      <td>1</td>\n",
       "      <td>10155</td>\n",
       "    </tr>\n",
       "    <tr>\n",
       "      <th>1</th>\n",
       "      <td>2</td>\n",
       "      <td>6324</td>\n",
       "    </tr>\n",
       "    <tr>\n",
       "      <th>2</th>\n",
       "      <td>3</td>\n",
       "      <td>3919</td>\n",
       "    </tr>\n",
       "    <tr>\n",
       "      <th>3</th>\n",
       "      <td>4</td>\n",
       "      <td>2667</td>\n",
       "    </tr>\n",
       "    <tr>\n",
       "      <th>4</th>\n",
       "      <td>5</td>\n",
       "      <td>2033</td>\n",
       "    </tr>\n",
       "  </tbody>\n",
       "</table>\n",
       "</div>"
      ],
      "text/plain": [
       "   ratings_count  count\n",
       "0              1  10155\n",
       "1              2   6324\n",
       "2              3   3919\n",
       "3              4   2667\n",
       "4              5   2033"
      ]
     },
     "execution_count": 19,
     "metadata": {},
     "output_type": "execute_result"
    }
   ],
   "source": [
    "movie_freq = movie_df.groupby(['ratings_count']).count()['movieId']\n",
    "movie_freq = movie_freq.reset_index().rename(columns={'movieId': 'count'})\n",
    "movie_freq.head() "
   ]
  },
  {
   "cell_type": "markdown",
   "metadata": {},
   "source": [
    "The movie_freq dataset has been updated to show the number of movies that have a certain number of ratings. In this scenario, there are 10,155 movies that only have 1 rating. "
   ]
  },
  {
   "cell_type": "code",
   "execution_count": 20,
   "metadata": {},
   "outputs": [
    {
     "data": {
      "text/plain": [
       "Text(0, 0.5, 'Count')"
      ]
     },
     "execution_count": 20,
     "metadata": {},
     "output_type": "execute_result"
    },
    {
     "data": {
      "image/png": "[encoded data removed]",
      "text/plain": [
       "<Figure size 432x288 with 1 Axes>"
      ]
     },
     "metadata": {
      "needs_background": "light"
     },
     "output_type": "display_data"
    }
   ],
   "source": [
    "ax = movie_freq.plot.scatter(x='ratings_count', y='count')\n",
    "ax.set_xlabel(\"Number of ratings a movie has\")\n",
    "ax.set_ylabel(\"Count\")"
   ]
  },
  {
   "cell_type": "markdown",
   "metadata": {},
   "source": [
    "To visualize the updated movie_freq dataset, we plotted a scatterplot to get a better idea of the frequency of the number of ratings a movie has. Since, this scatterplot does not reveal much information, we decided to zoom into it to clearly see the pattern around the 0 tick on the x-axis. "
   ]
  },
  {
   "cell_type": "code",
   "execution_count": 21,
   "metadata": {},
   "outputs": [
    {
     "data": {
      "text/plain": [
       "Text(0, 0.5, 'Count')"
      ]
     },
     "execution_count": 21,
     "metadata": {},
     "output_type": "execute_result"
    },
    {
     "data": {
      "image/png": "[encoded data removed]",
      "text/plain": [
       "<Figure size 432x288 with 1 Axes>"
      ]
     },
     "metadata": {
      "needs_background": "light"
     },
     "output_type": "display_data"
    }
   ],
   "source": [
    "movie_small = movie_freq[movie_freq['ratings_count'] <= 50]\n",
    "ax = movie_small.plot.scatter(x='ratings_count', y='count')\n",
    "ax.set_xlabel(\"Number of ratings a movie has\")\n",
    "ax.set_ylabel(\"Count\")"
   ]
  },
  {
   "cell_type": "markdown",
   "metadata": {},
   "source": [
    "As seen from this scatterplot, there is no specific trend that seems to be clear, other than that there is a large amount of users that have rated between 0-10 movies. Due to the depth of this dataframe, since our movie database extends past 50,000 movies, we decided we cannot choose movies that have only 0-10 ratings, as it will result in a very sparse matrix. Therefore, we decided to go about another visualization trend to understand where the pattern of the number of ratings each movie has. "
   ]
  },
  {
   "cell_type": "code",
   "execution_count": 22,
   "metadata": {},
   "outputs": [
    {
     "data": {
      "image/png": "[encoded data removed]",
      "text/plain": [
       "<Figure size 432x288 with 1 Axes>"
      ]
     },
     "metadata": {
      "needs_background": "light"
     },
     "output_type": "display_data"
    }
   ],
   "source": [
    "boxplot = movie_df.boxplot(grid=False, column='ratings_count')"
   ]
  },
  {
   "cell_type": "markdown",
   "metadata": {},
   "source": [
    "Because this boxplot does not tell us much information as well, we are going to use the five number summary to extract more information. "
   ]
  },
  {
   "cell_type": "code",
   "execution_count": 23,
   "metadata": {},
   "outputs": [
    {
     "data": {
      "text/plain": [
       "count    53889.000000\n",
       "mean       515.011301\n",
       "std       2934.758939\n",
       "min          1.000000\n",
       "25%          2.000000\n",
       "50%          7.000000\n",
       "75%         48.000000\n",
       "max      97999.000000\n",
       "Name: ratings_count, dtype: float64"
      ]
     },
     "execution_count": 23,
     "metadata": {},
     "output_type": "execute_result"
    }
   ],
   "source": [
    "movie_df['ratings_count'].describe()"
   ]
  },
  {
   "cell_type": "markdown",
   "metadata": {},
   "source": [
    "This summary shows that the mean number of ratings is 515, and the maximum number of ratings is 97,999. In order to make more sense from this summary, we looked at the percentile distributions, since the mean can be heavily influenced by the outliers in this data. The percentile distribution shows that 50% of the movies have more than 7 ratings, and that 25% of the movies have more than 48 ratings. In order to sample this dataset down greatly to something that we can run on our system, we decided that we are going to work with the top 25% of the data, and set popular movies to those that have been rated at least 48 times. "
   ]
  },
  {
   "cell_type": "markdown",
   "metadata": {},
   "source": [
    "In addition, we mentioned that we want to recommend good movies to our customers. Our analyses of what is considered a \"good\" movie is going to be done here, although it will not be implemented while sampling the dataset, rather while extracting the top 10 movies to recommend to the customer"
   ]
  },
  {
   "cell_type": "code",
   "execution_count": 24,
   "metadata": {},
   "outputs": [
    {
     "data": {
      "text/plain": [
       "Text(0.5, 1.0, 'average ratings for users')"
      ]
     },
     "execution_count": 24,
     "metadata": {},
     "output_type": "execute_result"
    },
    {
     "data": {
      "image/png": "[encoded data removed]",
      "text/plain": [
       "<Figure size 432x288 with 1 Axes>"
      ]
     },
     "metadata": {
      "needs_background": "light"
     },
     "output_type": "display_data"
    }
   ],
   "source": [
    "plt.hist(user_df['average_rating']);\n",
    "plt.title(\"average ratings for users\")"
   ]
  },
  {
   "cell_type": "code",
   "execution_count": 25,
   "metadata": {},
   "outputs": [
    {
     "data": {
      "image/png": "[encoded data removed]",
      "text/plain": [
       "<Figure size 432x288 with 1 Axes>"
      ]
     },
     "metadata": {
      "needs_background": "light"
     },
     "output_type": "display_data"
    }
   ],
   "source": [
    "fig = plt.figure()\n",
    "g = data.groupby('rating').count().reset_index();\n",
    "x = g['rating']\n",
    "y = g['userId']\n",
    "plt.bar(x, y, width = 0.4);\n",
    "plt.title(\"ratings\");"
   ]
  },
  {
   "cell_type": "code",
   "execution_count": 26,
   "metadata": {},
   "outputs": [
    {
     "data": {
      "text/plain": [
       "count    2.775344e+07\n",
       "mean     3.530445e+00\n",
       "std      1.066353e+00\n",
       "min      5.000000e-01\n",
       "25%      3.000000e+00\n",
       "50%      3.500000e+00\n",
       "75%      4.000000e+00\n",
       "max      5.000000e+00\n",
       "Name: rating, dtype: float64"
      ]
     },
     "execution_count": 26,
     "metadata": {},
     "output_type": "execute_result"
    }
   ],
   "source": [
    "data['rating'].describe()"
   ]
  },
  {
   "cell_type": "markdown",
   "metadata": {},
   "source": [
    "The 2 plots are quite similar. We see through the bottom plots that more people give whole value numbers rather than halves. In addition, most people vote 4. The average rating given to a user is more normal. But similarly, most people's average ratings are around 3.5 to 4. Hence, when we determine whether or not a recommendation is \"good\", we will only consider values equal or greater than 3.5. This boundary will determine our accuracy in future parts of the project."
   ]
  },
  {
   "cell_type": "markdown",
   "metadata": {},
   "source": [
    "### Sampling"
   ]
  },
  {
   "cell_type": "markdown",
   "metadata": {},
   "source": [
    "We are initially randomly cutting our dataset down to five percent of the original data to work with a dataset that can be run on our computers. "
   ]
  },
  {
   "cell_type": "code",
   "execution_count": 4,
   "metadata": {},
   "outputs": [],
   "source": [
    "data_sample = data.sample(frac=0.05)"
   ]
  },
  {
   "cell_type": "markdown",
   "metadata": {},
   "source": [
    "Next, using this dataset, we are going to sample it down to the parameters established above in order to stay in line with our business objective. "
   ]
  },
  {
   "cell_type": "code",
   "execution_count": 5,
   "metadata": {},
   "outputs": [],
   "source": [
    "def sample_dataset(data, min_rated, user_min, user_max):\n",
    "    grouped_user = data.groupby(['userId']).count()\n",
    "    better_users = grouped_user[(grouped_user['rating'] > user_min) & (grouped_user['rating'] < user_max)].reset_index()['userId']\n",
    "    rated_data = data[data['userId'].isin(better_users)]\n",
    "    #min times rated\n",
    "    group_times_rated = rated_data.groupby(['movieId']).count()\n",
    "    better_movies_2 = group_times_rated[group_times_rated['userId'] > min_rated].reset_index()['movieId']\n",
    "    rated_data_2 = rated_data[rated_data['movieId'].isin(better_movies_2)]\n",
    "    return rated_data_2"
   ]
  },
  {
   "cell_type": "code",
   "execution_count": 6,
   "metadata": {},
   "outputs": [],
   "source": [
    "data_sample = sample_dataset(data_sample, 48, 15, 3000)"
   ]
  },
  {
   "cell_type": "code",
   "execution_count": 7,
   "metadata": {},
   "outputs": [
    {
     "name": "stdout",
     "output_type": "stream",
     "text": [
      "556218\n"
     ]
    }
   ],
   "source": [
    "print(len(data_sample))"
   ]
  },
  {
   "cell_type": "code",
   "execution_count": 8,
   "metadata": {},
   "outputs": [
    {
     "name": "stdout",
     "output_type": "stream",
     "text": [
      "Number of users: 21381\n",
      "Number of movies: 3138\n"
     ]
    }
   ],
   "source": [
    "print(\"Number of users:\", data_sample['userId'].nunique())\n",
    "print(\"Number of movies:\", data_sample['movieId'].nunique())"
   ]
  },
  {
   "cell_type": "markdown",
   "metadata": {},
   "source": [
    "Split into training and test data: 80% training and 20% testing. "
   ]
  },
  {
   "cell_type": "code",
   "execution_count": 9,
   "metadata": {},
   "outputs": [],
   "source": [
    "def train_test_split(data, test_percent):\n",
    "    test_df = pd.DataFrame() #new testing dataframe created with holdout values\n",
    "    users = [] \n",
    "    movies = [] \n",
    "    ratings = [] \n",
    "    for user, row in data.iterrows():\n",
    "        row = row.dropna().reset_index()\n",
    "        movieIds = list(row['movieId'])\n",
    "        holdouts = int(test_percent * len(row))\n",
    "        indices = random.sample(range(0, len(movieIds)), holdouts)\n",
    "        for index in indices: \n",
    "            movieId = movieIds[index]\n",
    "            ratings.append(data[movieId][user])\n",
    "            data[movieId][user] = float(\"nan\") #set value to nan for training matrix \n",
    "            users.append(user)\n",
    "            movies.append(movieId)\n",
    "\n",
    "    #create test dataframe \n",
    "    test_df['userId'] = users\n",
    "    test_df['movieId'] = movies\n",
    "    test_df['rating'] = ratings\n",
    "    \n",
    "    return data, test_df"
   ]
  },
  {
   "cell_type": "code",
   "execution_count": 10,
   "metadata": {},
   "outputs": [],
   "source": [
    "df_sample = data_sample.pivot(index='userId', columns='movieId', values='rating')\n",
    "training, test_df = train_test_split(df_sample, 0.2)"
   ]
  },
  {
   "cell_type": "code",
   "execution_count": 11,
   "metadata": {},
   "outputs": [],
   "source": [
    "#convert training matrix to long dataframe for cross-validation purposes later \n",
    "def training_long(matrix):\n",
    "    training_df = pd.DataFrame() #new testing dataframe created with holdout values\n",
    "    users = [] \n",
    "    movies = [] \n",
    "    ratings = [] \n",
    "    for user, row in matrix.iterrows():\n",
    "        row = row.dropna().reset_index()\n",
    "        movieIds = list(row['movieId'])\n",
    "        for movie in movieIds: \n",
    "            ratings.append(training[movie][user])\n",
    "            users.append(user)\n",
    "            movies.append(movie)\n",
    "\n",
    "    #create training dataframe \n",
    "    training_df['userId'] = users\n",
    "    training_df['movieId'] = movies\n",
    "    training_df['rating'] = ratings\n",
    "    return training_df"
   ]
  },
  {
   "cell_type": "code",
   "execution_count": 12,
   "metadata": {},
   "outputs": [],
   "source": [
    "training_df = training_long(training)\n",
    "#create a smaller development dataset to sanity check methods with 1,000 users \n",
    "df_dev = training.sample(n=1000, random_state = 1, axis = 0)"
   ]
  },
  {
   "cell_type": "markdown",
   "metadata": {},
   "source": [
    "## Brute Force Collaborative Filtering Methods"
   ]
  },
  {
   "cell_type": "markdown",
   "metadata": {},
   "source": [
    "### Item-based Collaborative Filtering\n",
    "#### Model"
   ]
  },
  {
   "cell_type": "code",
   "execution_count": 13,
   "metadata": {},
   "outputs": [
    {
     "data": {
      "text/html": [
       "<div>\n",
       "<style scoped>\n",
       "    .dataframe tbody tr th:only-of-type {\n",
       "        vertical-align: middle;\n",
       "    }\n",
       "\n",
       "    .dataframe tbody tr th {\n",
       "        vertical-align: top;\n",
       "    }\n",
       "\n",
       "    .dataframe thead th {\n",
       "        text-align: right;\n",
       "    }\n",
       "</style>\n",
       "<table border=\"1\" class=\"dataframe\">\n",
       "  <thead>\n",
       "    <tr style=\"text-align: right;\">\n",
       "      <th>userId</th>\n",
       "      <th>187531</th>\n",
       "      <th>156201</th>\n",
       "      <th>260626</th>\n",
       "      <th>252826</th>\n",
       "      <th>140641</th>\n",
       "      <th>95236</th>\n",
       "      <th>172370</th>\n",
       "      <th>17045</th>\n",
       "      <th>11309</th>\n",
       "      <th>73652</th>\n",
       "      <th>...</th>\n",
       "      <th>76924</th>\n",
       "      <th>213867</th>\n",
       "      <th>224662</th>\n",
       "      <th>114370</th>\n",
       "      <th>128062</th>\n",
       "      <th>218489</th>\n",
       "      <th>54159</th>\n",
       "      <th>271240</th>\n",
       "      <th>185894</th>\n",
       "      <th>44359</th>\n",
       "    </tr>\n",
       "    <tr>\n",
       "      <th>movieId</th>\n",
       "      <th></th>\n",
       "      <th></th>\n",
       "      <th></th>\n",
       "      <th></th>\n",
       "      <th></th>\n",
       "      <th></th>\n",
       "      <th></th>\n",
       "      <th></th>\n",
       "      <th></th>\n",
       "      <th></th>\n",
       "      <th></th>\n",
       "      <th></th>\n",
       "      <th></th>\n",
       "      <th></th>\n",
       "      <th></th>\n",
       "      <th></th>\n",
       "      <th></th>\n",
       "      <th></th>\n",
       "      <th></th>\n",
       "      <th></th>\n",
       "      <th></th>\n",
       "    </tr>\n",
       "  </thead>\n",
       "  <tbody>\n",
       "    <tr>\n",
       "      <th>1</th>\n",
       "      <td>NaN</td>\n",
       "      <td>NaN</td>\n",
       "      <td>NaN</td>\n",
       "      <td>NaN</td>\n",
       "      <td>3.5</td>\n",
       "      <td>NaN</td>\n",
       "      <td>NaN</td>\n",
       "      <td>NaN</td>\n",
       "      <td>NaN</td>\n",
       "      <td>NaN</td>\n",
       "      <td>...</td>\n",
       "      <td>NaN</td>\n",
       "      <td>NaN</td>\n",
       "      <td>NaN</td>\n",
       "      <td>NaN</td>\n",
       "      <td>NaN</td>\n",
       "      <td>NaN</td>\n",
       "      <td>NaN</td>\n",
       "      <td>NaN</td>\n",
       "      <td>NaN</td>\n",
       "      <td>NaN</td>\n",
       "    </tr>\n",
       "    <tr>\n",
       "      <th>2</th>\n",
       "      <td>NaN</td>\n",
       "      <td>NaN</td>\n",
       "      <td>NaN</td>\n",
       "      <td>NaN</td>\n",
       "      <td>NaN</td>\n",
       "      <td>NaN</td>\n",
       "      <td>NaN</td>\n",
       "      <td>NaN</td>\n",
       "      <td>NaN</td>\n",
       "      <td>NaN</td>\n",
       "      <td>...</td>\n",
       "      <td>NaN</td>\n",
       "      <td>NaN</td>\n",
       "      <td>NaN</td>\n",
       "      <td>NaN</td>\n",
       "      <td>NaN</td>\n",
       "      <td>NaN</td>\n",
       "      <td>NaN</td>\n",
       "      <td>NaN</td>\n",
       "      <td>NaN</td>\n",
       "      <td>NaN</td>\n",
       "    </tr>\n",
       "    <tr>\n",
       "      <th>3</th>\n",
       "      <td>NaN</td>\n",
       "      <td>NaN</td>\n",
       "      <td>NaN</td>\n",
       "      <td>NaN</td>\n",
       "      <td>NaN</td>\n",
       "      <td>NaN</td>\n",
       "      <td>NaN</td>\n",
       "      <td>NaN</td>\n",
       "      <td>NaN</td>\n",
       "      <td>NaN</td>\n",
       "      <td>...</td>\n",
       "      <td>3.0</td>\n",
       "      <td>NaN</td>\n",
       "      <td>NaN</td>\n",
       "      <td>NaN</td>\n",
       "      <td>NaN</td>\n",
       "      <td>NaN</td>\n",
       "      <td>NaN</td>\n",
       "      <td>NaN</td>\n",
       "      <td>NaN</td>\n",
       "      <td>NaN</td>\n",
       "    </tr>\n",
       "    <tr>\n",
       "      <th>5</th>\n",
       "      <td>NaN</td>\n",
       "      <td>NaN</td>\n",
       "      <td>NaN</td>\n",
       "      <td>NaN</td>\n",
       "      <td>NaN</td>\n",
       "      <td>NaN</td>\n",
       "      <td>NaN</td>\n",
       "      <td>NaN</td>\n",
       "      <td>NaN</td>\n",
       "      <td>NaN</td>\n",
       "      <td>...</td>\n",
       "      <td>NaN</td>\n",
       "      <td>NaN</td>\n",
       "      <td>NaN</td>\n",
       "      <td>NaN</td>\n",
       "      <td>NaN</td>\n",
       "      <td>NaN</td>\n",
       "      <td>NaN</td>\n",
       "      <td>NaN</td>\n",
       "      <td>NaN</td>\n",
       "      <td>NaN</td>\n",
       "    </tr>\n",
       "    <tr>\n",
       "      <th>6</th>\n",
       "      <td>NaN</td>\n",
       "      <td>NaN</td>\n",
       "      <td>NaN</td>\n",
       "      <td>NaN</td>\n",
       "      <td>NaN</td>\n",
       "      <td>NaN</td>\n",
       "      <td>NaN</td>\n",
       "      <td>NaN</td>\n",
       "      <td>NaN</td>\n",
       "      <td>NaN</td>\n",
       "      <td>...</td>\n",
       "      <td>NaN</td>\n",
       "      <td>NaN</td>\n",
       "      <td>NaN</td>\n",
       "      <td>NaN</td>\n",
       "      <td>NaN</td>\n",
       "      <td>NaN</td>\n",
       "      <td>NaN</td>\n",
       "      <td>NaN</td>\n",
       "      <td>NaN</td>\n",
       "      <td>NaN</td>\n",
       "    </tr>\n",
       "  </tbody>\n",
       "</table>\n",
       "<p>5 rows × 1000 columns</p>\n",
       "</div>"
      ],
      "text/plain": [
       "userId   187531  156201  260626  252826  140641  95236   172370  17045   \\\n",
       "movieId                                                                   \n",
       "1           NaN     NaN     NaN     NaN     3.5     NaN     NaN     NaN   \n",
       "2           NaN     NaN     NaN     NaN     NaN     NaN     NaN     NaN   \n",
       "3           NaN     NaN     NaN     NaN     NaN     NaN     NaN     NaN   \n",
       "5           NaN     NaN     NaN     NaN     NaN     NaN     NaN     NaN   \n",
       "6           NaN     NaN     NaN     NaN     NaN     NaN     NaN     NaN   \n",
       "\n",
       "userId   11309   73652   ...  76924   213867  224662  114370  128062  218489  \\\n",
       "movieId                  ...                                                   \n",
       "1           NaN     NaN  ...     NaN     NaN     NaN     NaN     NaN     NaN   \n",
       "2           NaN     NaN  ...     NaN     NaN     NaN     NaN     NaN     NaN   \n",
       "3           NaN     NaN  ...     3.0     NaN     NaN     NaN     NaN     NaN   \n",
       "5           NaN     NaN  ...     NaN     NaN     NaN     NaN     NaN     NaN   \n",
       "6           NaN     NaN  ...     NaN     NaN     NaN     NaN     NaN     NaN   \n",
       "\n",
       "userId   54159   271240  185894  44359   \n",
       "movieId                                  \n",
       "1           NaN     NaN     NaN     NaN  \n",
       "2           NaN     NaN     NaN     NaN  \n",
       "3           NaN     NaN     NaN     NaN  \n",
       "5           NaN     NaN     NaN     NaN  \n",
       "6           NaN     NaN     NaN     NaN  \n",
       "\n",
       "[5 rows x 1000 columns]"
      ]
     },
     "execution_count": 13,
     "metadata": {},
     "output_type": "execute_result"
    }
   ],
   "source": [
    "#transpose the dataframe such that it is an item-user matrix\n",
    "training_t = training.T\n",
    "df_dev = df_dev.T\n",
    "df_dev.head()"
   ]
  },
  {
   "cell_type": "code",
   "execution_count": 14,
   "metadata": {},
   "outputs": [],
   "source": [
    "def find_averages(matrix):\n",
    "    avg_dict = {}\n",
    "    for index, user in matrix.iterrows():\n",
    "        tot = 0\n",
    "        length = 0\n",
    "        for rating in user: \n",
    "            if not math.isnan(float(rating)):\n",
    "                tot += rating \n",
    "                length += 1\n",
    "                \n",
    "        avg = tot/length \n",
    "        avg_dict[index] = avg\n",
    "        \n",
    "    return avg_dict"
   ]
  },
  {
   "cell_type": "code",
   "execution_count": 15,
   "metadata": {},
   "outputs": [],
   "source": [
    "train_avg = find_averages(training_t)"
   ]
  },
  {
   "cell_type": "code",
   "execution_count": 16,
   "metadata": {},
   "outputs": [],
   "source": [
    "def pearson_corr(matrix, movie1, movie2, avg_list):\n",
    "    tot_numerator = 0 \n",
    "    tot_movie1_den = 0 \n",
    "    tot_movie2_den = 0 \n",
    "    for user in matrix: \n",
    "        if not math.isnan(float(matrix[user][movie1])) and not math.isnan(float(matrix[user][movie2])):\n",
    "            movie1_user = matrix[user][movie1] - avg_list[movie1]\n",
    "            movie2_user = matrix[user][movie2] - avg_list[movie2]\n",
    "            tot_numerator += movie1_user * movie2_user\n",
    "            tot_movie1_den += movie1_user ** 2\n",
    "            tot_movie2_den += movie2_user ** 2\n",
    "                   \n",
    "    denominator = (tot_movie1_den * tot_movie2_den) ** (1/2)\n",
    "    if denominator == 0: \n",
    "        return 0 \n",
    "    sim = tot_numerator / denominator \n",
    "    return sim "
   ]
  },
  {
   "cell_type": "code",
   "execution_count": 17,
   "metadata": {},
   "outputs": [],
   "source": [
    "def topkNeighbors(matrix, user, movie, k, avg_list):\n",
    "    sim_matrix = {} \n",
    "    user_df = matrix[user].dropna().reset_index() \n",
    "    for other_movie in user_df['movieId']:\n",
    "        sim_uv = pearson_corr(matrix, other_movie, movie, avg_list)\n",
    "        sim_matrix[other_movie] = sim_uv \n",
    "            \n",
    "    sort_sims = sorted(sim_matrix.items(), key=lambda x: x[1], reverse=True)\n",
    "    if len(sort_sims) < k:\n",
    "        return sort_sims\n",
    "    return sort_sims[:k]"
   ]
  },
  {
   "cell_type": "code",
   "execution_count": 18,
   "metadata": {},
   "outputs": [],
   "source": [
    "def calculate_rating(matrix, user, movie, k, avg_list):\n",
    "    num = 0 \n",
    "    den = 0 \n",
    "    topk = topkNeighbors(matrix, user, movie, k, avg_list) \n",
    "    for pair in topk: \n",
    "        num += pair[1] * (matrix[user][pair[0]]) \n",
    "        den += abs(pair[1])\n",
    "            \n",
    "    rating = num/den\n",
    "    return rating"
   ]
  },
  {
   "cell_type": "markdown",
   "metadata": {},
   "source": [
    "We tested our finalized calculate_rating method with a sample user and movieId to show that our method works. The reason we could not implement these methods in our further steps is due to time limitations and space constraints."
   ]
  },
  {
   "cell_type": "code",
   "execution_count": 19,
   "metadata": {},
   "outputs": [
    {
     "name": "stdout",
     "output_type": "stream",
     "text": [
      "3.4585438473350134\n"
     ]
    }
   ],
   "source": [
    "rating = calculate_rating(training_t, training_t.columns[1], training_t.index[1], 10, train_avg)\n",
    "print(rating)"
   ]
  },
  {
   "cell_type": "markdown",
   "metadata": {},
   "source": [
    "We rewrote the item-based collaborative filtering model using the surprise package with their KNNWithMeans and cross-validate functions. "
   ]
  },
  {
   "cell_type": "code",
   "execution_count": 13,
   "metadata": {},
   "outputs": [],
   "source": [
    "def get_model_ib(training_df, k):\n",
    "    moviescales = Reader(rating_scale=(0.5, 5.0))\n",
    "    data_training = Dataset.load_from_df(training_df, moviescales)    \n",
    "    trainset = data_training.build_full_trainset()\n",
    "    knn_model = KNNWithMeans(sim_options = {'name':'pearson', 'user_based': False}, k=k)\n",
    "    knn_model.fit(trainset)\n",
    "    return knn_model "
   ]
  },
  {
   "cell_type": "code",
   "execution_count": 14,
   "metadata": {},
   "outputs": [],
   "source": [
    "def get_predictions(model, test_df):\n",
    "    preds = [] \n",
    "    for index, row in test_df.iterrows(): \n",
    "        pred = knn_model.predict(row['userId'], row['movieId'], r_ui=row['rating'], verbose=False)\n",
    "        preds.append(pred.est)\n",
    "    \n",
    "    return preds "
   ]
  },
  {
   "cell_type": "markdown",
   "metadata": {},
   "source": [
    "### Evaluation"
   ]
  },
  {
   "cell_type": "markdown",
   "metadata": {},
   "source": [
    "### Cross Validation"
   ]
  },
  {
   "cell_type": "code",
   "execution_count": 16,
   "metadata": {},
   "outputs": [],
   "source": [
    "def cross_valid_user(matrix, folds, k):\n",
    "    percent = 1/folds \n",
    "    rmses = [] \n",
    "    #train = None \n",
    "    #holdout_dict = None\n",
    "    for i in range(1, folds+1):\n",
    "        train = matrix.copy()\n",
    "        holdout_dict = {} \n",
    "        for user, row in matrix.iterrows(): \n",
    "            row = row.dropna().reset_index()\n",
    "            movieIds = list(row['movieId'])\n",
    "            holdouts = int(percent * len(row))\n",
    "            indices = random.sample(range(0, len(movieIds)), holdouts)\n",
    "            holdout_dict[user] = [] \n",
    "            for index in indices: \n",
    "                movieId = movieIds[index]\n",
    "                #print(matrix[movieId][user])\n",
    "                train[movieId][user] = float(\"nan\")\n",
    "                #print(matrix[movieId][user])\n",
    "                holdout_dict[user].append(movieId)\n",
    "        \n",
    "        train = train.T\n",
    "        diff_sq = []  \n",
    "        avg_list = find_averages(train)\n",
    "        for user in holdout_dict: \n",
    "            for movie in holdout_dict[user]:\n",
    "                prediction = calculate_rating(matrix, user, movie, k, avg_list)\n",
    "                #print(\"Prediction:\", prediction)\n",
    "                diff_sq.append((matrix[movie][user] - prediction) ** 2)\n",
    "                #print(\"Difference:\", diff_sq)\n",
    "        \n",
    "        \n",
    "        rmse = (sum(diff_sq) / len(diff_sq)) ** (1/2)\n",
    "        rmses.append(rmse)\n",
    "        \n",
    "        \n",
    "    avg_rmse = sum(rmses)/len(rmses)           \n",
    "    return avg_rmse"
   ]
  },
  {
   "cell_type": "code",
   "execution_count": 15,
   "metadata": {},
   "outputs": [],
   "source": [
    "k_range = [2,4,6,10,50,100,500]"
   ]
  },
  {
   "cell_type": "code",
   "execution_count": 17,
   "metadata": {},
   "outputs": [],
   "source": [
    "def hypertune(matrix, k_range, folds):\n",
    "    rmse_list = [] \n",
    "    for k in k_range: \n",
    "        rmse = cross_valid_user(matrix, folds, k)   \n",
    "        rmse_list.append(rmse)\n",
    "        \n",
    "    return rmse_list "
   ]
  },
  {
   "cell_type": "code",
   "execution_count": 18,
   "metadata": {},
   "outputs": [],
   "source": [
    "#rmse_list = hypertune(training, k_range, 5)"
   ]
  },
  {
   "cell_type": "markdown",
   "metadata": {},
   "source": [
    "Our above cross-validation methods(using the methods we wrote) were taking too long, around upwards of 16 hours, and thus, we moved to using the surprise package model methods written above. "
   ]
  },
  {
   "cell_type": "code",
   "execution_count": 19,
   "metadata": {},
   "outputs": [],
   "source": [
    "#run on small dataset first to sanity check our cross-validation method \n",
    "scales = Reader(rating_scale=(0.5, 5.0))\n",
    "small_training = training_df.sample(n=1000, random_state = 1, axis = 0)\n",
    "training_dev = Dataset.load_from_df(small_training[['userId', 'movieId', 'rating']], scales)"
   ]
  },
  {
   "cell_type": "code",
   "execution_count": 20,
   "metadata": {},
   "outputs": [
    {
     "name": "stdout",
     "output_type": "stream",
     "text": [
      "Computing the pearson similarity matrix...\n",
      "Done computing similarity matrix.\n",
      "Computing the pearson similarity matrix...\n",
      "Done computing similarity matrix.\n",
      "Computing the pearson similarity matrix...\n",
      "Done computing similarity matrix.\n",
      "Computing the pearson similarity matrix...\n",
      "Done computing similarity matrix.\n",
      "Computing the pearson similarity matrix...\n",
      "Done computing similarity matrix.\n",
      "Computing the pearson similarity matrix...\n",
      "Done computing similarity matrix.\n",
      "Computing the pearson similarity matrix...\n",
      "Done computing similarity matrix.\n",
      "Computing the pearson similarity matrix...\n",
      "Done computing similarity matrix.\n",
      "Computing the pearson similarity matrix...\n",
      "Done computing similarity matrix.\n",
      "Computing the pearson similarity matrix...\n",
      "Done computing similarity matrix.\n",
      "Computing the pearson similarity matrix...\n",
      "Done computing similarity matrix.\n",
      "Computing the pearson similarity matrix...\n",
      "Done computing similarity matrix.\n",
      "Computing the pearson similarity matrix...\n",
      "Done computing similarity matrix.\n",
      "Computing the pearson similarity matrix...\n",
      "Done computing similarity matrix.\n",
      "Computing the pearson similarity matrix...\n",
      "Done computing similarity matrix.\n",
      "Computing the pearson similarity matrix...\n",
      "Done computing similarity matrix.\n",
      "Computing the pearson similarity matrix...\n",
      "Done computing similarity matrix.\n",
      "Computing the pearson similarity matrix...\n",
      "Done computing similarity matrix.\n",
      "Computing the pearson similarity matrix...\n",
      "Done computing similarity matrix.\n",
      "Computing the pearson similarity matrix...\n",
      "Done computing similarity matrix.\n",
      "Computing the pearson similarity matrix...\n",
      "Done computing similarity matrix.\n",
      "Computing the pearson similarity matrix...\n",
      "Done computing similarity matrix.\n",
      "Computing the pearson similarity matrix...\n",
      "Done computing similarity matrix.\n",
      "Computing the pearson similarity matrix...\n",
      "Done computing similarity matrix.\n",
      "Computing the pearson similarity matrix...\n",
      "Done computing similarity matrix.\n",
      "Computing the pearson similarity matrix...\n",
      "Done computing similarity matrix.\n",
      "Computing the pearson similarity matrix...\n",
      "Done computing similarity matrix.\n",
      "Computing the pearson similarity matrix...\n",
      "Done computing similarity matrix.\n",
      "Computing the pearson similarity matrix...\n",
      "Done computing similarity matrix.\n",
      "Computing the pearson similarity matrix...\n",
      "Done computing similarity matrix.\n",
      "Computing the pearson similarity matrix...\n",
      "Done computing similarity matrix.\n",
      "Computing the pearson similarity matrix...\n",
      "Done computing similarity matrix.\n",
      "Computing the pearson similarity matrix...\n",
      "Done computing similarity matrix.\n",
      "Computing the pearson similarity matrix...\n",
      "Done computing similarity matrix.\n",
      "Computing the pearson similarity matrix...\n",
      "Done computing similarity matrix.\n",
      "Computing the pearson similarity matrix...\n",
      "Done computing similarity matrix.\n",
      "Computing the pearson similarity matrix...\n",
      "Done computing similarity matrix.\n",
      "Computing the pearson similarity matrix...\n",
      "Done computing similarity matrix.\n",
      "Computing the pearson similarity matrix...\n",
      "Done computing similarity matrix.\n",
      "Computing the pearson similarity matrix...\n",
      "Done computing similarity matrix.\n",
      "Computing the pearson similarity matrix...\n",
      "Done computing similarity matrix.\n",
      "Computing the pearson similarity matrix...\n",
      "Done computing similarity matrix.\n",
      "Computing the pearson similarity matrix...\n",
      "Done computing similarity matrix.\n",
      "Computing the pearson similarity matrix...\n",
      "Done computing similarity matrix.\n",
      "Computing the pearson similarity matrix...\n",
      "Done computing similarity matrix.\n",
      "Computing the pearson similarity matrix...\n",
      "Done computing similarity matrix.\n",
      "Computing the pearson similarity matrix...\n",
      "Done computing similarity matrix.\n",
      "Computing the pearson similarity matrix...\n",
      "Done computing similarity matrix.\n",
      "Computing the pearson similarity matrix...\n",
      "Done computing similarity matrix.\n",
      "Computing the pearson similarity matrix...\n",
      "Done computing similarity matrix.\n",
      "Computing the pearson similarity matrix...\n",
      "Done computing similarity matrix.\n",
      "Computing the pearson similarity matrix...\n",
      "Done computing similarity matrix.\n",
      "Computing the pearson similarity matrix...\n",
      "Done computing similarity matrix.\n",
      "Computing the pearson similarity matrix...\n",
      "Done computing similarity matrix.\n",
      "Computing the pearson similarity matrix...\n",
      "Done computing similarity matrix.\n",
      "Computing the pearson similarity matrix...\n",
      "Done computing similarity matrix.\n",
      "Computing the pearson similarity matrix...\n",
      "Done computing similarity matrix.\n",
      "Computing the pearson similarity matrix...\n",
      "Done computing similarity matrix.\n",
      "Computing the pearson similarity matrix...\n",
      "Done computing similarity matrix.\n",
      "Computing the pearson similarity matrix...\n",
      "Done computing similarity matrix.\n",
      "Computing the pearson similarity matrix...\n",
      "Done computing similarity matrix.\n",
      "Computing the pearson similarity matrix...\n",
      "Done computing similarity matrix.\n",
      "Computing the pearson similarity matrix...\n",
      "Done computing similarity matrix.\n",
      "Computing the pearson similarity matrix...\n",
      "Done computing similarity matrix.\n",
      "Computing the pearson similarity matrix...\n",
      "Done computing similarity matrix.\n",
      "Computing the pearson similarity matrix...\n",
      "Done computing similarity matrix.\n",
      "Computing the pearson similarity matrix...\n",
      "Done computing similarity matrix.\n",
      "Computing the pearson similarity matrix...\n",
      "Done computing similarity matrix.\n",
      "Computing the pearson similarity matrix...\n",
      "Done computing similarity matrix.\n",
      "Computing the pearson similarity matrix...\n",
      "Done computing similarity matrix.\n"
     ]
    }
   ],
   "source": [
    "rmses = []\n",
    "for k in k_range:\n",
    "    pearson = KNNWithMeans(k=k, sim_options = {'name':'pearson', 'user_based': False}) \n",
    "    results = cross_validate(pearson, training_dev, measures=['RMSE'], cv=10, verbose=False)\n",
    "    rmses.append(np.mean(results['test_rmse']))"
   ]
  },
  {
   "cell_type": "markdown",
   "metadata": {},
   "source": [
    "In this next run of cross-validation, we use the whole training dataframe that we initialized under the Sampling section, to tune k: the neighborhood size. The RMSE is calculated as a primary metric to determine the best k for the model, and MAE is calculated to add any additional insight in the case that RMSE does not distinguish. "
   ]
  },
  {
   "cell_type": "code",
   "execution_count": 21,
   "metadata": {},
   "outputs": [],
   "source": [
    "data_training = Dataset.load_from_df(training_df[['userId', 'movieId', 'rating']], scales)"
   ]
  },
  {
   "cell_type": "code",
   "execution_count": 22,
   "metadata": {},
   "outputs": [
    {
     "name": "stdout",
     "output_type": "stream",
     "text": [
      "Computing the pearson similarity matrix...\n",
      "Done computing similarity matrix.\n",
      "Computing the pearson similarity matrix...\n",
      "Done computing similarity matrix.\n",
      "Computing the pearson similarity matrix...\n",
      "Done computing similarity matrix.\n",
      "Computing the pearson similarity matrix...\n",
      "Done computing similarity matrix.\n",
      "Computing the pearson similarity matrix...\n",
      "Done computing similarity matrix.\n",
      "Computing the pearson similarity matrix...\n",
      "Done computing similarity matrix.\n",
      "Computing the pearson similarity matrix...\n",
      "Done computing similarity matrix.\n",
      "Computing the pearson similarity matrix...\n",
      "Done computing similarity matrix.\n",
      "Computing the pearson similarity matrix...\n",
      "Done computing similarity matrix.\n",
      "Computing the pearson similarity matrix...\n",
      "Done computing similarity matrix.\n",
      "Computing the pearson similarity matrix...\n",
      "Done computing similarity matrix.\n",
      "Computing the pearson similarity matrix...\n",
      "Done computing similarity matrix.\n",
      "Computing the pearson similarity matrix...\n",
      "Done computing similarity matrix.\n",
      "Computing the pearson similarity matrix...\n",
      "Done computing similarity matrix.\n",
      "Computing the pearson similarity matrix...\n",
      "Done computing similarity matrix.\n",
      "Computing the pearson similarity matrix...\n",
      "Done computing similarity matrix.\n",
      "Computing the pearson similarity matrix...\n",
      "Done computing similarity matrix.\n",
      "Computing the pearson similarity matrix...\n",
      "Done computing similarity matrix.\n",
      "Computing the pearson similarity matrix...\n",
      "Done computing similarity matrix.\n",
      "Computing the pearson similarity matrix...\n",
      "Done computing similarity matrix.\n",
      "Computing the pearson similarity matrix...\n",
      "Done computing similarity matrix.\n",
      "Computing the pearson similarity matrix...\n",
      "Done computing similarity matrix.\n",
      "Computing the pearson similarity matrix...\n",
      "Done computing similarity matrix.\n",
      "Computing the pearson similarity matrix...\n",
      "Done computing similarity matrix.\n",
      "Computing the pearson similarity matrix...\n",
      "Done computing similarity matrix.\n",
      "Computing the pearson similarity matrix...\n",
      "Done computing similarity matrix.\n",
      "Computing the pearson similarity matrix...\n",
      "Done computing similarity matrix.\n",
      "Computing the pearson similarity matrix...\n",
      "Done computing similarity matrix.\n",
      "Computing the pearson similarity matrix...\n",
      "Done computing similarity matrix.\n",
      "Computing the pearson similarity matrix...\n",
      "Done computing similarity matrix.\n",
      "Computing the pearson similarity matrix...\n",
      "Done computing similarity matrix.\n",
      "Computing the pearson similarity matrix...\n",
      "Done computing similarity matrix.\n",
      "Computing the pearson similarity matrix...\n",
      "Done computing similarity matrix.\n",
      "Computing the pearson similarity matrix...\n",
      "Done computing similarity matrix.\n",
      "Computing the pearson similarity matrix...\n",
      "Done computing similarity matrix.\n",
      "Computing the pearson similarity matrix...\n",
      "Done computing similarity matrix.\n",
      "Computing the pearson similarity matrix...\n",
      "Done computing similarity matrix.\n",
      "Computing the pearson similarity matrix...\n",
      "Done computing similarity matrix.\n",
      "Computing the pearson similarity matrix...\n",
      "Done computing similarity matrix.\n",
      "Computing the pearson similarity matrix...\n",
      "Done computing similarity matrix.\n",
      "Computing the pearson similarity matrix...\n",
      "Done computing similarity matrix.\n",
      "Computing the pearson similarity matrix...\n",
      "Done computing similarity matrix.\n",
      "Computing the pearson similarity matrix...\n",
      "Done computing similarity matrix.\n",
      "Computing the pearson similarity matrix...\n",
      "Done computing similarity matrix.\n",
      "Computing the pearson similarity matrix...\n",
      "Done computing similarity matrix.\n",
      "Computing the pearson similarity matrix...\n",
      "Done computing similarity matrix.\n",
      "Computing the pearson similarity matrix...\n",
      "Done computing similarity matrix.\n",
      "Computing the pearson similarity matrix...\n",
      "Done computing similarity matrix.\n",
      "Computing the pearson similarity matrix...\n",
      "Done computing similarity matrix.\n",
      "Computing the pearson similarity matrix...\n",
      "Done computing similarity matrix.\n",
      "Computing the pearson similarity matrix...\n",
      "Done computing similarity matrix.\n",
      "Computing the pearson similarity matrix...\n",
      "Done computing similarity matrix.\n",
      "Computing the pearson similarity matrix...\n",
      "Done computing similarity matrix.\n",
      "Computing the pearson similarity matrix...\n",
      "Done computing similarity matrix.\n",
      "Computing the pearson similarity matrix...\n",
      "Done computing similarity matrix.\n",
      "Computing the pearson similarity matrix...\n",
      "Done computing similarity matrix.\n",
      "Computing the pearson similarity matrix...\n",
      "Done computing similarity matrix.\n",
      "Computing the pearson similarity matrix...\n",
      "Done computing similarity matrix.\n",
      "Computing the pearson similarity matrix...\n",
      "Done computing similarity matrix.\n",
      "Computing the pearson similarity matrix...\n",
      "Done computing similarity matrix.\n",
      "Computing the pearson similarity matrix...\n",
      "Done computing similarity matrix.\n",
      "Computing the pearson similarity matrix...\n",
      "Done computing similarity matrix.\n",
      "Computing the pearson similarity matrix...\n",
      "Done computing similarity matrix.\n",
      "Computing the pearson similarity matrix...\n",
      "Done computing similarity matrix.\n",
      "Computing the pearson similarity matrix...\n",
      "Done computing similarity matrix.\n",
      "Computing the pearson similarity matrix...\n",
      "Done computing similarity matrix.\n",
      "Computing the pearson similarity matrix...\n",
      "Done computing similarity matrix.\n",
      "Computing the pearson similarity matrix...\n",
      "Done computing similarity matrix.\n",
      "Computing the pearson similarity matrix...\n",
      "Done computing similarity matrix.\n",
      "Computing the pearson similarity matrix...\n",
      "Done computing similarity matrix.\n"
     ]
    }
   ],
   "source": [
    "rmses2 = []\n",
    "mae2 = []\n",
    "for k in k_range:\n",
    "    pearson = KNNWithMeans(k=k, sim_options = {'name':'pearson', 'user_based': False}) \n",
    "    results = cross_validate(pearson, data_training, measures=['RMSE', 'MAE'], cv=10, verbose=False)\n",
    "    rmses2.append(np.mean(results['test_rmse']))\n",
    "    mae2.append(np.mean(results['test_mae']))"
   ]
  },
  {
   "cell_type": "code",
   "execution_count": 23,
   "metadata": {},
   "outputs": [
    {
     "data": {
      "image/png": "[encoded data removed]",
      "text/plain": [
       "<Figure size 432x288 with 1 Axes>"
      ]
     },
     "metadata": {
      "needs_background": "light"
     },
     "output_type": "display_data"
    }
   ],
   "source": [
    "plt.figure()\n",
    "plt.plot(k_range, rmses2, label = 'rmse')\n",
    "plt.plot(k_range, mae2, label = 'mae')\n",
    "\n",
    "plt.title(\"RMSE and MAE values for K Nearest Neighbors\")\n",
    "plt.xlabel(\"Top K Neighbors\")\n",
    "plt.ylabel(\"value\")\n",
    "plt.legend()\n",
    "plt.show()"
   ]
  },
  {
   "cell_type": "code",
   "execution_count": 27,
   "metadata": {},
   "outputs": [
    {
     "name": "stdout",
     "output_type": "stream",
     "text": [
      "K: 50, RMSE: 0.9358156095999292\n"
     ]
    }
   ],
   "source": [
    "#get the min rmse value for KNN\n",
    "rmse_min = 0\n",
    "for i in range(len(rmses2)):\n",
    "    if rmses2[i] < rmses2[rmse_min]: \n",
    "        rmse_min = i\n",
    "        \n",
    "print(\"K: \" + str(k_range[rmse_min]) + \", RMSE: \" + str(rmses2[rmse_min]))"
   ]
  },
  {
   "cell_type": "markdown",
   "metadata": {},
   "source": [
    "As seen from the plot above, the RMSE and MAE metric follow similar patterns. There is a significant increase in accuracy between a 0-10 k value, and the accuracy levels out after, with very minor ups and downs. After finding the minimum RMSE value, we determined that setting the hyper-parameter to k=50 will be the best to proceed the rest of our model evaluations with. \n",
    "\n",
    "Even though RMSE is our primary evaluation metric, we took later metrics into account when determining k. When we set k=100 we noticed that our model is good at determining which movies that we recommend are truly good. However, it has difficulty at finding these relevant topics. In other words, it is not finding enough good recommendation which explains our initial low user coverage. Hence, we are using a smaller neighborhood size which will allow for more specific movie recommendations to the user rather than generalizing the preferences towards a popular vote."
   ]
  },
  {
   "cell_type": "markdown",
   "metadata": {},
   "source": [
    "### Accuracy Metrics"
   ]
  },
  {
   "cell_type": "markdown",
   "metadata": {},
   "source": [
    "We will use the results from this model run in order to evaluate our accuracy metrics. "
   ]
  },
  {
   "cell_type": "code",
   "execution_count": 28,
   "metadata": {},
   "outputs": [],
   "source": [
    "#load the data into the surprise dataset \n",
    "data_training = Dataset.load_from_df(training_df, scales)   \n",
    "trainset = data_training.build_full_trainset()"
   ]
  },
  {
   "cell_type": "code",
   "execution_count": 29,
   "metadata": {},
   "outputs": [
    {
     "name": "stdout",
     "output_type": "stream",
     "text": [
      "Computing the pearson similarity matrix...\n",
      "Done computing similarity matrix.\n"
     ]
    },
    {
     "data": {
      "text/plain": [
       "<surprise.prediction_algorithms.knns.KNNWithMeans at 0x11c7cac88>"
      ]
     },
     "execution_count": 29,
     "metadata": {},
     "output_type": "execute_result"
    }
   ],
   "source": [
    "#build a KNN with means model using pearson corr as our similarity measure \n",
    "knn_model = KNNWithMeans(sim_options = {'name':'pearson', 'user_based': False}, k=50)\n",
    "knn_model.fit(trainset)"
   ]
  },
  {
   "cell_type": "code",
   "execution_count": 30,
   "metadata": {},
   "outputs": [],
   "source": [
    "preds = [] \n",
    "for index, row in test_df.iterrows(): \n",
    "    pred = knn_model.predict(row['userId'], row['movieId'], r_ui=row['rating'], verbose=False)\n",
    "    preds.append(pred.est)"
   ]
  },
  {
   "cell_type": "markdown",
   "metadata": {},
   "source": [
    "#### Error Metric"
   ]
  },
  {
   "cell_type": "markdown",
   "metadata": {},
   "source": [
    "As mentioned above, the primary accuracy metric we are testing our whole dataset with is the root mean squared error. "
   ]
  },
  {
   "cell_type": "code",
   "execution_count": 31,
   "metadata": {},
   "outputs": [],
   "source": [
    "def get_rmse(pred, original):\n",
    "    rmse = (sum((pred-original)**2)/len(pred)) ** (1/2)\n",
    "    return rmse"
   ]
  },
  {
   "cell_type": "code",
   "execution_count": 33,
   "metadata": {},
   "outputs": [],
   "source": [
    "#additional error metric\n",
    "def get_mae(pred, original):\n",
    "    mae = sum(abs(original - pred)) / len(pred)\n",
    "    return mae"
   ]
  },
  {
   "cell_type": "code",
   "execution_count": 34,
   "metadata": {},
   "outputs": [
    {
     "name": "stdout",
     "output_type": "stream",
     "text": [
      "RMSE for test holdouts: 0.9091950316322946\n",
      "MAE for test holdoutes: 0.6910941605600635\n"
     ]
    }
   ],
   "source": [
    "rmse = get_rmse(preds, test_df['rating'])\n",
    "mae = get_mae(preds, test_df['rating'])\n",
    "print(\"RMSE for test holdouts:\", rmse)\n",
    "print(\"MAE for test holdoutes:\", mae)"
   ]
  },
  {
   "cell_type": "markdown",
   "metadata": {},
   "source": [
    "Root mean squared error calculates the standard deviation of the prediction errors. Ideally, we would like to have the RMSE as small as possible. In this scenario, our RMSE is so close to 1, where our data ranges on a scale from 1 to 5, meaning our predictions do not have a great accuracy. Predicting a movie to have a rating of 3.5 in the case that it actually is rated 2.5 is harmful to the company, because our system will recommend a movie that is not actually a good recommendation, reducing the trust the users have in our system to provide them with good content. \n",
    "\n",
    "Moving forward, we would like to tune our k(nearest neighbors) more thoroughly, testing a wide range of values, given extended time and space constraints. Having a more accurate k, will likely lead to a lower RMSE, and therefore, a higher accuracy in our predictions. "
   ]
  },
  {
   "cell_type": "markdown",
   "metadata": {},
   "source": [
    "#### Ranking Metric"
   ]
  },
  {
   "cell_type": "markdown",
   "metadata": {},
   "source": [
    "The **secondary** accuracy metric is the ranking metric: precision and recall. Precision measures the truly relevant recommendations out of everything recommended. Recall represents the truly relevant recommendations out of all relevant items."
   ]
  },
  {
   "cell_type": "markdown",
   "metadata": {},
   "source": [
    "We consider a rating of 3.5 and above to be a \"good\" rating. From the analyses done in our exploratory section, we determine that majority of the ratings are around 3-4, with around the top 25% of the ratings 4 or higher. Therefore, for users to consider a movie good, or one of the top movies out of the movies they've rated, we set the cutoff at 3.5 to distinguish it as good. From previous testing, we notice that setting a cutoff of 4 was too stringent and we would not recommend enough \"good\" movies. Hence, we think that 3.5 would be more suitable."
   ]
  },
  {
   "cell_type": "code",
   "execution_count": 36,
   "metadata": {},
   "outputs": [
    {
     "data": {
      "text/html": [
       "<div>\n",
       "<style scoped>\n",
       "    .dataframe tbody tr th:only-of-type {\n",
       "        vertical-align: middle;\n",
       "    }\n",
       "\n",
       "    .dataframe tbody tr th {\n",
       "        vertical-align: top;\n",
       "    }\n",
       "\n",
       "    .dataframe thead th {\n",
       "        text-align: right;\n",
       "    }\n",
       "</style>\n",
       "<table border=\"1\" class=\"dataframe\">\n",
       "  <thead>\n",
       "    <tr style=\"text-align: right;\">\n",
       "      <th></th>\n",
       "      <th>prediction</th>\n",
       "      <th>actual</th>\n",
       "    </tr>\n",
       "  </thead>\n",
       "  <tbody>\n",
       "    <tr>\n",
       "      <th>0</th>\n",
       "      <td>0</td>\n",
       "      <td>1</td>\n",
       "    </tr>\n",
       "    <tr>\n",
       "      <th>1</th>\n",
       "      <td>0</td>\n",
       "      <td>1</td>\n",
       "    </tr>\n",
       "    <tr>\n",
       "      <th>2</th>\n",
       "      <td>0</td>\n",
       "      <td>0</td>\n",
       "    </tr>\n",
       "    <tr>\n",
       "      <th>3</th>\n",
       "      <td>0</td>\n",
       "      <td>0</td>\n",
       "    </tr>\n",
       "    <tr>\n",
       "      <th>4</th>\n",
       "      <td>1</td>\n",
       "      <td>0</td>\n",
       "    </tr>\n",
       "  </tbody>\n",
       "</table>\n",
       "</div>"
      ],
      "text/plain": [
       "   prediction  actual\n",
       "0           0       1\n",
       "1           0       1\n",
       "2           0       0\n",
       "3           0       0\n",
       "4           1       0"
      ]
     },
     "execution_count": 36,
     "metadata": {},
     "output_type": "execute_result"
    }
   ],
   "source": [
    "#rewrite the actual ratings and predictions into two categories \n",
    "test_df_ratings = pd.DataFrame()\n",
    "test_df_ratings['prediction'] = preds\n",
    "test_df_ratings['actual'] = np.where(test_df['rating'] >= 4, 1, 0)\n",
    "test_df_ratings['prediction'] = np.where(test_df_ratings['prediction'] >= 4, 1, 0) \n",
    "test_df_ratings.head()"
   ]
  },
  {
   "cell_type": "code",
   "execution_count": 37,
   "metadata": {},
   "outputs": [],
   "source": [
    "#determine the number of true positives in the matrix \n",
    "def tp(matrix):\n",
    "    tp = 0\n",
    "    for i in range(len(matrix)):\n",
    "        if matrix['actual'][i] == 1 & matrix['prediction'][i] == 1:\n",
    "            tp += 1\n",
    "    return tp"
   ]
  },
  {
   "cell_type": "code",
   "execution_count": 38,
   "metadata": {},
   "outputs": [
    {
     "name": "stdout",
     "output_type": "stream",
     "text": [
      "Precision of test holdouts: 0.7478874466416935\n",
      "Recall of test holdouts: 0.3688190058856382\n"
     ]
    }
   ],
   "source": [
    "precision = tp(test_df_ratings) / sum(test_df_ratings['prediction'])\n",
    "print(\"Precision of test holdouts:\", precision)\n",
    "recall = tp(test_df_ratings) / sum(test_df_ratings['actual'])\n",
    "print(\"Recall of test holdouts:\", recall)"
   ]
  },
  {
   "cell_type": "markdown",
   "metadata": {},
   "source": [
    "From our results above, the precision is relatively high. Even though recall is low, it is not as much of a concern. The high precision indicates that the recommendations our users recieve our mostly relevant. The low recall indicates there are many unexplored relevant movies that our model does not capture. This can be explored further with analyses on novelty and serendipity."
   ]
  },
  {
   "cell_type": "markdown",
   "metadata": {},
   "source": [
    "### Coverage"
   ]
  },
  {
   "cell_type": "code",
   "execution_count": 39,
   "metadata": {},
   "outputs": [],
   "source": [
    "def get_top_recs_ib(ratings, preds, n):\n",
    "    #returns the top n recommendations \n",
    "    top_recs = {}\n",
    "    \n",
    "    for index, row in ratings.iterrows():\n",
    "        if row['userId'] not in top_recs.keys():\n",
    "            top_recs[row['userId']] = [(row['movieId'], preds[index], row['rating'])]\n",
    "        else:\n",
    "            top_recs[row['userId']].append((row['movieId'], preds[index], row['rating']))\n",
    "    \n",
    "    # sort the preds for each user and get the n highest ones.\n",
    "    for user, ratings in top_recs.items():\n",
    "        ratings.sort(key=lambda x: x[1], reverse=True)\n",
    "        top_recs[user] = ratings[:n]\n",
    "\n",
    "    return top_recs"
   ]
  },
  {
   "cell_type": "code",
   "execution_count": 40,
   "metadata": {},
   "outputs": [],
   "source": [
    "def user_coverage(top_recs, k):\n",
    "    user_cov = {}\n",
    "    tot = 0\n",
    "    for user in top_recs:\n",
    "        user_cov[user] = []\n",
    "        for ratings in top_recs[user]:\n",
    "            if ratings[2] >= 3.5:\n",
    "                user_cov[user].append(ratings[0])\n",
    "        if len(user_cov[user]) >= k:\n",
    "            tot += 1\n",
    "    return tot "
   ]
  },
  {
   "cell_type": "code",
   "execution_count": 41,
   "metadata": {},
   "outputs": [],
   "source": [
    "def item_coverage(top_recs, k):\n",
    "    item_cov = {}\n",
    "    tot = 0\n",
    "    for user in top_recs:\n",
    "        for ratings in top_recs[user]:\n",
    "            if ratings[0] not in item_cov.keys(): \n",
    "                item_cov[ratings[0]] = [] \n",
    "            if ratings[2] >= 3.5:\n",
    "                item_cov[ratings[0]].append(ratings[0])  \n",
    "                \n",
    "    for item in item_cov:\n",
    "        if len(item_cov[item]) >= k:\n",
    "            tot += 1        \n",
    "    return tot, item_cov"
   ]
  },
  {
   "cell_type": "code",
   "execution_count": 42,
   "metadata": {},
   "outputs": [
    {
     "name": "stdout",
     "output_type": "stream",
     "text": [
      "User Coverage of test set: 0.1525780920713717\n",
      "Item Coverage of test set: 0.8168253968253968\n"
     ]
    }
   ],
   "source": [
    "top_recs_test = get_top_recs_ib(test_df, preds, 10)\n",
    "user_cov_test = user_coverage(top_recs_test, 5) / len(top_recs_test)\n",
    "print (\"User Coverage of test set:\", user_cov_test)\n",
    "item_cov_ts, item_dict_ts = item_coverage(top_recs_test, 5)\n",
    "item_cov_test = item_cov_ts / len(item_dict_ts)\n",
    "print (\"Item Coverage of test set:\", item_cov_test)"
   ]
  },
  {
   "cell_type": "code",
   "execution_count": 43,
   "metadata": {},
   "outputs": [],
   "source": [
    "#decide to test on a range of k \"well\" users/items\n",
    "k = [4, 5, 6, 7, 8, 9, 10, 15] \n",
    "user_covs_test = []\n",
    "item_covs_test = [] \n",
    "\n",
    "for num in k: \n",
    "    user_cov_test = user_coverage(top_recs_test, num) / len(top_recs_test)\n",
    "    user_covs_test.append(user_cov_test)\n",
    "    item_cov_ts, item_dict_ts = item_coverage(top_recs_test, num)\n",
    "    item_cov_test = item_cov_ts / len(item_dict_ts)\n",
    "    item_covs_test.append(item_cov_test) "
   ]
  },
  {
   "cell_type": "code",
   "execution_count": 44,
   "metadata": {},
   "outputs": [
    {
     "data": {
      "image/png": "[encoded data removed]",
      "text/plain": [
       "<Figure size 432x288 with 1 Axes>"
      ]
     },
     "metadata": {
      "needs_background": "light"
     },
     "output_type": "display_data"
    }
   ],
   "source": [
    "plt.figure()\n",
    "plt.plot(k, user_covs_test)\n",
    "plt.title(\"User Test Coverages\")\n",
    "plt.xlabel('top k')\n",
    "plt.ylabel('coverage')\n",
    "plt.show()"
   ]
  },
  {
   "cell_type": "code",
   "execution_count": 45,
   "metadata": {},
   "outputs": [
    {
     "data": {
      "image/png": "[encoded data removed]",
      "text/plain": [
       "<Figure size 432x288 with 1 Axes>"
      ]
     },
     "metadata": {
      "needs_background": "light"
     },
     "output_type": "display_data"
    }
   ],
   "source": [
    "plt.figure()\n",
    "plt.plot(k, item_covs_test)\n",
    "plt.title(\"Item Test Coverages\")\n",
    "plt.xlabel('top k')\n",
    "plt.ylabel('coverage')\n",
    "plt.show()"
   ]
  },
  {
   "cell_type": "markdown",
   "metadata": {},
   "source": [
    "As we increase k, the model becomes more stringent and the coverage understandably decreases. We see that item test coverage works much better than user coverage. This suggests that many of our items can be recommended well to at least k users. On the flip side, not many users are receiving at least k items in their top 10 list. This suggests that our model is not picking up the subtleties of each user and not catering to their tastes properly."
   ]
  },
  {
   "cell_type": "markdown",
   "metadata": {},
   "source": [
    "### Downsampling Evaluation"
   ]
  },
  {
   "cell_type": "code",
   "execution_count": 46,
   "metadata": {},
   "outputs": [],
   "source": [
    "def downsampling(size):\n",
    "    start_time = time.time()\n",
    "    ds_data = data_sample.sample(frac=size)\n",
    "    df_sample = ds_data.pivot(index='userId', columns='movieId', values='rating')\n",
    "    training, test_df = train_test_split(df_sample, 0.2)\n",
    "    training_df = training_long(training)\n",
    "    model = get_model_ib(training_df, 100)\n",
    "    preds = get_predictions(model, test_df)\n",
    "    \n",
    "    #get overall accuracy \n",
    "    rmse = get_rmse(preds, test_df['rating'])\n",
    "    \n",
    "    #get user coverage: how many good movies are recommended for each other \n",
    "    top_recs = get_top_recs_ib(test_df, preds, 10)\n",
    "    user_cov = []\n",
    "    for user in top_recs:\n",
    "        tot = 0\n",
    "        for ratings in top_recs[user]:\n",
    "            if ratings[2] >= 3.5:\n",
    "                tot += 1\n",
    "        user_cov.append(tot/10)\n",
    "\n",
    "    #get runtime \n",
    "    runtime = time.time() - start_time\n",
    "    \n",
    "    return rmse, user_cov, runtime "
   ]
  },
  {
   "cell_type": "code",
   "execution_count": 47,
   "metadata": {},
   "outputs": [
    {
     "name": "stdout",
     "output_type": "stream",
     "text": [
      "Computing the pearson similarity matrix...\n",
      "Done computing similarity matrix.\n",
      "Computing the pearson similarity matrix...\n",
      "Done computing similarity matrix.\n",
      "Computing the pearson similarity matrix...\n",
      "Done computing similarity matrix.\n",
      "Computing the pearson similarity matrix...\n",
      "Done computing similarity matrix.\n"
     ]
    }
   ],
   "source": [
    "sizes = [0.25, 0.5, 0.75, 1]\n",
    "rmse_sizes = [] \n",
    "runtimes = [] \n",
    "user_covs = []\n",
    "for size in sizes: \n",
    "    rmse, user_cov, runtime = downsampling(size)\n",
    "    rmse_sizes.append(rmse)\n",
    "    runtimes.append(runtime)\n",
    "    user_covs.append(user_cov)"
   ]
  },
  {
   "cell_type": "markdown",
   "metadata": {},
   "source": [
    "Analyses on all following four plots is below. "
   ]
  },
  {
   "cell_type": "code",
   "execution_count": 48,
   "metadata": {},
   "outputs": [
    {
     "data": {
      "image/png": "[encoded data removed]",
      "text/plain": [
       "<Figure size 432x288 with 1 Axes>"
      ]
     },
     "metadata": {
      "needs_background": "light"
     },
     "output_type": "display_data"
    }
   ],
   "source": [
    "plt.figure()\n",
    "plt.plot(sizes, rmse_sizes)\n",
    "plt.title(\"RMSES for Dataset sizes\")\n",
    "plt.xlabel('Percent of Full Data Sample')\n",
    "plt.ylabel('RMSE')\n",
    "plt.show()"
   ]
  },
  {
   "cell_type": "code",
   "execution_count": 49,
   "metadata": {},
   "outputs": [
    {
     "data": {
      "image/png": "[encoded data removed]",
      "text/plain": [
       "<Figure size 432x288 with 1 Axes>"
      ]
     },
     "metadata": {
      "needs_background": "light"
     },
     "output_type": "display_data"
    }
   ],
   "source": [
    "plt.figure()\n",
    "plt.plot(sizes, runtimes)\n",
    "plt.title(\"runtime for Dataset sizes\")\n",
    "plt.xlabel('Percent of Full Data Sample')\n",
    "plt.ylabel('runtime(seconds)')\n",
    "plt.show()"
   ]
  },
  {
   "cell_type": "code",
   "execution_count": 50,
   "metadata": {},
   "outputs": [
    {
     "data": {
      "text/plain": [
       "Text(0.5, 0, '% of Full Dataset')"
      ]
     },
     "execution_count": 50,
     "metadata": {},
     "output_type": "execute_result"
    },
    {
     "data": {
      "image/png": "[encoded data removed]",
      "text/plain": [
       "<Figure size 432x288 with 1 Axes>"
      ]
     },
     "metadata": {
      "needs_background": "light"
     },
     "output_type": "display_data"
    }
   ],
   "source": [
    "fig, ax = plt.subplots();\n",
    "ax.boxplot(user_covs);\n",
    "ax.set_xticklabels(['0.25', '0.5', '0.75', '1']);\n",
    "ax.set_title(\"% of Good Movies Recommended per User\")\n",
    "ax.set_xlabel(\"% of Full Dataset\")"
   ]
  },
  {
   "cell_type": "markdown",
   "metadata": {},
   "source": [
    "We see that runtime drastically increases as we increase the proportion of data used for the model. RMSE decreases as we use more of the dataset. In addition, when we analyze the distribution of good recommendations over users, we see a clear increase as we increase the sample size. With all these put into consideration, we need to analyze the tradeoff to see how much of the data sample to use for this recommendation system. "
   ]
  },
  {
   "cell_type": "markdown",
   "metadata": {},
   "source": [
    "As of currently, this method needs more work before it can be implemented to meet our objective at a real company. Even though the item based coverage, RMSE, and MAE are not too bad, the user based coverage is quite low. This suggests that many users will not have a good user experience because they get recommended movies that they may not enjoy. We do see that decreasing the cutoff from 4 to 3.5 results in a drastically better coverage score for both user and item. However, we do not think such a cut off will be accurate because we want to recommend good movies rather than average movies.\n",
    "\n",
    "Run time would definitely be an aspect to watch out for because as the amount of data we receive increases, the runtime of these models will increase as well.\n",
    "\n",
    "In addition, we think it would be useful to tune the hyperparamters further on the ranking metrics such as user and item coverage, and precision and recall. The RMSEs have been very similar with different numbers of neighbors but coverage has varied greatly with our 2 tests of k of 50 and 100. We believe further testing neighborhood size with these coverage values would be very useful for the final model's viability.\n",
    "\n",
    "Future topics we would look into would be implementing genres and other context based models into our prediction to help us better cater to the consumers tastes. This will help us improve the user based coverage. We believe that context will drastically help our recommendations because we can provide users with items that may be less novel but better rated.\n",
    "\n",
    "Finally, we should not rely on the results of just one model, but create an ensemble with other methods as well. This way, the different models can target different aspects of the user to provide the best experience."
   ]
  },
  {
   "cell_type": "markdown",
   "metadata": {},
   "source": [
    "### Final Recommendation with Item-Based Collaborative Filtering"
   ]
  },
  {
   "cell_type": "code",
   "execution_count": 132,
   "metadata": {},
   "outputs": [],
   "source": [
    "#create a dataframe for all the nan values to fill out for the final recommendation \n",
    "toFill = pd.DataFrame() \n",
    "userIds = [] \n",
    "movieIds = [] \n",
    "for movie in df_sample: \n",
    "    users = df_sample[movie].index \n",
    "    for user in users: \n",
    "        rating = df_sample[movie][user]\n",
    "        if math.isnan(float(rating)): \n",
    "            userIds.append(user)\n",
    "            movieIds.append(movie)\n",
    "            \n",
    "toFill['userId'] = userIds\n",
    "toFill['movieId'] = movieIds"
   ]
  },
  {
   "cell_type": "code",
   "execution_count": 135,
   "metadata": {},
   "outputs": [
    {
     "data": {
      "text/html": [
       "<div>\n",
       "<style scoped>\n",
       "    .dataframe tbody tr th:only-of-type {\n",
       "        vertical-align: middle;\n",
       "    }\n",
       "\n",
       "    .dataframe tbody tr th {\n",
       "        vertical-align: top;\n",
       "    }\n",
       "\n",
       "    .dataframe thead th {\n",
       "        text-align: right;\n",
       "    }\n",
       "</style>\n",
       "<table border=\"1\" class=\"dataframe\">\n",
       "  <thead>\n",
       "    <tr style=\"text-align: right;\">\n",
       "      <th></th>\n",
       "      <th>userId</th>\n",
       "      <th>movieId</th>\n",
       "      <th>rating</th>\n",
       "    </tr>\n",
       "  </thead>\n",
       "  <tbody>\n",
       "    <tr>\n",
       "      <th>0</th>\n",
       "      <td>51</td>\n",
       "      <td>1</td>\n",
       "      <td>NaN</td>\n",
       "    </tr>\n",
       "    <tr>\n",
       "      <th>1</th>\n",
       "      <td>56</td>\n",
       "      <td>1</td>\n",
       "      <td>NaN</td>\n",
       "    </tr>\n",
       "    <tr>\n",
       "      <th>2</th>\n",
       "      <td>73</td>\n",
       "      <td>1</td>\n",
       "      <td>NaN</td>\n",
       "    </tr>\n",
       "    <tr>\n",
       "      <th>3</th>\n",
       "      <td>79</td>\n",
       "      <td>1</td>\n",
       "      <td>NaN</td>\n",
       "    </tr>\n",
       "    <tr>\n",
       "      <th>4</th>\n",
       "      <td>81</td>\n",
       "      <td>1</td>\n",
       "      <td>NaN</td>\n",
       "    </tr>\n",
       "  </tbody>\n",
       "</table>\n",
       "</div>"
      ],
      "text/plain": [
       "   userId  movieId  rating\n",
       "0      51        1     NaN\n",
       "1      56        1     NaN\n",
       "2      73        1     NaN\n",
       "3      79        1     NaN\n",
       "4      81        1     NaN"
      ]
     },
     "execution_count": 135,
     "metadata": {},
     "output_type": "execute_result"
    }
   ],
   "source": [
    "#add in the rating column\n",
    "toFill['rating'] = [float('nan')] * len(toFill)\n",
    "toFill.head()"
   ]
  },
  {
   "cell_type": "code",
   "execution_count": 140,
   "metadata": {},
   "outputs": [
    {
     "name": "stdout",
     "output_type": "stream",
     "text": [
      "Computing the pearson similarity matrix...\n",
      "Done computing similarity matrix.\n"
     ]
    }
   ],
   "source": [
    "#train on the whole data sample(~20,000 users and ~3,000 movies)\n",
    "#keep k = 100 as that was our best parameter \n",
    "#these are pretty big tasks so we are running them in different cells\n",
    "data_sample = data_sample.drop(columns=['timestamp'])\n",
    "model = get_model_ib(data_sample, 100)"
   ]
  },
  {
   "cell_type": "code",
   "execution_count": 141,
   "metadata": {},
   "outputs": [],
   "source": [
    "preds = get_predictions(model, toFill)"
   ]
  },
  {
   "cell_type": "markdown",
   "metadata": {},
   "source": [
    "The top_recs dictionary below is our final recommendation to the manager, it has the top 10 recommended movies for each user in the sampled data. "
   ]
  },
  {
   "cell_type": "code",
   "execution_count": 96,
   "metadata": {},
   "outputs": [],
   "source": [
    "top_recs = get_top_recs(toFill, preds, 10) "
   ]
  },
  {
   "cell_type": "markdown",
   "metadata": {},
   "source": [
    "## Matrix Factorization"
   ]
  },
  {
   "cell_type": "markdown",
   "metadata": {},
   "source": [
    "### Building of Feature Vector"
   ]
  },
  {
   "cell_type": "code",
   "execution_count": 52,
   "metadata": {},
   "outputs": [],
   "source": [
    "findspark.init() "
   ]
  },
  {
   "cell_type": "code",
   "execution_count": 53,
   "metadata": {},
   "outputs": [],
   "source": [
    "sc = SparkContext('local')\n",
    "spark = SparkSession(sc)"
   ]
  },
  {
   "cell_type": "markdown",
   "metadata": {},
   "source": [
    "Using the data that has been sampled based on the conditions described above, we are going to resplit it into training and testing here because the way the data is split into training and testing is different with this model, though we are keeping consistent with the 80/20 training-testing split. "
   ]
  },
  {
   "cell_type": "code",
   "execution_count": 54,
   "metadata": {},
   "outputs": [],
   "source": [
    "ratings = spark.createDataFrame(data_sample)"
   ]
  },
  {
   "cell_type": "code",
   "execution_count": 55,
   "metadata": {},
   "outputs": [
    {
     "name": "stdout",
     "output_type": "stream",
     "text": [
      "445175\n",
      "111796\n"
     ]
    }
   ],
   "source": [
    "training, test = ratings.randomSplit([0.8, 0.2])\n",
    "print(len(training.collect()))\n",
    "print(len(test.collect()))"
   ]
  },
  {
   "cell_type": "markdown",
   "metadata": {},
   "source": [
    "### Model "
   ]
  },
  {
   "cell_type": "code",
   "execution_count": 56,
   "metadata": {},
   "outputs": [],
   "source": [
    "# Build the recommendation model using ALS on the training data\n",
    "def get_mf_model(rank, regparam, ratings):\n",
    "    als = ALS(maxIter=5, rank=rank, regParam=regparam, userCol=\"userId\", itemCol=\"movieId\", ratingCol=\"rating\",\n",
    "              coldStartStrategy=\"drop\")\n",
    "    model = als.fit(ratings)\n",
    "    return model "
   ]
  },
  {
   "cell_type": "markdown",
   "metadata": {},
   "source": [
    "### Evaluation"
   ]
  },
  {
   "cell_type": "markdown",
   "metadata": {},
   "source": [
    "The primary accuracy metric we are going to use to determine the best hyper-parameters for this model is the root mean squared error. The method to calculate the root mean squared error is outlined below. This method takes in the rank(number of latent factors) and regularization parameter because these are the two hyper-parameters that we are going to tune for the best results. "
   ]
  },
  {
   "cell_type": "code",
   "execution_count": 14,
   "metadata": {},
   "outputs": [],
   "source": [
    "def get_rmse_metric(rank, regparam, training, testing):\n",
    "    model = get_mf_model(rank, regparam, training)\n",
    "    predictions = model.transform(testing)\n",
    "    evaluator = RegressionEvaluator(metricName=\"rmse\", labelCol=\"rating\",\n",
    "                                predictionCol=\"prediction\")\n",
    "    rmse = evaluator.evaluate(predictions)\n",
    "    return rmse "
   ]
  },
  {
   "cell_type": "markdown",
   "metadata": {},
   "source": [
    "### Cross Validation"
   ]
  },
  {
   "cell_type": "code",
   "execution_count": 72,
   "metadata": {},
   "outputs": [],
   "source": [
    "def build_crossvalid_mf(folds, ratings, regParam, rank): \n",
    "    rmses = [] \n",
    "    weights = [1.0] * folds\n",
    "    sets = ratings.randomSplit(weights)\n",
    "    #create new test and training data frames for each fold \n",
    "    for i in range(0, folds):  \n",
    "        training = spark.createDataFrame(sc.emptyRDD(), ratings.schema)\n",
    "        test = sets[i]\n",
    "        for j in range(0, folds):\n",
    "            if i != j: \n",
    "                training = training.union(sets[j])\n",
    "        \n",
    "        rmse = get_rmse_metric(rank, regParam, training, test) \n",
    "        rmses.append(rmse)\n",
    "        \n",
    "    avg_rmse = sum(rmses)/len(rmses)\n",
    "    return avg_rmse"
   ]
  },
  {
   "cell_type": "code",
   "execution_count": 58,
   "metadata": {},
   "outputs": [],
   "source": [
    "rank_range = [1,2,3,4,5,6,7,8,9,10,50,100] #latent dimensions \n",
    "reg_range = [0.0025, 0.005, 0.01, 0.05, 0.1, 0.25] #regularization parameter "
   ]
  },
  {
   "cell_type": "markdown",
   "metadata": {},
   "source": [
    "Instead of testing on a range of values that increment by a certain constant, for example, from 2 to 100 in increments of 2, we specified our own ranges for the rank and regularization parameters to be tested on in order to provide results under certain time constraints. Because time was a factor in performing the tuning of the hyper-parameters, we believe that the ranges we outlined would provide us with enough information about the model. "
   ]
  },
  {
   "cell_type": "code",
   "execution_count": 61,
   "metadata": {},
   "outputs": [],
   "source": [
    "def hypertuning_mf(ratings, rank_range, reg_range, folds):\n",
    "    #hold one parameter constant by testing the range of the other parameter\n",
    "    rmses_rank = {}\n",
    "    for rank in rank_range: \n",
    "        rmse = build_crossvalid_mf(folds, ratings, 0.01, rank)\n",
    "        print(\"Cross-validation done for rank:\", rank)\n",
    "        rmses_rank[rank] = rmse \n",
    "     \n",
    "    rmses_reg = {}\n",
    "    for reg in reg_range:\n",
    "        rmse = build_crossvalid_mf(folds, ratings, reg, 10)\n",
    "        print(\"Cross-validation done for reg:\", reg)\n",
    "        rmses_reg[reg] = rmse        \n",
    "        \n",
    "    return rmses_rank, rmses_reg"
   ]
  },
  {
   "cell_type": "markdown",
   "metadata": {},
   "source": [
    "In order to tune two parameters within time contraints, we held one parameter constant while tuning the other hyper-parameter. While tuning rank, we set the regularization parameter to 0.01, and while tuning the regularization parameter, we set the rank to 10. Both of these parameters were set to the stated values because these values are the defaults that Spark uses when not specified. "
   ]
  },
  {
   "cell_type": "code",
   "execution_count": 62,
   "metadata": {},
   "outputs": [
    {
     "name": "stdout",
     "output_type": "stream",
     "text": [
      "Cross-validation done for rank: 1\n",
      "Cross-validation done for rank: 2\n",
      "Cross-validation done for rank: 3\n",
      "Cross-validation done for rank: 4\n",
      "Cross-validation done for rank: 5\n",
      "Cross-validation done for rank: 6\n",
      "Cross-validation done for rank: 7\n",
      "Cross-validation done for rank: 8\n",
      "Cross-validation done for rank: 9\n",
      "Cross-validation done for rank: 10\n",
      "Cross-validation done for rank: 50\n",
      "Cross-validation done for rank: 100\n",
      "Cross-validation done for reg: 0.0025\n",
      "Cross-validation done for reg: 0.005\n",
      "Cross-validation done for reg: 0.01\n",
      "Cross-validation done for reg: 0.05\n",
      "Cross-validation done for reg: 0.1\n",
      "Cross-validation done for reg: 0.25\n"
     ]
    }
   ],
   "source": [
    "rmses_rank, rmses_reg = hypertuning_mf(training, rank_range, reg_range, 10)"
   ]
  },
  {
   "cell_type": "code",
   "execution_count": 65,
   "metadata": {},
   "outputs": [
    {
     "data": {
      "image/png": "[encoded data removed]",
      "text/plain": [
       "<Figure size 432x288 with 1 Axes>"
      ]
     },
     "metadata": {
      "needs_background": "light"
     },
     "output_type": "display_data"
    }
   ],
   "source": [
    "plt.figure()\n",
    "plt.scatter(rmses_rank.keys(), rmses_rank.values())\n",
    "plt.title(\"RMSE values for latent dimensions\")\n",
    "plt.show()"
   ]
  },
  {
   "cell_type": "code",
   "execution_count": 66,
   "metadata": {},
   "outputs": [
    {
     "name": "stdout",
     "output_type": "stream",
     "text": [
      "Rank: 1, RMSE: 0.8641217869495877\n"
     ]
    }
   ],
   "source": [
    "#get the min rmse value for rank \n",
    "rmse_min = list(rmses_rank.keys())[0]\n",
    "for rank in rmses_rank: \n",
    "    if rmses_rank[rank] < rmses_rank[rmse_min]: \n",
    "        rmse_min = rank\n",
    "        \n",
    "print(\"Rank: \" + str(rmse_min) + \", RMSE: \" + str(rmses_rank[rmse_min]))"
   ]
  },
  {
   "cell_type": "markdown",
   "metadata": {},
   "source": [
    "As seen from this plot, the data follows an approximate hyperbolic curve as the latent factors increase from 1 to 100. Around 50, a peak is reached in the RMSE, and the values go back down as seen by the RMSE at 100. The minimum RMSE value based on the plot is at 1 latent factor. "
   ]
  },
  {
   "cell_type": "code",
   "execution_count": 67,
   "metadata": {
    "scrolled": true
   },
   "outputs": [
    {
     "data": {
      "image/png": "[encoded data removed]",
      "text/plain": [
       "<Figure size 432x288 with 1 Axes>"
      ]
     },
     "metadata": {
      "needs_background": "light"
     },
     "output_type": "display_data"
    }
   ],
   "source": [
    "plt.figure()\n",
    "plt.scatter(rmses_reg.keys(), rmses_reg.values())\n",
    "plt.title(\"RMSE values for the regularization parameter\")\n",
    "plt.show()"
   ]
  },
  {
   "cell_type": "code",
   "execution_count": 68,
   "metadata": {},
   "outputs": [
    {
     "name": "stdout",
     "output_type": "stream",
     "text": [
      "Reg Param: 0.25, RMSE: 0.8894694338042489\n"
     ]
    }
   ],
   "source": [
    "#get the min rmse value for reg \n",
    "rmse_min = list(rmses_reg.keys())[0]\n",
    "for reg in rmses_reg: \n",
    "    if rmses_reg[reg] < rmses_reg[rmse_min]: \n",
    "        rmse_min = reg\n",
    "        \n",
    "print(\"Reg Param: \" + str(rmse_min) + \", RMSE: \" + str(rmses_reg[rmse_min]))"
   ]
  },
  {
   "cell_type": "markdown",
   "metadata": {},
   "source": [
    "From the plot seen above, the RMSE values as the regularization parameter increases appears to follow an approximate exponential distribution. As the value of the parameter increases, the RMSE greatly decreases, leaving the regularization parameter of 0.25 as having the minimum RMSE. \n",
    "\n",
    "After seeing these results, we noticed that we could perhaps further optimize this model by testing more regularization parameters. Since, the distribution leads us to believe that with an increased regularization parameter, the RMSE value decreases, we decided to test this with regularization parameters 0.5 and 1. The results are displayed below. "
   ]
  },
  {
   "cell_type": "code",
   "execution_count": 71,
   "metadata": {},
   "outputs": [
    {
     "name": "stdout",
     "output_type": "stream",
     "text": [
      "1.0058713622451443\n",
      "1.3100318279298206\n"
     ]
    }
   ],
   "source": [
    "#Try cross-valid for regParam 0.5 and 1.0 \n",
    "rmse = build_crossvalid_mf(10, training, 0.5, 10)\n",
    "print(rmse)\n",
    "rmse = build_crossvalid_mf(10, ratings, 1.0, 10) \n",
    "print(rmse)"
   ]
  },
  {
   "cell_type": "markdown",
   "metadata": {},
   "source": [
    "The RMSE values are already higher than the minimum found earlier, and thus we will keep 0.25 as our optimized regularization parameter. "
   ]
  },
  {
   "cell_type": "markdown",
   "metadata": {},
   "source": [
    "### Accuracy Metrics"
   ]
  },
  {
   "cell_type": "markdown",
   "metadata": {},
   "source": [
    "We will use the results from this model run in order to evaluate our accuracy metrics. "
   ]
  },
  {
   "cell_type": "code",
   "execution_count": 57,
   "metadata": {},
   "outputs": [],
   "source": [
    "model = get_mf_model(1, 0.25, training)\n",
    "predictions_train = model.transform(training)\n",
    "predictions_test = model.transform(test)"
   ]
  },
  {
   "cell_type": "markdown",
   "metadata": {},
   "source": [
    "#### Error Metric"
   ]
  },
  {
   "cell_type": "markdown",
   "metadata": {},
   "source": [
    "As mentioned above, the primary accuracy metric we are testing our whole dataset with is the root mean squared error. "
   ]
  },
  {
   "cell_type": "code",
   "execution_count": 58,
   "metadata": {},
   "outputs": [
    {
     "name": "stdout",
     "output_type": "stream",
     "text": [
      "RMSE for Training: 0.8529947839745184\n",
      "RMSE for Test: 0.8931003288827825\n"
     ]
    }
   ],
   "source": [
    "evaluator = RegressionEvaluator(metricName=\"rmse\", labelCol=\"rating\",\n",
    "                                predictionCol=\"prediction\")\n",
    "rmse_training = evaluator.evaluate(predictions_train)\n",
    "rmse_test = evaluator.evaluate(predictions_test)\n",
    "print(\"RMSE for Training:\", rmse_training) \n",
    "print(\"RMSE for Test:\", rmse_test)"
   ]
  },
  {
   "cell_type": "markdown",
   "metadata": {},
   "source": [
    "The RMSE values for both the training and testing data are around the same, which is a good sign as that means we have not overfit or underfit the data with our model. But, the actual RMSE value itself can be improved. Since our data ranges from ratings 0 to 5, having an rmse around 20% of that range is a little high, and should be impvoed. "
   ]
  },
  {
   "cell_type": "markdown",
   "metadata": {},
   "source": [
    "#### Ranking Metric"
   ]
  },
  {
   "cell_type": "markdown",
   "metadata": {},
   "source": [
    "The secondary accuracy metric we chose to evaluate the results from our \"best\" model is precision and recall. Based on the exploratory analysis done above, we decided that a rating of 3.5 is the appropriate cutoff to distinguish a \"good\" movie. "
   ]
  },
  {
   "cell_type": "code",
   "execution_count": 59,
   "metadata": {},
   "outputs": [],
   "source": [
    "#determine the number of true positives in the matrix  \n",
    "def tp(matrix):\n",
    "    good_preds = 0 \n",
    "    good_actual = 0\n",
    "    tp = 0\n",
    "    for row in matrix.rdd.collect():\n",
    "        if row['rating'] >= 3.5 and row['prediction'] >= 3.5:\n",
    "            tp += 1\n",
    "        if row['rating'] >= 3.5: \n",
    "            good_actual += 1\n",
    "        if row['prediction'] >= 3.5: \n",
    "            good_preds += 1\n",
    "            \n",
    "    return tp, good_preds, good_actual "
   ]
  },
  {
   "cell_type": "code",
   "execution_count": 60,
   "metadata": {},
   "outputs": [
    {
     "name": "stdout",
     "output_type": "stream",
     "text": [
      "Precision for Training: 0.8822185292895721\n",
      "Recall for Training: 0.4590427276522154\n",
      "Precision for Test: 0.8514800514800515\n",
      "Recall for Test: 0.44164898903739747\n"
     ]
    }
   ],
   "source": [
    "tp_train, good_preds_train, good_actual_train = tp(predictions_train)\n",
    "tp_test, good_preds_test, good_actual_test = tp(predictions_test)\n",
    "precision_train = tp_train / good_preds_train \n",
    "print(\"Precision for Training:\", precision_train)\n",
    "recall_train = tp_train / good_actual_train \n",
    "print(\"Recall for Training:\", recall_train)\n",
    "precision_test = tp_test / good_preds_test\n",
    "print(\"Precision for Test:\", precision_test)\n",
    "recall_test = tp_test / good_actual_test \n",
    "print(\"Recall for Test:\", recall_test)"
   ]
  },
  {
   "cell_type": "markdown",
   "metadata": {},
   "source": [
    "The precisions and recall values of both the training and testing follow the same pattern. The precision for both training and testing is quite high, while the recall is relatively low for both. We inferred that the high precision was a good sign, as the ratio of true positives is high, meaning that most of the \"good\" recommendations that the model predicted were also considered \"good\" movies by the users. \n",
    "\n",
    "On the other hand, the low recall shows that we weren't able to predict as many good movies as the users rated. Recall is important because we want to continuously provide our users with good recommendations, so it is crucial to provide a sufficient list of good movies. If the number of good movies we recommend decreases, then the users may start to use the platform less. "
   ]
  },
  {
   "cell_type": "markdown",
   "metadata": {},
   "source": [
    "### Coverage"
   ]
  },
  {
   "cell_type": "markdown",
   "metadata": {},
   "source": [
    "As with precision and recall, we chose a rating of 3.5 and above to be considered a \"good\" recommendation to calculate our user and item coverage. "
   ]
  },
  {
   "cell_type": "code",
   "execution_count": 61,
   "metadata": {},
   "outputs": [],
   "source": [
    "def get_top_recs(predictions, n):\n",
    "    #get the top recs for each user \n",
    "    top_recs = {}\n",
    "    \n",
    "    for row in predictions.rdd.collect():\n",
    "        if row['userId'] not in top_recs.keys():\n",
    "            top_recs[row['userId']] = [(row['movieId'], row['prediction'], row['rating'])]\n",
    "        else:\n",
    "            top_recs[row['userId']].append((row['movieId'], row['prediction'], row['rating']))\n",
    "    \n",
    "    # sort the preds for each user and get the n highest ones.\n",
    "    for user, ratings in top_recs.items():\n",
    "        ratings.sort(key=lambda x: x[1], reverse=True)\n",
    "        top_recs[user] = ratings[:n]\n",
    "\n",
    "    return top_recs"
   ]
  },
  {
   "cell_type": "code",
   "execution_count": 62,
   "metadata": {},
   "outputs": [],
   "source": [
    "def user_coverage(top_recs, k):\n",
    "    user_cov = {}\n",
    "    tot = 0\n",
    "    for user in top_recs:\n",
    "        user_cov[user] = []\n",
    "        for ratings in top_recs[user]:\n",
    "            if ratings[2] >= 3.5:\n",
    "                user_cov[user].append(ratings[0])\n",
    "        if len(user_cov[user]) >= k:\n",
    "            tot += 1\n",
    "    return tot "
   ]
  },
  {
   "cell_type": "code",
   "execution_count": 63,
   "metadata": {},
   "outputs": [],
   "source": [
    "def item_coverage(top_recs, k):\n",
    "    item_cov = {}\n",
    "    tot = 0\n",
    "    for user in top_recs:\n",
    "        for ratings in top_recs[user]:\n",
    "            if ratings[0] not in item_cov.keys(): \n",
    "                item_cov[ratings[0]] = [] \n",
    "            if ratings[2] >= 3.5:\n",
    "                item_cov[ratings[0]].append(ratings[0])  \n",
    "                \n",
    "    for item in item_cov:\n",
    "        if len(item_cov[item]) >= k:\n",
    "            tot += 1        \n",
    "    return tot, item_cov"
   ]
  },
  {
   "cell_type": "markdown",
   "metadata": {},
   "source": [
    "Using the same model from above to predict our training and testing ratings, we returned the top 10 recommended movies for each user in the cell below. "
   ]
  },
  {
   "cell_type": "code",
   "execution_count": 64,
   "metadata": {},
   "outputs": [],
   "source": [
    "top_recs_training = get_top_recs(predictions_train, 10)\n",
    "top_recs_test = get_top_recs(predictions_test, 10)"
   ]
  },
  {
   "cell_type": "markdown",
   "metadata": {},
   "source": [
    "We calculated our user and item coverage based on how many values of k we were testing for that performed \"well\". "
   ]
  },
  {
   "cell_type": "code",
   "execution_count": 65,
   "metadata": {},
   "outputs": [],
   "source": [
    "k = [4, 5, 6, 7, 8, 9, 10]\n",
    "user_covs_train = [] \n",
    "user_covs_test = []\n",
    "item_covs_train = [] \n",
    "item_covs_test = [] \n",
    "\n",
    "for num in k: \n",
    "    user_cov_train = user_coverage(top_recs_training, num) / len(top_recs_training)\n",
    "    user_cov_test = user_coverage(top_recs_test, num) / len(top_recs_test)\n",
    "    user_covs_train.append(user_cov_train)\n",
    "    user_covs_test.append(user_cov_test)\n",
    "    item_cov_tr, item_dict = item_coverage(top_recs_training, num)\n",
    "    item_cov_train = item_cov_tr / len(item_dict)\n",
    "    item_cov_ts, item_dict_ts = item_coverage(top_recs_test, num)\n",
    "    item_cov_test = item_cov_ts / len(item_dict_ts)\n",
    "    item_covs_train.append(item_cov_train)\n",
    "    item_covs_test.append(item_cov_test) "
   ]
  },
  {
   "cell_type": "code",
   "execution_count": 66,
   "metadata": {},
   "outputs": [
    {
     "data": {
      "image/png": "[encoded data removed]",
      "text/plain": [
       "<Figure size 432x288 with 1 Axes>"
      ]
     },
     "metadata": {
      "needs_background": "light"
     },
     "output_type": "display_data"
    }
   ],
   "source": [
    "plt.figure()\n",
    "plt.plot(k, user_covs_train, c=\"b\", label='Train')\n",
    "plt.plot(k, user_covs_test, c=\"r\", label='Test')\n",
    "plt.legend(loc=\"upper left\")\n",
    "plt.title(\"User Training and Test Coverages\")\n",
    "plt.xlabel('top k')\n",
    "plt.ylabel('coverage')\n",
    "plt.show()"
   ]
  },
  {
   "cell_type": "markdown",
   "metadata": {},
   "source": [
    "As expected, the user training and testing coverages decreased as we increased k. But, there is a big discrepancy between the training and testing user coverages with the beginning values of k, mainly from 1 to 6. The coverage of the user training is a little over 2 times greater than that of the user testing, meaning that only 40% of the users will be satisfied with the recommendations we give them, since the testing dataset represents users that we have not seen before or trained on. The user coverage is something to work on as our goal is to maintain the satisfaction of all of our users. "
   ]
  },
  {
   "cell_type": "code",
   "execution_count": 67,
   "metadata": {},
   "outputs": [
    {
     "data": {
      "image/png": "[encoded data removed]",
      "text/plain": [
       "<Figure size 432x288 with 1 Axes>"
      ]
     },
     "metadata": {
      "needs_background": "light"
     },
     "output_type": "display_data"
    }
   ],
   "source": [
    "plt.figure()\n",
    "plt.plot(k, item_covs_train, c=\"b\", label='Train')\n",
    "plt.plot(k, item_covs_test, c=\"r\", label='Test')\n",
    "plt.legend(loc=\"upper left\")\n",
    "plt.title(\"Item Training and Test Coverages\")\n",
    "plt.xlabel('top k')\n",
    "plt.ylabel('coverage')\n",
    "plt.show()"
   ]
  },
  {
   "cell_type": "markdown",
   "metadata": {},
   "source": [
    "With our item coverage, both the training and testing data follow the same pattern as the k increases, and has around similar values for most values of k. While our item coverages on both training and testing sets reasonably decrease with the increase in k, it starts off with a much higher coverage than the user coverage. This suggests that many of our items can be recommended well to at least k users. On the other hand, not many users are receiving at least  k well items in their top 10 list. "
   ]
  },
  {
   "cell_type": "markdown",
   "metadata": {},
   "source": [
    "### Downsampling Evaluation"
   ]
  },
  {
   "cell_type": "code",
   "execution_count": 68,
   "metadata": {},
   "outputs": [],
   "source": [
    "def downsampled_method(size):\n",
    "    start_time = time.time() \n",
    "    ds_data = data_sample.sample(frac=size)\n",
    "    ratings_ds = spark.createDataFrame(ds_data)\n",
    "    training_ds, test_ds = ratings_ds.randomSplit([0.8, 0.2])\n",
    "    model = get_mf_model(1, 0.25, training_ds)\n",
    "    predictions = model.transform(test_ds)\n",
    "    #get overall accuracy \n",
    "    evaluator = RegressionEvaluator(metricName=\"rmse\", labelCol=\"rating\",\n",
    "                                predictionCol=\"prediction\")\n",
    "    rmse = evaluator.evaluate(predictions)\n",
    "    \n",
    "    #get user coverage -> a version of user coverage: see how many good movies are recommended per user \n",
    "    top_recs = get_top_recs(predictions, 10)\n",
    "    user_cov = []\n",
    "    for user in top_recs:\n",
    "        tot = 0 \n",
    "        for ratings in top_recs[user]:\n",
    "            if ratings[2] >= 3.5:\n",
    "                tot += 1\n",
    "        user_cov.append(tot/10)\n",
    "    \n",
    "    runtime = time.time() - start_time\n",
    "    return rmse, user_cov, runtime "
   ]
  },
  {
   "cell_type": "code",
   "execution_count": 69,
   "metadata": {},
   "outputs": [],
   "source": [
    "sizes = [0.25, 0.5, 0.75, 1]\n",
    "rmse_sizes = [] \n",
    "runtimes = [] \n",
    "user_covs = []\n",
    "for size in sizes: \n",
    "    rmse, user_cov, runtime = downsampled_method(size)\n",
    "    rmse_sizes.append(rmse)\n",
    "    runtimes.append(runtime)\n",
    "    user_covs.append(user_cov)"
   ]
  },
  {
   "cell_type": "code",
   "execution_count": 70,
   "metadata": {},
   "outputs": [
    {
     "data": {
      "image/png": "[encoded data removed]",
      "text/plain": [
       "<Figure size 432x288 with 1 Axes>"
      ]
     },
     "metadata": {
      "needs_background": "light"
     },
     "output_type": "display_data"
    }
   ],
   "source": [
    "plt.figure()\n",
    "plt.plot(sizes, rmse_sizes)\n",
    "plt.title(\"RMSES for Dataset sizes\")\n",
    "plt.xlabel('Percent of Full Data Sample')\n",
    "plt.ylabel('RMSE')\n",
    "plt.show()"
   ]
  },
  {
   "cell_type": "markdown",
   "metadata": {},
   "source": [
    "As shown from the plot above, overall accuracy does change with dataset size. The RMSE significantly decreased once there was enough data in the dataset, which according to the plot is around 50% of the full data sample. While the increase in accuracy isn't as high, from 50 to 100% of the full data sample, accuracy still slightly increases as the size of the dataset increases as well. Overall, it is safe to presume that the more information that the model has, the better it can perform. "
   ]
  },
  {
   "cell_type": "code",
   "execution_count": 71,
   "metadata": {},
   "outputs": [
    {
     "data": {
      "text/plain": [
       "Text(0.5, 0, 'Percent of Full Data Sample')"
      ]
     },
     "execution_count": 71,
     "metadata": {},
     "output_type": "execute_result"
    },
    {
     "data": {
      "image/png": "[encoded data removed]",
      "text/plain": [
       "<Figure size 432x288 with 1 Axes>"
      ]
     },
     "metadata": {
      "needs_background": "light"
     },
     "output_type": "display_data"
    }
   ],
   "source": [
    "fig, ax = plt.subplots()\n",
    "ax.boxplot(user_covs)\n",
    "ax.set_xticklabels([\"0.25\", \"0.5\", \"0.75\", \"1\"])\n",
    "ax.set_title(\"Percentage of Good Movies Recommended Per User\")\n",
    "ax.set_xlabel(\"Percent of Full Data Sample\")"
   ]
  },
  {
   "cell_type": "markdown",
   "metadata": {},
   "source": [
    "With this data, we wanted to see how the distribution of how many good movies are recommended for each user changes with the size of the dataset. With more data, the interquartile range of each boxplot increases as well. Therefore, this shows somewhat of a positive correlation such that with more data, the percentage of good movies recommended per user increases. But, something to notice is that the medians of 25% and 50% of the dataset are the same, while the there is a big jump between all the other categories. This could be due to the fact that even with the increase in information up to 50%, it wasn't enough information to recommend a higher percentage of good movies per user, the dataset was most likely still very sparse. Overall, we can see from this visualization that having more information in general, and a larger dataset, in general is better to predict more accurately and give better recommendations. More users get well recommended items, and this is what is necessary to keep users entertained, continue using the platform, and ideally share their content with the platform with friends and family as well. "
   ]
  },
  {
   "cell_type": "code",
   "execution_count": 72,
   "metadata": {},
   "outputs": [
    {
     "data": {
      "image/png": "[encoded data removed]",
      "text/plain": [
       "<Figure size 432x288 with 1 Axes>"
      ]
     },
     "metadata": {
      "needs_background": "light"
     },
     "output_type": "display_data"
    }
   ],
   "source": [
    "plt.figure()\n",
    "plt.plot(sizes, runtimes)\n",
    "plt.title(\"Runtimes for Dataset sizes\")\n",
    "plt.xlabel('Percent of Full Data Sample')\n",
    "plt.ylabel('Runtime')\n",
    "plt.show()"
   ]
  },
  {
   "cell_type": "markdown",
   "metadata": {},
   "source": [
    "The output of this plot is expected, as data size increases, the runtime to perform calculations increases as well. "
   ]
  },
  {
   "cell_type": "markdown",
   "metadata": {},
   "source": [
    "Overall, this recommendation system can be improved. We would not feel comfortable putting these solutions into production at a real company, as it seems that our model can only recommend up to 20% movies that are considered \"good\", and realistically, the movies that we recommend should all be considered good. In addition, recall is low, and one of our objectives is to have a high precision and recall. The low recall shows how few movies the predicts as \"good\", which plays a role in the coverage calculations as well. Our model would have to be tuned such that it's rmse is lower, and its recall is higher. \n",
    "\n",
    "To implement in the future, we would like to add many more regularization parameters and latent dimensions to cross-validate and tune, given less time and space/ram constraints. We determined that one of the reasons our model was not doing as well as expected is because we were not confident in our parameters. With extensive testing, we can be confident that we chose the right hyper-parameters to output the best results. "
   ]
  },
  {
   "cell_type": "markdown",
   "metadata": {},
   "source": [
    "### Final Recommendation with Matrix Factorization"
   ]
  },
  {
   "cell_type": "code",
   "execution_count": 58,
   "metadata": {},
   "outputs": [],
   "source": [
    "model = get_mf_model(1, 0.25, training)\n",
    "predictions = model.transform(test)\n",
    "top_recs = get_top_recs(predictions, 10)"
   ]
  },
  {
   "cell_type": "markdown",
   "metadata": {},
   "source": [
    "The final recommendation is contained in this dictionary for 21,069 users. The key values are the userID, while the values include the top 10 recommended movies, along with their predicted ratings and actual ratings. "
   ]
  },
  {
   "cell_type": "code",
   "execution_count": 63,
   "metadata": {},
   "outputs": [],
   "source": [
    "top_recs"
   ]
  },
  {
   "cell_type": "markdown",
   "metadata": {},
   "source": [
    "### Overall Analysis "
   ]
  },
  {
   "cell_type": "markdown",
   "metadata": {},
   "source": [
    "Now that we have evaluated both models thoroughly, the next step to tackle is to determine which method is more appropriate to make the final recommendation. When looking at both models during evaluating, both had similarities in that they had RMSEs around 0.8-0.9, which overall as mentioned can be better when working with a scale from 1-5. Both models had low user coverage, but high item coverage, and high precision, but low recall. When looking at both of the models from a high level, they had very similar accuracies and outputs. Although both models have similar statistics, they do not work well enough to be put into the production system to serve the customers as they do not capture the subtleties of each user. "
   ]
  },
  {
   "cell_type": "markdown",
   "metadata": {},
   "source": [
    "## Final Recommendation "
   ]
  },
  {
   "cell_type": "markdown",
   "metadata": {},
   "source": [
    "Given the overall analysis on these two models, it has been recognized that the output of one of these models alone does not work well enough. Thus, our final recommendation to the company would be to combine our results with those from a content-based model. Since a behavior-based model can provide new, but similar recommendations, while a content-based model can exploit the user's preferences to its benefit, the two combined will provide a reasonable mixture of movies to recommend such that the user can experience similarity and novelty within the recommendations, and be able to make the best use of this platform. "
   ]
  },
  {
   "cell_type": "markdown",
   "metadata": {},
   "source": [
    "### Disclaimer"
   ]
  },
  {
   "cell_type": "markdown",
   "metadata": {},
   "source": [
    "The models built in this project focus on existing users and existing movies. If we want to target recommendations for new users and new movies, we would need to create a separate model for those cold start problems. "
   ]
  },
  {
   "cell_type": "code",
   "execution_count": null,
   "metadata": {},
   "outputs": [],
   "source": [
    "def content_based_model(movies_data, user_data):\n",
    "    #build content analyzer for movies based on similar genre \n",
    "\n",
    "    #genres dataframe of movieIds \n",
    "    genres = pd.DataFrame() \n",
    "    genres['movieId'] = movies_data['movieId']\n",
    "    for index, row in movies_data.iterrows(): \n",
    "        for genre in row['genres']:\n",
    "            genres.at[index, genre] = 1\n",
    "\n",
    "    #fill all the other NANs with 0 \n",
    "    genres = genres.fillna(0)\n",
    "    genres = genres.set_index(genres['movieId'])\n",
    "    \n",
    "    topMovies = {} \n",
    "    #building user preference profile of most liked genre for each user \n",
    "    for userId in user_data.userId.unique(): \n",
    "        ratings_user = user_data[user_data['userId'] == userId]\n",
    "        user_genres = genres.loc[ratings_user['movieId']]\n",
    "        user_genres.reset_index(drop=True, inplace=True)\n",
    "\n",
    "        # get weights for user profile \n",
    "        ratings_user['weights'] = ratings_user['rating'] / 5\n",
    "        user_profile = user_genres.T.dot(ratings_user['weights'].to_numpy())\n",
    "\n",
    "        #get recommendations for user \n",
    "        recs = genres.dot(user_profile)\n",
    "        recs.to_dict()\n",
    "        recs = sorted(recs.items(), key=lambda x: x[1], reverse=True)\n",
    "\n",
    "        #take top 10 \n",
    "        recs = recs[:10]\n",
    "        movieIds = [x[0] for x in recs]\n",
    "        top_movies = movies_data[movies_data['movieId'].isin(movieIds)]['title']\n",
    "        topMovies[userId] = top_movies\n",
    "        \n",
    "    return topMovies"
   ]
  }
 ],
 "metadata": {
  "kernelspec": {
   "display_name": "Python 3",
   "language": "python",
   "name": "python3"
  },
  "language_info": {
   "codemirror_mode": {
    "name": "ipython",
    "version": 3
   },
   "file_extension": ".py",
   "mimetype": "text/x-python",
   "name": "python",
   "nbconvert_exporter": "python",
   "pygments_lexer": "ipython3",
   "version": "3.7.3"
  }
 },
 "nbformat": 4,
 "nbformat_minor": 2
}
