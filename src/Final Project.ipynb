{
 "cells": [
  {
   "cell_type": "markdown",
   "metadata": {},
   "source": [
    "## Business Objective"
   ]
  },
  {
   "cell_type": "markdown",
   "metadata": {},
   "source": [
    "### Objective Function"
   ]
  },
  {
   "cell_type": "markdown",
   "metadata": {},
   "source": [
    "Our objective in building this recommendation system is to provide our customers with personalized movie recommendations to keep them content and engaged with the platform, and likely to share this platform with their family and friends. In keeping current customers happy, we can optimize revenue from current plus the new customers they bring in. In a competitive, global, digital marketplace, having a superior movie recommendation system is a difference maker. "
   ]
  },
  {
   "cell_type": "markdown",
   "metadata": {},
   "source": [
    "### Framework"
   ]
  },
  {
   "cell_type": "markdown",
   "metadata": {},
   "source": [
    "We wish to optimize our accuracy, which will be measured primarily using root-mean square error (rmse), and thus we will be performing our methods on a sampled dataset in order to test thoroughly and efficiently, sacrificing information that could be used to build and train our recommendation system.\n",
    "\n",
    "Our intended users will be new, moderate, and avid users, who will be determined based on a threshold number of movies watched and rated on the platform. Providing recommendations for all different types of users is key into optimizing revenue and user experience for our company. The existing users are active on the platform, and thus, due to the high amount of information we have from them, we can also provide an accurate recommendation list for these users, leading to more trust from these customers in our platform. On the other hand, though new users may not have interacted with our platform as much, providing reliable recommendations will encourage these new users to use the platform even more and become avid users. Moderate users are those who have watched a certain number of movies to not be considered new, but do not use the platform as actively as the avid users. The purpose of our model is to encourage all different types of users to use the platform more increasing revenue for us and enhancing user experience, which will lead to more advertisement of our platform and what we provide. But in order to recommend good movies for each type of user, a different model must be used for each to provide the most accurate recommendations. \n",
    "\n",
    "Some business rules that we are considering while recommending movies are to only recommend movies with a certain threshold popularity, which will also be specified later. Since our target for this recommendation problem is focused on all types of users, we believe it is more suitable to have a separate model to work with each type of user. In addition, our list of recommendations will contain movies that have an average rating above a specific threshold, because we do not want to recommend movies that while popular, are not good movies. Customer satisfaction is our number one priority, and our recommended movies serve to provide customers with movies they can enjoy.\n",
    "\n",
    "The structure of this report is as follows: the dataset is first sampled such that it abides by certain thresholds. Each model for the specific user category is built, explored, and optimized. The deep learning model is thoroughly explored in another file. Lastly, the final hybrid model is outlined and evaluated. Analyses and observations are made throughout the notebook with a final recommendation at the end. "
   ]
  },
  {
   "cell_type": "markdown",
   "metadata": {},
   "source": [
    "#### Libraries and Packages"
   ]
  },
  {
   "cell_type": "code",
   "execution_count": 2,
   "metadata": {},
   "outputs": [],
   "source": [
    "import os\n",
    "import math\n",
    "import time\n",
    "import scipy\n",
    "import random\n",
    "import findspark\n",
    "import numpy as np\n",
    "import pandas as pd\n",
    "from surprise import Reader\n",
    "from pyspark.sql import Row\n",
    "from surprise import Dataset\n",
    "from tensorflow import keras \n",
    "from surprise import KNNWithMeans\n",
    "from collections import defaultdict\n",
    "from matplotlib import pyplot as plt\n",
    "from sklearn.linear_model import Ridge\n",
    "from pyspark.context import SparkContext\n",
    "from pyspark.ml.recommendation import ALS\n",
    "from pyspark.sql.session import SparkSession\n",
    "from sklearn.metrics import mean_squared_error\n",
    "from sklearn.preprocessing import LabelEncoder\n",
    "from sklearn.linear_model import LinearRegression\n",
    "from sklearn.metrics.pairwise import linear_kernel\n",
    "from sklearn.model_selection import train_test_split\n",
    "from pyspark.ml.evaluation import RegressionEvaluator\n",
    "from sklearn.preprocessing import MultiLabelBinarizer\n",
    "from sklearn.metrics.pairwise import cosine_similarity\n",
    "from pyspark.mllib.evaluation import MulticlassMetrics\n",
    "from sklearn.feature_extraction.text import TfidfVectorizer\n",
    "from surprise.model_selection.validation import cross_validate\n",
    "os.environ['PYSPARK_PYTHON'] = '/Users/nehapusarla/anaconda3/bin/python3.7'\n",
    "os.environ['PYSPARK_DRIVER_PYTHON'] = '/Users/nehapusarla/anaconda3/bin/python3.7'"
   ]
  },
  {
   "cell_type": "code",
   "execution_count": 3,
   "metadata": {},
   "outputs": [],
   "source": [
    "file = \"../ratings.csv\""
   ]
  },
  {
   "cell_type": "code",
   "execution_count": 4,
   "metadata": {},
   "outputs": [],
   "source": [
    "movie_file = \"../ml-latest/movies.csv\""
   ]
  },
  {
   "cell_type": "markdown",
   "metadata": {},
   "source": [
    "## Exploratory Data Analysis and Sampling"
   ]
  },
  {
   "cell_type": "code",
   "execution_count": 5,
   "metadata": {},
   "outputs": [],
   "source": [
    "data = pd.read_csv(file)"
   ]
  },
  {
   "cell_type": "code",
   "execution_count": 6,
   "metadata": {},
   "outputs": [
    {
     "data": {
      "text/html": [
       "<div>\n",
       "<style scoped>\n",
       "    .dataframe tbody tr th:only-of-type {\n",
       "        vertical-align: middle;\n",
       "    }\n",
       "\n",
       "    .dataframe tbody tr th {\n",
       "        vertical-align: top;\n",
       "    }\n",
       "\n",
       "    .dataframe thead th {\n",
       "        text-align: right;\n",
       "    }\n",
       "</style>\n",
       "<table border=\"1\" class=\"dataframe\">\n",
       "  <thead>\n",
       "    <tr style=\"text-align: right;\">\n",
       "      <th></th>\n",
       "      <th>userId</th>\n",
       "      <th>movieId</th>\n",
       "      <th>rating</th>\n",
       "    </tr>\n",
       "  </thead>\n",
       "  <tbody>\n",
       "    <tr>\n",
       "      <th>0</th>\n",
       "      <td>1</td>\n",
       "      <td>307</td>\n",
       "      <td>3.5</td>\n",
       "    </tr>\n",
       "    <tr>\n",
       "      <th>1</th>\n",
       "      <td>1</td>\n",
       "      <td>481</td>\n",
       "      <td>3.5</td>\n",
       "    </tr>\n",
       "    <tr>\n",
       "      <th>2</th>\n",
       "      <td>1</td>\n",
       "      <td>1091</td>\n",
       "      <td>1.5</td>\n",
       "    </tr>\n",
       "    <tr>\n",
       "      <th>3</th>\n",
       "      <td>1</td>\n",
       "      <td>1257</td>\n",
       "      <td>4.5</td>\n",
       "    </tr>\n",
       "    <tr>\n",
       "      <th>4</th>\n",
       "      <td>1</td>\n",
       "      <td>1449</td>\n",
       "      <td>4.5</td>\n",
       "    </tr>\n",
       "  </tbody>\n",
       "</table>\n",
       "</div>"
      ],
      "text/plain": [
       "   userId  movieId  rating\n",
       "0       1      307     3.5\n",
       "1       1      481     3.5\n",
       "2       1     1091     1.5\n",
       "3       1     1257     4.5\n",
       "4       1     1449     4.5"
      ]
     },
     "execution_count": 6,
     "metadata": {},
     "output_type": "execute_result"
    }
   ],
   "source": [
    "data = data.drop(columns=['timestamp'])\n",
    "data.head()"
   ]
  },
  {
   "cell_type": "code",
   "execution_count": 6,
   "metadata": {},
   "outputs": [
    {
     "data": {
      "text/html": [
       "<div>\n",
       "<style scoped>\n",
       "    .dataframe tbody tr th:only-of-type {\n",
       "        vertical-align: middle;\n",
       "    }\n",
       "\n",
       "    .dataframe tbody tr th {\n",
       "        vertical-align: top;\n",
       "    }\n",
       "\n",
       "    .dataframe thead th {\n",
       "        text-align: right;\n",
       "    }\n",
       "</style>\n",
       "<table border=\"1\" class=\"dataframe\">\n",
       "  <thead>\n",
       "    <tr style=\"text-align: right;\">\n",
       "      <th></th>\n",
       "      <th>ratings_count</th>\n",
       "    </tr>\n",
       "    <tr>\n",
       "      <th>userId</th>\n",
       "      <th></th>\n",
       "    </tr>\n",
       "  </thead>\n",
       "  <tbody>\n",
       "    <tr>\n",
       "      <th>1</th>\n",
       "      <td>16</td>\n",
       "    </tr>\n",
       "    <tr>\n",
       "      <th>2</th>\n",
       "      <td>15</td>\n",
       "    </tr>\n",
       "    <tr>\n",
       "      <th>3</th>\n",
       "      <td>11</td>\n",
       "    </tr>\n",
       "    <tr>\n",
       "      <th>4</th>\n",
       "      <td>736</td>\n",
       "    </tr>\n",
       "    <tr>\n",
       "      <th>5</th>\n",
       "      <td>72</td>\n",
       "    </tr>\n",
       "  </tbody>\n",
       "</table>\n",
       "</div>"
      ],
      "text/plain": [
       "        ratings_count\n",
       "userId               \n",
       "1                  16\n",
       "2                  15\n",
       "3                  11\n",
       "4                 736\n",
       "5                  72"
      ]
     },
     "execution_count": 6,
     "metadata": {},
     "output_type": "execute_result"
    }
   ],
   "source": [
    "user_df = data.groupby('userId').count()[['movieId']].rename(columns={'movieId':'ratings_count'})\n",
    "user_df.head()"
   ]
  },
  {
   "cell_type": "code",
   "execution_count": 169,
   "metadata": {},
   "outputs": [
    {
     "data": {
      "text/html": [
       "<div>\n",
       "<style scoped>\n",
       "    .dataframe tbody tr th:only-of-type {\n",
       "        vertical-align: middle;\n",
       "    }\n",
       "\n",
       "    .dataframe tbody tr th {\n",
       "        vertical-align: top;\n",
       "    }\n",
       "\n",
       "    .dataframe thead th {\n",
       "        text-align: right;\n",
       "    }\n",
       "</style>\n",
       "<table border=\"1\" class=\"dataframe\">\n",
       "  <thead>\n",
       "    <tr style=\"text-align: right;\">\n",
       "      <th></th>\n",
       "      <th>userId</th>\n",
       "      <th>ratings_count</th>\n",
       "      <th>average_rating</th>\n",
       "    </tr>\n",
       "  </thead>\n",
       "  <tbody>\n",
       "    <tr>\n",
       "      <th>0</th>\n",
       "      <td>1</td>\n",
       "      <td>16</td>\n",
       "      <td>3.312500</td>\n",
       "    </tr>\n",
       "    <tr>\n",
       "      <th>1</th>\n",
       "      <td>2</td>\n",
       "      <td>15</td>\n",
       "      <td>3.666667</td>\n",
       "    </tr>\n",
       "    <tr>\n",
       "      <th>2</th>\n",
       "      <td>3</td>\n",
       "      <td>11</td>\n",
       "      <td>3.545455</td>\n",
       "    </tr>\n",
       "    <tr>\n",
       "      <th>3</th>\n",
       "      <td>4</td>\n",
       "      <td>736</td>\n",
       "      <td>3.397418</td>\n",
       "    </tr>\n",
       "    <tr>\n",
       "      <th>4</th>\n",
       "      <td>5</td>\n",
       "      <td>72</td>\n",
       "      <td>4.263889</td>\n",
       "    </tr>\n",
       "  </tbody>\n",
       "</table>\n",
       "</div>"
      ],
      "text/plain": [
       "   userId  ratings_count  average_rating\n",
       "0       1             16        3.312500\n",
       "1       2             15        3.666667\n",
       "2       3             11        3.545455\n",
       "3       4            736        3.397418\n",
       "4       5             72        4.263889"
      ]
     },
     "execution_count": 169,
     "metadata": {},
     "output_type": "execute_result"
    }
   ],
   "source": [
    "avg_rating = data.groupby('userId').mean()['rating']\n",
    "user_df['average_rating'] = avg_rating\n",
    "user_df = user_df.reset_index()\n",
    "user_df.head()"
   ]
  },
  {
   "cell_type": "code",
   "execution_count": 170,
   "metadata": {},
   "outputs": [
    {
     "name": "stdout",
     "output_type": "stream",
     "text": [
      "Number of users: 283228\n"
     ]
    }
   ],
   "source": [
    "print(\"Number of users:\", len(user_df))"
   ]
  },
  {
   "cell_type": "code",
   "execution_count": 171,
   "metadata": {},
   "outputs": [
    {
     "data": {
      "text/html": [
       "<div>\n",
       "<style scoped>\n",
       "    .dataframe tbody tr th:only-of-type {\n",
       "        vertical-align: middle;\n",
       "    }\n",
       "\n",
       "    .dataframe tbody tr th {\n",
       "        vertical-align: top;\n",
       "    }\n",
       "\n",
       "    .dataframe thead th {\n",
       "        text-align: right;\n",
       "    }\n",
       "</style>\n",
       "<table border=\"1\" class=\"dataframe\">\n",
       "  <thead>\n",
       "    <tr style=\"text-align: right;\">\n",
       "      <th></th>\n",
       "      <th>ratings_count</th>\n",
       "    </tr>\n",
       "    <tr>\n",
       "      <th>movieId</th>\n",
       "      <th></th>\n",
       "    </tr>\n",
       "  </thead>\n",
       "  <tbody>\n",
       "    <tr>\n",
       "      <th>1</th>\n",
       "      <td>68469</td>\n",
       "    </tr>\n",
       "    <tr>\n",
       "      <th>2</th>\n",
       "      <td>27143</td>\n",
       "    </tr>\n",
       "    <tr>\n",
       "      <th>3</th>\n",
       "      <td>15585</td>\n",
       "    </tr>\n",
       "    <tr>\n",
       "      <th>4</th>\n",
       "      <td>2989</td>\n",
       "    </tr>\n",
       "    <tr>\n",
       "      <th>5</th>\n",
       "      <td>15474</td>\n",
       "    </tr>\n",
       "  </tbody>\n",
       "</table>\n",
       "</div>"
      ],
      "text/plain": [
       "         ratings_count\n",
       "movieId               \n",
       "1                68469\n",
       "2                27143\n",
       "3                15585\n",
       "4                 2989\n",
       "5                15474"
      ]
     },
     "execution_count": 171,
     "metadata": {},
     "output_type": "execute_result"
    }
   ],
   "source": [
    "movie_df = data.groupby('movieId').count()[['userId']].rename(columns={'userId':'ratings_count'})\n",
    "movie_df.head()"
   ]
  },
  {
   "cell_type": "code",
   "execution_count": 172,
   "metadata": {},
   "outputs": [
    {
     "data": {
      "text/html": [
       "<div>\n",
       "<style scoped>\n",
       "    .dataframe tbody tr th:only-of-type {\n",
       "        vertical-align: middle;\n",
       "    }\n",
       "\n",
       "    .dataframe tbody tr th {\n",
       "        vertical-align: top;\n",
       "    }\n",
       "\n",
       "    .dataframe thead th {\n",
       "        text-align: right;\n",
       "    }\n",
       "</style>\n",
       "<table border=\"1\" class=\"dataframe\">\n",
       "  <thead>\n",
       "    <tr style=\"text-align: right;\">\n",
       "      <th></th>\n",
       "      <th>movieId</th>\n",
       "      <th>ratings_count</th>\n",
       "      <th>average_movie_rating</th>\n",
       "    </tr>\n",
       "  </thead>\n",
       "  <tbody>\n",
       "    <tr>\n",
       "      <th>0</th>\n",
       "      <td>1</td>\n",
       "      <td>68469</td>\n",
       "      <td>3.886649</td>\n",
       "    </tr>\n",
       "    <tr>\n",
       "      <th>1</th>\n",
       "      <td>2</td>\n",
       "      <td>27143</td>\n",
       "      <td>3.246583</td>\n",
       "    </tr>\n",
       "    <tr>\n",
       "      <th>2</th>\n",
       "      <td>3</td>\n",
       "      <td>15585</td>\n",
       "      <td>3.173981</td>\n",
       "    </tr>\n",
       "    <tr>\n",
       "      <th>3</th>\n",
       "      <td>4</td>\n",
       "      <td>2989</td>\n",
       "      <td>2.874540</td>\n",
       "    </tr>\n",
       "    <tr>\n",
       "      <th>4</th>\n",
       "      <td>5</td>\n",
       "      <td>15474</td>\n",
       "      <td>3.077291</td>\n",
       "    </tr>\n",
       "  </tbody>\n",
       "</table>\n",
       "</div>"
      ],
      "text/plain": [
       "   movieId  ratings_count  average_movie_rating\n",
       "0        1          68469              3.886649\n",
       "1        2          27143              3.246583\n",
       "2        3          15585              3.173981\n",
       "3        4           2989              2.874540\n",
       "4        5          15474              3.077291"
      ]
     },
     "execution_count": 172,
     "metadata": {},
     "output_type": "execute_result"
    }
   ],
   "source": [
    "avg_movie_rating = data.groupby('movieId').mean()['rating']\n",
    "movie_df['average_movie_rating'] = avg_movie_rating\n",
    "movie_df = movie_df.reset_index()\n",
    "movie_df.head()"
   ]
  },
  {
   "cell_type": "code",
   "execution_count": 174,
   "metadata": {},
   "outputs": [
    {
     "name": "stdout",
     "output_type": "stream",
     "text": [
      "Number of movies:  53889\n"
     ]
    }
   ],
   "source": [
    "print(\"Number of movies: \", len(movie_df))"
   ]
  },
  {
   "cell_type": "markdown",
   "metadata": {},
   "source": [
    "From observing the data, we see there are 283,228 unique users and 53889 unique movies. We will want to train our model on at least 20,000 users and 1,000 movies. Hence we will set conditions based on our business objectives to narrow down our selection before randomly sampling to a smaller dataset."
   ]
  },
  {
   "cell_type": "markdown",
   "metadata": {},
   "source": [
    "### Finding Sampling Thresholds"
   ]
  },
  {
   "cell_type": "markdown",
   "metadata": {},
   "source": [
    "To sample the dataset, we took some rules that we mentioned above under Framework into consideration. We mentioned that our intended user is all types of users. Therefore, the first step to sampling our dataset is to find the threshold of the number of movies that distinguishes a new, moderate, and active user. "
   ]
  },
  {
   "cell_type": "code",
   "execution_count": 175,
   "metadata": {},
   "outputs": [
    {
     "data": {
      "text/html": [
       "<div>\n",
       "<style scoped>\n",
       "    .dataframe tbody tr th:only-of-type {\n",
       "        vertical-align: middle;\n",
       "    }\n",
       "\n",
       "    .dataframe tbody tr th {\n",
       "        vertical-align: top;\n",
       "    }\n",
       "\n",
       "    .dataframe thead th {\n",
       "        text-align: right;\n",
       "    }\n",
       "</style>\n",
       "<table border=\"1\" class=\"dataframe\">\n",
       "  <thead>\n",
       "    <tr style=\"text-align: right;\">\n",
       "      <th></th>\n",
       "      <th>userId</th>\n",
       "      <th>ratings_count</th>\n",
       "      <th>average_rating</th>\n",
       "    </tr>\n",
       "  </thead>\n",
       "  <tbody>\n",
       "    <tr>\n",
       "      <th>0</th>\n",
       "      <td>1</td>\n",
       "      <td>16</td>\n",
       "      <td>3.312500</td>\n",
       "    </tr>\n",
       "    <tr>\n",
       "      <th>1</th>\n",
       "      <td>2</td>\n",
       "      <td>15</td>\n",
       "      <td>3.666667</td>\n",
       "    </tr>\n",
       "    <tr>\n",
       "      <th>2</th>\n",
       "      <td>3</td>\n",
       "      <td>11</td>\n",
       "      <td>3.545455</td>\n",
       "    </tr>\n",
       "    <tr>\n",
       "      <th>3</th>\n",
       "      <td>4</td>\n",
       "      <td>736</td>\n",
       "      <td>3.397418</td>\n",
       "    </tr>\n",
       "    <tr>\n",
       "      <th>4</th>\n",
       "      <td>5</td>\n",
       "      <td>72</td>\n",
       "      <td>4.263889</td>\n",
       "    </tr>\n",
       "  </tbody>\n",
       "</table>\n",
       "</div>"
      ],
      "text/plain": [
       "   userId  ratings_count  average_rating\n",
       "0       1             16        3.312500\n",
       "1       2             15        3.666667\n",
       "2       3             11        3.545455\n",
       "3       4            736        3.397418\n",
       "4       5             72        4.263889"
      ]
     },
     "execution_count": 175,
     "metadata": {},
     "output_type": "execute_result"
    }
   ],
   "source": [
    "user_df.head()"
   ]
  },
  {
   "cell_type": "code",
   "execution_count": 5,
   "metadata": {},
   "outputs": [
    {
     "name": "stdout",
     "output_type": "stream",
     "text": [
      "33% percentile: 17.0\n",
      "66% percentile: 61.0\n"
     ]
    },
    {
     "data": {
      "text/plain": [
       "count    283228.000000\n",
       "mean         97.989761\n",
       "std         212.760722\n",
       "min           1.000000\n",
       "25%          15.000000\n",
       "50%          30.000000\n",
       "75%          95.000000\n",
       "max       23715.000000\n",
       "Name: ratings_count, dtype: float64"
      ]
     },
     "execution_count": 5,
     "metadata": {},
     "output_type": "execute_result"
    }
   ],
   "source": [
    "#Split up into new users, moderate users, heavy users\n",
    "user_df = data.groupby('userId').count()[['movieId']].rename(columns={'movieId':'ratings_count'})\n",
    "print(\"33% percentile:\", np.percentile(user_df['ratings_count'], 33))\n",
    "print(\"66% percentile:\", np.percentile(user_df['ratings_count'], 66))\n",
    "user_df['ratings_count'].describe()"
   ]
  },
  {
   "cell_type": "markdown",
   "metadata": {},
   "source": [
    "The $33^{rd}$ percentile of the number of movies each user rated is at 17, and therefore we are setting new users to those who have rated between 1 and 17 movies. The $66^{th}$ percentile is at 61, making moderate users those who have rated between 18 and 61 movies. Active users will be those in the dataset that have rated greater than 61 movies. "
   ]
  },
  {
   "cell_type": "markdown",
   "metadata": {},
   "source": [
    "In addition, we mentioned that we want to recommend good movies to our customers. Our analyses of what is considered a \"good\" movie is going to be done here, although it will not be implemented while sampling the dataset, rather while extracting the top 10 movies to recommend to the customer"
   ]
  },
  {
   "cell_type": "code",
   "execution_count": 220,
   "metadata": {},
   "outputs": [
    {
     "data": {
      "text/plain": [
       "Text(0.5, 1.0, 'average ratings for users')"
      ]
     },
     "execution_count": 220,
     "metadata": {},
     "output_type": "execute_result"
    },
    {
     "data": {
      "image/png": "[encoded data removed]",
      "text/plain": [
       "<Figure size 432x288 with 1 Axes>"
      ]
     },
     "metadata": {
      "needs_background": "light"
     },
     "output_type": "display_data"
    }
   ],
   "source": [
    "plt.hist(user_df['average_rating']);\n",
    "plt.title(\"average ratings for users\")"
   ]
  },
  {
   "cell_type": "code",
   "execution_count": 221,
   "metadata": {},
   "outputs": [
    {
     "data": {
      "image/png": "[encoded data removed]",
      "text/plain": [
       "<Figure size 432x288 with 1 Axes>"
      ]
     },
     "metadata": {
      "needs_background": "light"
     },
     "output_type": "display_data"
    }
   ],
   "source": [
    "fig = plt.figure()\n",
    "g = data.groupby('rating').count().reset_index();\n",
    "x = g['rating']\n",
    "y = g['userId']\n",
    "plt.bar(x, y, width = 0.4);\n",
    "plt.title(\"ratings\");"
   ]
  },
  {
   "cell_type": "code",
   "execution_count": 222,
   "metadata": {},
   "outputs": [
    {
     "data": {
      "text/plain": [
       "count    2.775344e+07\n",
       "mean     3.530445e+00\n",
       "std      1.066353e+00\n",
       "min      5.000000e-01\n",
       "25%      3.000000e+00\n",
       "50%      3.500000e+00\n",
       "75%      4.000000e+00\n",
       "max      5.000000e+00\n",
       "Name: rating, dtype: float64"
      ]
     },
     "execution_count": 222,
     "metadata": {},
     "output_type": "execute_result"
    }
   ],
   "source": [
    "data['rating'].describe()"
   ]
  },
  {
   "cell_type": "markdown",
   "metadata": {},
   "source": [
    "The 2 plots are quite similar. We see through the bottom plots that more people give whole value numbers rather than halves. In addition, most people vote 4. The average rating given to a user is more normal. But similarly, most people's average ratings are around 3.5 to 4. Hence, when we determine whether or not a recommendation is \"good\", we will only consider values equal or greater than 3.5. This boundary will determine our accuracy in future parts of the project."
   ]
  },
  {
   "cell_type": "markdown",
   "metadata": {},
   "source": [
    "### Sampling"
   ]
  },
  {
   "cell_type": "markdown",
   "metadata": {},
   "source": [
    "Read in the movie data"
   ]
  },
  {
   "cell_type": "code",
   "execution_count": 7,
   "metadata": {},
   "outputs": [
    {
     "data": {
      "text/html": [
       "<div>\n",
       "<style scoped>\n",
       "    .dataframe tbody tr th:only-of-type {\n",
       "        vertical-align: middle;\n",
       "    }\n",
       "\n",
       "    .dataframe tbody tr th {\n",
       "        vertical-align: top;\n",
       "    }\n",
       "\n",
       "    .dataframe thead th {\n",
       "        text-align: right;\n",
       "    }\n",
       "</style>\n",
       "<table border=\"1\" class=\"dataframe\">\n",
       "  <thead>\n",
       "    <tr style=\"text-align: right;\">\n",
       "      <th></th>\n",
       "      <th>movieId</th>\n",
       "      <th>title</th>\n",
       "      <th>genres</th>\n",
       "    </tr>\n",
       "  </thead>\n",
       "  <tbody>\n",
       "    <tr>\n",
       "      <th>0</th>\n",
       "      <td>1</td>\n",
       "      <td>Toy Story (1995)</td>\n",
       "      <td>Adventure|Animation|Children|Comedy|Fantasy</td>\n",
       "    </tr>\n",
       "    <tr>\n",
       "      <th>1</th>\n",
       "      <td>2</td>\n",
       "      <td>Jumanji (1995)</td>\n",
       "      <td>Adventure|Children|Fantasy</td>\n",
       "    </tr>\n",
       "    <tr>\n",
       "      <th>2</th>\n",
       "      <td>3</td>\n",
       "      <td>Grumpier Old Men (1995)</td>\n",
       "      <td>Comedy|Romance</td>\n",
       "    </tr>\n",
       "    <tr>\n",
       "      <th>3</th>\n",
       "      <td>4</td>\n",
       "      <td>Waiting to Exhale (1995)</td>\n",
       "      <td>Comedy|Drama|Romance</td>\n",
       "    </tr>\n",
       "    <tr>\n",
       "      <th>4</th>\n",
       "      <td>5</td>\n",
       "      <td>Father of the Bride Part II (1995)</td>\n",
       "      <td>Comedy</td>\n",
       "    </tr>\n",
       "  </tbody>\n",
       "</table>\n",
       "</div>"
      ],
      "text/plain": [
       "   movieId                               title  \\\n",
       "0        1                    Toy Story (1995)   \n",
       "1        2                      Jumanji (1995)   \n",
       "2        3             Grumpier Old Men (1995)   \n",
       "3        4            Waiting to Exhale (1995)   \n",
       "4        5  Father of the Bride Part II (1995)   \n",
       "\n",
       "                                        genres  \n",
       "0  Adventure|Animation|Children|Comedy|Fantasy  \n",
       "1                   Adventure|Children|Fantasy  \n",
       "2                               Comedy|Romance  \n",
       "3                         Comedy|Drama|Romance  \n",
       "4                                       Comedy  "
      ]
     },
     "execution_count": 7,
     "metadata": {},
     "output_type": "execute_result"
    }
   ],
   "source": [
    "movies_data = pd.read_csv(movie_file)\n",
    "movies_data.head() "
   ]
  },
  {
   "cell_type": "markdown",
   "metadata": {},
   "source": [
    "This method below finds the list of users that fall under the new, moderate, and active users category by splitting them up into three different dataframes based on the thresholds found above. For new users, we are subsetting the dataframe such that the users have at least 5 ratings in order to be able to hold out 20% of the data for testing. Therefore we will use users who have rated 5 to 17 movies for new users, 18 to 61 movies for moderate users, and greater than 62 movies for active users. In order to implement the dataset for our model, we took 7,000 users from each dataframe such that overall we will be testing on 21,000 users, and an equal amount of users from each category will have recommended movies. After finding 7,000 users from each user category, we split up the data into three different dataframes, keeping all the data for each user (ex: all 5 ratings for one user, or all 35 ratings for one user), such that we can keep the distinction between each user group."
   ]
  },
  {
   "cell_type": "code",
   "execution_count": 9,
   "metadata": {},
   "outputs": [],
   "source": [
    "def categorize_users(data):\n",
    "    user_df = data.groupby('userId').count()[['movieId']].rename(columns={'movieId':'ratings_count'})\n",
    "    \n",
    "    new_users = user_df[user_df['ratings_count'] > 5]\n",
    "    new_users = new_users[new_users['ratings_count'] <= 17].reset_index()['userId']\n",
    "    mod_users = user_df[user_df['ratings_count'] > 17]\n",
    "    mod_users = mod_users[mod_users['ratings_count'] <= 61].reset_index()['userId']\n",
    "    active_users = user_df[user_df['ratings_count'] > 61].reset_index()['userId']\n",
    "    \n",
    "    new_users = new_users.sample(n=7000, random_state =1)\n",
    "    mod_users = mod_users.sample(n=7000, random_state =1)\n",
    "    active_users = active_users.sample(n=7000, random_state =1)\n",
    "    \n",
    "    new_users_data = data[data['userId'].isin(new_users)]\n",
    "    mod_users_data = data[data['userId'].isin(mod_users)]\n",
    "    active_users_data = data[data['userId'].isin(active_users)]\n",
    "    \n",
    "    return new_users_data, mod_users_data, active_users_data "
   ]
  },
  {
   "cell_type": "code",
   "execution_count": 10,
   "metadata": {},
   "outputs": [],
   "source": [
    "new_users_data, mod_users_data, active_users_data = categorize_users(data)"
   ]
  },
  {
   "cell_type": "markdown",
   "metadata": {},
   "source": [
    "We are splitting each user category into 80/20 training and testing data, and then concatenating the training dataframes together and the testing dataframes together in order to create input for baseline models. The method in which we split train and test is very important for judging the plausibility of our model. Due to the nature of our recommendation system, we need to have the same users in both train and test. In addition, they need to have enough ratings for us to properly train and test our model."
   ]
  },
  {
   "cell_type": "code",
   "execution_count": 11,
   "metadata": {},
   "outputs": [],
   "source": [
    "y_new = new_users_data['rating']\n",
    "x_new = new_users_data[[c for c in new_users_data.columns if c != 'rating']]\n",
    "new_x_train, new_x_test, new_y_train, new_y_test = train_test_split(x_new, y_new, test_size=0.2, \n",
    "                            random_state = 1, stratify=new_users_data.userId)\n",
    "\n",
    "y_mod = mod_users_data['rating']\n",
    "x_mod = mod_users_data[[c for c in mod_users_data.columns if c != 'rating']]\n",
    "mod_x_train, mod_x_test, mod_y_train, mod_y_test = train_test_split(x_mod, y_mod, test_size=0.2, \n",
    "                            random_state = 1, stratify=mod_users_data.userId)\n",
    "\n",
    "y_active = active_users_data['rating']\n",
    "x_active = active_users_data[[c for c in active_users_data.columns if c != 'rating']]\n",
    "active_x_train, active_x_test, active_y_train, active_y_test = train_test_split(x_active, y_active, test_size=0.2, \n",
    "                            random_state = 1, stratify=active_users_data.userId)\n",
    "\n",
    "#combine all user data to create one training and one testing dataframe \n",
    "\n",
    "new_training = pd.concat([new_x_train, new_y_train], axis=1)\n",
    "new_testing = pd.concat([new_x_test, new_y_test], axis=1)\n",
    "moderate_training = pd.concat([mod_x_train, mod_y_train], axis=1)\n",
    "moderate_testing = pd.concat([mod_x_test, mod_y_test], axis=1)\n",
    "active_training = pd.concat([active_x_train, active_y_train], axis=1)\n",
    "active_testing = pd.concat([active_x_test, active_y_test], axis=1)\n",
    "\n",
    "\n",
    "train = new_training.append([moderate_training, active_training])\n",
    "test = new_testing.append([moderate_testing, active_testing])"
   ]
  },
  {
   "cell_type": "code",
   "execution_count": 32,
   "metadata": {},
   "outputs": [
    {
     "name": "stdout",
     "output_type": "stream",
     "text": [
      "Number of Users: 21000\n",
      "Number of Movies: 40059\n",
      "Number of Ratings in Train: 1616283\n",
      "Number of Ratings in Test: 404072\n"
     ]
    }
   ],
   "source": [
    "print(\"Number of Users:\", train['userId'].nunique())\n",
    "print(\"Number of Movies:\", train['movieId'].nunique() + test['movieId'].nunique())\n",
    "print(\"Number of Ratings in Train:\", len(train))\n",
    "print(\"Number of Ratings in Test:\", len(test))"
   ]
  },
  {
   "cell_type": "markdown",
   "metadata": {},
   "source": [
    "As seen from this distribution above, we will be working with a total of **21,000** users and **40,059** movies. In addition, we will be training on a total of **1,616,283** ratings and testing on **404,072** ratings to evaluate our models. "
   ]
  },
  {
   "cell_type": "markdown",
   "metadata": {},
   "source": [
    "## Benchmarks "
   ]
  },
  {
   "cell_type": "markdown",
   "metadata": {},
   "source": [
    "### Evaluation Metrics"
   ]
  },
  {
   "cell_type": "markdown",
   "metadata": {},
   "source": [
    "Our **primary** evaluation metric is RMSE. The RMSE is a quadratic scoring rule which measures the average magnitude of the error. RMSE reflects the squared difference between prediction and corresponding observed values which is then averaged over the sample and then taken the square root of. Since the errors are squared before they are averaged, the RMSE gives a relatively high weight to large errors. For our movie ratings recommender model, we do not want large errors in our recommendations as this would render the model useless. Thus, we believe RMSE is a good metric because it highly penalizes large errors.\n",
    "\n",
    "The **secondary** evaluation metric is the ranking metric: precision and recall @ k. Precision measures the truly relevant recommendations out of everything recommended. Recall represents the truly relevant recommendations out of all relevant items. We are measuring these values at the top 10 recommendations for each user. Precision is a good evaluation metric for movie recommendations because the cost of a false positive is very high and the cost of a false negative is low. We do not want to give a wrong strong recommendation for a movie, that would be worse than missing a good movie to recommend. We consider a rating of 3.5 and above to be a \"good\" rating. From the analyses done in our exploratory section, we determine that majority of the ratings are around 3-4, with around the top 25% of the ratings 4 or higher. Therefore, for users to consider a movie good, or one of the top movies out of the movies they've rated, we set the cutoff at 3.5 to distinguish it as good. From previous testing, we notice that setting a cutoff of 4 was too stringent and we would not recommend enough \"good\" movies. Hence, we think that 3.5 would be more suitable.\n",
    "\n",
    "The **third** evaluation metric is user/item coverage @ k. For user coverage, it was defined as the percentage of users in the test set that had all their items in the top-10 recommended items given by the algorithm. For item coverage, it was defined as the percentage of items in the training set that was actually recommended to users in the test set.\n",
    "\n",
    "\n",
    "Our **fourth** evaluation metric is NDCG. DCG, or discounted cummulative gain, measures the relevance of an item based on its position in the results. The gain is highest at the top of the results list, where the gain continues to get discounted at every lower rank. IDCG, or ideal discounted cummulative gain, is found by producing the maximum possible DCG for each user. Therefore, NDCG, normalized discounted cummulative gain, is normalized across each user, meaning that the DCG is divided by the IDCG. The highest NDCG is 1, where the DCG is equal to the IDCG, and therefore the higher the NDCG, typically the better our ranking system is. "
   ]
  },
  {
   "cell_type": "markdown",
   "metadata": {},
   "source": [
    "### Baseline Model"
   ]
  },
  {
   "cell_type": "markdown",
   "metadata": {},
   "source": [
    "Our baseline predicts a movie rating given by a user for a movie. That prediction is the average between 1) the average rating the user gives and 2) the average rating of a movie. Our reasoning behind this baseline is that most people have similar reactions to similar movies. If a movie is good, people will rate it highly and visa versa. In addition, we take into consideration how critical a user is. Some users may generally give lower ratings for movies and some higher. Therefore, our final prediction with our baseline is the average of these two values. We also included a caveat for situations where we do not have information about a movie's ratings in training due to the nature of splitting train and test data. In this situation, we will only judge based on the user's average rating. The way we split the data will not allow for there to be no user average rating so we do not need to consider this case. We believe this is a suitable baseline because most users are considered \"normal\" from our data exploration and will give similar ratings to similar movies."
   ]
  },
  {
   "cell_type": "code",
   "execution_count": 12,
   "metadata": {},
   "outputs": [],
   "source": [
    "def baseline_model(training, test):\n",
    "    training = train.reset_index()\n",
    "    test = test.reset_index()\n",
    "\n",
    "    avg_movie_rating = training.groupby('movieId').mean().reset_index()[['movieId', 'rating']]\n",
    "    avg_user_rating = training.groupby('userId').mean().reset_index()[['userId', 'rating']]\n",
    "  \n",
    "    pred = []\n",
    "    for i in range(len(test)):\n",
    "        user_id = test['userId'][i]\n",
    "        movie_id = test['movieId'][i]\n",
    "        user_avg = avg_user_rating[avg_user_rating['userId']==user_id]['rating'].iloc[0]\n",
    "\n",
    "        temp = avg_movie_rating[avg_movie_rating['movieId'] == movie_id]\n",
    "        if temp.empty:\n",
    "            prediction = user_avg\n",
    "        else:\n",
    "            movie_avg = avg_movie_rating[avg_movie_rating['movieId'] == movie_id]['rating'].iloc[0]\n",
    "            prediction = (user_avg + movie_avg) / 2\n",
    "\n",
    "        pred.append(prediction)\n",
    "        \n",
    "    test['predictions'] = pred\n",
    "    return test[['userId', 'movieId', 'rating', 'predictions']]"
   ]
  },
  {
   "cell_type": "markdown",
   "metadata": {},
   "source": [
    "Use predictions on test dataset from this model for model evaluation."
   ]
  },
  {
   "cell_type": "code",
   "execution_count": 15,
   "metadata": {},
   "outputs": [],
   "source": [
    "baseline_preds = baseline_model(train, test)\n",
    "baseline_preds['prediction'] = baseline_preds['predictions']\n",
    "baseline_preds = baseline_preds.drop(columns=['predictions'])"
   ]
  },
  {
   "cell_type": "markdown",
   "metadata": {},
   "source": [
    "### Evaluation"
   ]
  },
  {
   "cell_type": "markdown",
   "metadata": {},
   "source": [
    "#### RMSE"
   ]
  },
  {
   "cell_type": "code",
   "execution_count": 16,
   "metadata": {},
   "outputs": [],
   "source": [
    "def get_rmse(pred, original):\n",
    "    rmse = (sum((pred-original)**2)/len(pred)) ** (1/2)\n",
    "    return rmse\n",
    "\n",
    "#additional error metric\n",
    "def get_mae(pred, original):\n",
    "    mae = sum(abs(original - pred)) / len(pred)\n",
    "    return mae"
   ]
  },
  {
   "cell_type": "code",
   "execution_count": 17,
   "metadata": {},
   "outputs": [
    {
     "name": "stdout",
     "output_type": "stream",
     "text": [
      "RMSE for baseline: 0.9209788487376078\n"
     ]
    }
   ],
   "source": [
    "rmse_base = get_rmse(baseline_preds['prediction'], baseline_preds['rating'])\n",
    "print(\"RMSE for baseline:\", rmse_base)"
   ]
  },
  {
   "cell_type": "markdown",
   "metadata": {},
   "source": [
    "#### Precision and Recall @ 10"
   ]
  },
  {
   "cell_type": "code",
   "execution_count": 18,
   "metadata": {},
   "outputs": [],
   "source": [
    "def precision_recall_at_k(predictions, k=10, threshold=3.5):\n",
    "    # First map the predictions to each user.\n",
    "    user_est_true = defaultdict(list)\n",
    "    for index, row in predictions.iterrows(): \n",
    "        uid = row['userId']\n",
    "        user_est_true[uid].append((row['prediction'], row['rating']))\n",
    "\n",
    "    precisions = dict()\n",
    "    recalls = dict()\n",
    "    for uid, user_ratings in user_est_true.items():\n",
    "        # Sort user ratings by estimated value\n",
    "        user_ratings.sort(key=lambda x: x[0], reverse=True)\n",
    "        n_rel = sum((true_r >= threshold) for (_, true_r) in user_ratings)\n",
    "        n_rec_k = sum((est >= threshold) for (est, _) in user_ratings[:k])\n",
    "        n_rel_and_rec_k = sum(((true_r >= threshold) and (est >= threshold))\n",
    "                              for (est, true_r) in user_ratings[:k])\n",
    "\n",
    "        # Precision@K: Proportion of recommended items that are relevant\n",
    "        # When n_rec_k is 0, Precision is undefined. We here set it to 0.\n",
    "        precisions[uid] = n_rel_and_rec_k / n_rec_k if n_rec_k != 0 else 0\n",
    "\n",
    "        # Recall@K: Proportion of relevant items that are recommended\n",
    "        # When n_rel is 0, Recall is undefined. We here set it to 0.\n",
    "        recalls[uid] = n_rel_and_rec_k / n_rel if n_rel != 0 else 0\n",
    "\n",
    "    return precisions, recalls"
   ]
  },
  {
   "cell_type": "code",
   "execution_count": 19,
   "metadata": {},
   "outputs": [
    {
     "name": "stdout",
     "output_type": "stream",
     "text": [
      "Average Precision @ 10: 0.6529291761148573\n",
      "Average Recall @ 10: 0.5423348918724351\n"
     ]
    }
   ],
   "source": [
    "precisions_base, recalls_base = precision_recall_at_k(baseline_preds, k=10, threshold=3.5)\n",
    "avg_base_precision = sum(precisions_base.values()) / len(precisions_base)\n",
    "print(\"Average Precision @ 10:\", avg_base_precision)\n",
    "avg_base_recall = sum(recalls_base.values()) / len(recalls_base)\n",
    "print(\"Average Recall @ 10:\", avg_base_recall)"
   ]
  },
  {
   "cell_type": "markdown",
   "metadata": {},
   "source": [
    "#### Coverage"
   ]
  },
  {
   "cell_type": "code",
   "execution_count": 21,
   "metadata": {},
   "outputs": [],
   "source": [
    "def get_top_recs_cb(ratings, n):\n",
    "    #returns the top n recommendations \n",
    "    top_recs = {}\n",
    "    \n",
    "    for index, row in ratings.iterrows():\n",
    "        if row['userId'] not in top_recs.keys():\n",
    "            top_recs[row['userId']] = [(row['movieId'], row['prediction'], row['rating'])]\n",
    "        else:\n",
    "            top_recs[row['userId']].append((row['movieId'], row['prediction'], row['rating']))\n",
    "    \n",
    "    # sort the preds for each user and get the n highest ones.\n",
    "    for user, ratings in top_recs.items():\n",
    "        ratings.sort(key=lambda x: x[1], reverse=True)\n",
    "        top_recs[user] = ratings[:n]\n",
    "\n",
    "    return top_recs"
   ]
  },
  {
   "cell_type": "code",
   "execution_count": 22,
   "metadata": {},
   "outputs": [],
   "source": [
    "def user_coverage(top_recs, k):\n",
    "    user_cov = {}\n",
    "    tot = 0\n",
    "    for user in top_recs:\n",
    "        user_cov[user] = []\n",
    "        for ratings in top_recs[user]:\n",
    "            if ratings[2] >= 3.5:\n",
    "                user_cov[user].append(ratings[0])\n",
    "        if len(user_cov[user]) >= k:\n",
    "            tot += 1\n",
    "    return tot "
   ]
  },
  {
   "cell_type": "code",
   "execution_count": 23,
   "metadata": {},
   "outputs": [],
   "source": [
    "def item_coverage(top_recs, k):\n",
    "    item_cov = {}\n",
    "    tot = 0\n",
    "    for user in top_recs:\n",
    "        for ratings in top_recs[user]:\n",
    "            if ratings[0] not in item_cov.keys(): \n",
    "                item_cov[ratings[0]] = [] \n",
    "            if ratings[2] >= 3.5:\n",
    "                item_cov[ratings[0]].append(ratings[0])  \n",
    "                \n",
    "    for item in item_cov:\n",
    "        if len(item_cov[item]) >= k:\n",
    "            tot += 1        \n",
    "    return tot, item_cov"
   ]
  },
  {
   "cell_type": "code",
   "execution_count": 24,
   "metadata": {},
   "outputs": [
    {
     "name": "stdout",
     "output_type": "stream",
     "text": [
      "User Coverage of test set: 0.9332857142857143\n",
      "Item Coverage of test set: 0.8257609175121305\n"
     ]
    }
   ],
   "source": [
    "toprecs_base_test = get_top_recs_cb(baseline_preds, 10)\n",
    "user_cov_test_base = user_coverage(toprecs_base_test, 1) / len(toprecs_base_test)\n",
    "print (\"User Coverage of test set:\", user_cov_test_base)\n",
    "item_cov_ts_base, item_dict_ts_base = item_coverage(toprecs_base_test, 1)\n",
    "item_cov_test_base = item_cov_ts_base / len(item_dict_ts_base)\n",
    "print (\"Item Coverage of test set:\", item_cov_test_base)"
   ]
  },
  {
   "cell_type": "markdown",
   "metadata": {},
   "source": [
    "#### NDCG"
   ]
  },
  {
   "cell_type": "code",
   "execution_count": 25,
   "metadata": {},
   "outputs": [],
   "source": [
    "def ndcg_at_k(predictions, k=10):\n",
    "    # First map the predictions to each user.\n",
    "    user_est_true = defaultdict(list)\n",
    "    ndcgs = [] \n",
    "    for index, row in predictions.iterrows(): \n",
    "        uid = row['userId']\n",
    "        user_est_true[uid].append((row['prediction'], row['rating']))\n",
    "        \n",
    "    def dcg_at_k(user_ratings, user_preds, k=10):\n",
    "        # Sort user ratings by estimated value\n",
    "        user_preds = np.argsort(user_preds)[::-1]\n",
    "        user_ratings = np.take(user_ratings, user_preds[:k])\n",
    "        user_ratings = np.array(user_ratings)\n",
    "        num = 2 ** user_ratings - 1\n",
    "        den = np.log2(np.arange(2, num.size + 2))\n",
    "        dcg = np.sum(num/den)\n",
    "        return dcg\n",
    "        \n",
    "    for uid, scores in user_est_true.items():\n",
    "        user_preds = [x[0] for x in scores]\n",
    "        user_ratings = [x[1] for x in scores]\n",
    "        dcg = dcg_at_k(user_ratings, user_preds)\n",
    "        idcg = dcg_at_k(user_ratings, user_ratings)\n",
    "        ndcg = dcg/idcg\n",
    "        ndcgs.append(ndcg)\n",
    "    \n",
    "    avg_ndcg = sum(ndcgs)/len(ndcgs) \n",
    "    return avg_ndcg"
   ]
  },
  {
   "cell_type": "code",
   "execution_count": 26,
   "metadata": {},
   "outputs": [
    {
     "name": "stdout",
     "output_type": "stream",
     "text": [
      "Average NDCG @ 10: 0.8609242830244749\n"
     ]
    }
   ],
   "source": [
    "avg_ndcg_base = ndcg_at_k(baseline_preds)\n",
    "print(\"Average NDCG @ 10:\", avg_ndcg_base)"
   ]
  },
  {
   "cell_type": "markdown",
   "metadata": {},
   "source": [
    "### Collaborative Filtering Baseline "
   ]
  },
  {
   "cell_type": "markdown",
   "metadata": {},
   "source": [
    "Another baseline that we are implementing to check our hybrid model against is the collaborative filtering baseline. Collaborative filtering works on past user behavior without any context so we think it would provide a valuable baseline for our other models. Our implementation of item based CF makes recommendations based on similarity between items calculated from user ratings of those items. We create the movie by movie matrix and predict the ratings a user will give a movie based on the previous ratings they have given. In addition, item based CF would be more suitable for our platform where the increase of new movies is much slower than the increase of new users. When we get a new user, we do not need to recalculate user to user similarity like we need for user based CF. This model is thoroughly explored in another file called *Item Based Collaborating Filtering and MF Exploration*, where we found that using a neighborhood size of k=50 would provide the best results, and therefore, used this optimized model to provide another benchmark.  "
   ]
  },
  {
   "cell_type": "markdown",
   "metadata": {},
   "source": [
    "#### Item-Based CF Model"
   ]
  },
  {
   "cell_type": "code",
   "execution_count": 14,
   "metadata": {},
   "outputs": [],
   "source": [
    "def get_model_ib(training_df, k):\n",
    "    moviescales = Reader(rating_scale=(0.5, 5.0))\n",
    "    data_training = Dataset.load_from_df(training_df[['userId', 'movieId', 'rating']], moviescales)    \n",
    "    trainset = data_training.build_full_trainset()\n",
    "    knn_model = KNNWithMeans(sim_options = {'name':'pearson', 'user_based': False}, k=k)\n",
    "    knn_model.fit(trainset)\n",
    "    return knn_model "
   ]
  },
  {
   "cell_type": "code",
   "execution_count": 18,
   "metadata": {},
   "outputs": [],
   "source": [
    "def get_predictions(model, test_df):\n",
    "    preds = [] \n",
    "    for index, row in test_df.iterrows(): \n",
    "        pred = model.predict(row['userId'], row['movieId'], r_ui=row['rating'], verbose=False)\n",
    "        preds.append(pred.est)\n",
    "    \n",
    "    return preds"
   ]
  },
  {
   "cell_type": "markdown",
   "metadata": {},
   "source": [
    "Use predictions on test dataset from this model for model evaluation."
   ]
  },
  {
   "cell_type": "code",
   "execution_count": 19,
   "metadata": {},
   "outputs": [],
   "source": [
    "cf_model = get_model_ib(train, 50)\n",
    "cf_preds = get_predictions(cf_model, test)"
   ]
  },
  {
   "cell_type": "markdown",
   "metadata": {},
   "source": [
    "### Evaluation"
   ]
  },
  {
   "cell_type": "markdown",
   "metadata": {},
   "source": [
    "#### RMSE"
   ]
  },
  {
   "cell_type": "code",
   "execution_count": 22,
   "metadata": {},
   "outputs": [
    {
     "name": "stdout",
     "output_type": "stream",
     "text": [
      "RMSE for test holdouts: 0.8674876267450995\n",
      "MAE for test holdoutes: 0.6578941565068348\n"
     ]
    }
   ],
   "source": [
    "rmse_cf = get_rmse(cf_preds, test['rating'])\n",
    "mae_cf = get_mae(cf_preds, test['rating'])\n",
    "print(\"RMSE for test holdouts:\", rmse_cf)\n",
    "print(\"MAE for test holdoutes:\", mae_cf)"
   ]
  },
  {
   "cell_type": "markdown",
   "metadata": {},
   "source": [
    "#### Precision and Recall @ 10"
   ]
  },
  {
   "cell_type": "code",
   "execution_count": 24,
   "metadata": {},
   "outputs": [],
   "source": [
    "cf_test_preds = test\n",
    "cf_test_preds['prediction'] = cf_preds"
   ]
  },
  {
   "cell_type": "code",
   "execution_count": 27,
   "metadata": {},
   "outputs": [
    {
     "name": "stdout",
     "output_type": "stream",
     "text": [
      "Average Precision @ 10: 0.6852053476945956\n",
      "Average Recall @ 10: 0.5636736957710076\n"
     ]
    }
   ],
   "source": [
    "precisions_cf, recalls_cf = precision_recall_at_k(cf_test_preds, k=10, threshold=3.5)\n",
    "avg_cf_precision = sum(precisions_cf.values()) / len(precisions_cf)\n",
    "print(\"Average Precision @ 10:\", avg_cf_precision)\n",
    "avg_cf_recall = sum(recalls_cf.values()) / len(recalls_cf)\n",
    "print(\"Average Recall @ 10:\", avg_cf_recall)"
   ]
  },
  {
   "cell_type": "markdown",
   "metadata": {},
   "source": [
    "#### Coverage"
   ]
  },
  {
   "cell_type": "code",
   "execution_count": 33,
   "metadata": {},
   "outputs": [
    {
     "name": "stdout",
     "output_type": "stream",
     "text": [
      "User Coverage of test set: 0.9333809523809524\n",
      "Item Coverage of test set: 0.810377222141928\n"
     ]
    }
   ],
   "source": [
    "toprecs_cf_test = get_top_recs_cb(cf_test_preds, 10)\n",
    "user_cov_test_cf = user_coverage(toprecs_cf_test, 1) / len(toprecs_cf_test)\n",
    "print (\"User Coverage of test set:\", user_cov_test_cf)\n",
    "item_cov_ts_cf, item_dict_ts_cf = item_coverage(toprecs_cf_test, 1)\n",
    "item_cov_test_cf = item_cov_ts_cf / len(item_dict_ts_cf)\n",
    "print (\"Item Coverage of test set:\", item_cov_test_cf)"
   ]
  },
  {
   "cell_type": "markdown",
   "metadata": {},
   "source": [
    "#### NDCG"
   ]
  },
  {
   "cell_type": "code",
   "execution_count": 178,
   "metadata": {},
   "outputs": [
    {
     "name": "stdout",
     "output_type": "stream",
     "text": [
      "Average NDCG @ 10: 0.8723997488515359\n"
     ]
    }
   ],
   "source": [
    "avg_ndcg_cf = ndcg_at_k(cf_test_preds)\n",
    "print(\"Average NDCG @ 10:\", avg_ndcg_cf)"
   ]
  },
  {
   "cell_type": "markdown",
   "metadata": {},
   "source": [
    "## Content Based Model - New Users"
   ]
  },
  {
   "cell_type": "markdown",
   "metadata": {},
   "source": [
    "We chose to use a content based model to provide top movie recommendations for the new user category, or more specifically those who have rated between 1 to 17 movies. For testing purposes, however, we increased the minimum number of ratings to 5 to create a viable train and test split. Given the fact that this category has limited information about the users and their preferences, we determined that a content based model would be the most appropriate as the model would focus on the content that the user has watched and liked/disliked previously, and try to recommend movies similar to the previous content. With this method, the model will not need data from any other users, and can recommend specific to user interest, optimizing the recommendations for users we do not have much information about. \n",
    "\n",
    "In this model, the user profile is a dataframe of the different features of the movies that the user has previously rated, where these features are extracted from using TF-IDF on the genres of each movie. The user profile is fed into a linear ridge regression model, such that the model is personalized for each user and can predict ratings for other unseen movies for that user. Another model approach that we considered implementing was finding the cosine similarity between the user and item profile, and returning the most similar movies as the top ten recommendations for the user. More description and an implementation of this alternate model is in the *Other_Baseline_Content_Based.ipynb* file under the src folder.\n",
    "\n",
    "We decided to move forward with the first approach using linear regression instead because we believed it provide a more robust analysis and more accurate results for the new users. The linear regression model trains a separate model for each user such that it can take into account previous ratings for each movie rated, and predict more accurately. While the cosine similarity method may be faster, we believe its accuracy will pale in comparison with the linear regression approach we took. In addition, we talked to the professor and TA about the content based model approach and got conflicting advice on which approach we should move forward with, and therefore, stuck through with the model that we believed would recommend more accurately. This discussion can be referenced on Piazza (private question @116). "
   ]
  },
  {
   "cell_type": "markdown",
   "metadata": {},
   "source": [
    "#### Preprocessing"
   ]
  },
  {
   "cell_type": "markdown",
   "metadata": {},
   "source": [
    "In the new user preprocessing method, we are taking in the new users data frame and splitting it into a train and test set that can be inputted into the model to make predictions. We split the data with an 80/20 split. In addition, this method takes in a movie data dataset, and converts its genres to a list of strings such that it can be correctly inputted into the TFIDF vectorizer. "
   ]
  },
  {
   "cell_type": "code",
   "execution_count": 99,
   "metadata": {},
   "outputs": [],
   "source": [
    "def new_user_preprocessing(new_user_data, movie_data):\n",
    "    y_new = new_users_data['rating']\n",
    "    x_new = new_users_data[[c for c in new_users_data.columns if c != 'rating']]\n",
    "    new_x_train, new_x_test, new_y_train, new_y_test = train_test_split(x_new, y_new, test_size=0.2, \n",
    "                                random_state = 1, stratify=new_users_data.userId)\n",
    "    \n",
    "    new_training = pd.concat([new_x_train, new_y_train], axis=1)\n",
    "    new_testing = pd.concat([new_x_test, new_y_test], axis=1)\n",
    "    \n",
    "    movie_data['genres'] = movie_data['genres'].str.split('|')\n",
    "    movie_data['genres'] = movie_data['genres'].fillna(\"\").astype('str')\n",
    "    \n",
    "    return new_training, new_testing, movie_data"
   ]
  },
  {
   "cell_type": "code",
   "execution_count": 100,
   "metadata": {},
   "outputs": [],
   "source": [
    "training_nu, test_nu, movie_data = new_user_preprocessing(new_training, movies_data)"
   ]
  },
  {
   "cell_type": "markdown",
   "metadata": {},
   "source": [
    "### Model "
   ]
  },
  {
   "cell_type": "code",
   "execution_count": 27,
   "metadata": {},
   "outputs": [],
   "source": [
    "def content_based_model(movie_data, train, test, alpha):\n",
    "    #item profile\n",
    "    tfidf = TfidfVectorizer(analyzer='word', ngram_range=(1, 2), min_df=0, stop_words='english')\n",
    "    tf_matrix = tfidf.fit_transform(movie_data['genres'])\n",
    "    tfidf_data = pd.DataFrame(tf_matrix.todense(), columns = tfidf.get_feature_names())\n",
    "    tfidf_data = tfidf_data.set_index(movie_data['movieId'])\n",
    "    \n",
    "    visited_users = [] \n",
    "    movie_list = []\n",
    "    preds = []\n",
    "    original = [] \n",
    "    predicted_ratings = pd.DataFrame() \n",
    "    \n",
    "    for user in test.userId.unique():\n",
    "        if user in visited_users: \n",
    "            continue\n",
    "        \n",
    "        toPredict = test[test['userId'] == user]\n",
    "        \n",
    "        #user profile \n",
    "        ratings_user = train[train['userId'] == user]\n",
    "        if ratings_user.empty:\n",
    "            continue \n",
    "        \n",
    "        user_genre = tfidf_data.loc[list(ratings_user['movieId'])]\n",
    "        \n",
    "        #build model for each user \n",
    "        reg = Ridge(alpha=alpha)\n",
    "        reg.fit(user_genre, ratings_user['rating'])\n",
    "        \n",
    "        original = original + list(toPredict['rating'])\n",
    "        visited_users = visited_users + ([user] * len(toPredict))\n",
    "        movie_list = movie_list + list(toPredict['movieId'])\n",
    "        #to_test = tfidf_data.loc[list(toPredict['movieId'])]\n",
    "        predictions = list(reg.predict(tfidf_data.loc[list(toPredict['movieId'])])) \n",
    "        preds = preds + predictions\n",
    "        \n",
    "    predicted_ratings['userId'] = visited_users\n",
    "    predicted_ratings['movieId'] = movie_list\n",
    "    predicted_ratings['rating'] = original\n",
    "    predicted_ratings['prediction'] = preds\n",
    "    \n",
    "    return predicted_ratings "
   ]
  },
  {
   "cell_type": "markdown",
   "metadata": {},
   "source": [
    "### Evaluation"
   ]
  },
  {
   "cell_type": "markdown",
   "metadata": {},
   "source": [
    "### Cross-Validation"
   ]
  },
  {
   "cell_type": "markdown",
   "metadata": {},
   "source": [
    "The RMSE is calculated as a **primary** metric to determine the best alpha for the model, and MAE is calculated to add any additional insight in the case that RMSE does not distinguish."
   ]
  },
  {
   "cell_type": "code",
   "execution_count": 66,
   "metadata": {},
   "outputs": [],
   "source": [
    "def cross_valid_cb(movie_data, folds, train, alpha):\n",
    "    rmses = []\n",
    "    maes = []\n",
    "    split_ind = len(train) // folds \n",
    "    for i in range(1, folds+1):  \n",
    "        test = train[((i-1)*split_ind):(i * split_ind)]\n",
    "        training = pd.concat([train[:(i-1)*split_ind], train[i*split_ind:]])\n",
    "        \n",
    "        ratings = content_based_model(movie_data, training, test, alpha)\n",
    "        rmse = get_rmse(ratings['prediction'], ratings['rating'])\n",
    "        mae = get_mae(ratings['prediction'], ratings['rating'])\n",
    "        \n",
    "        rmses.append(rmse)\n",
    "        maes.append(mae)\n",
    "        \n",
    "        \n",
    "    avg_rmse = sum(rmses) / len(rmses)\n",
    "    avg_mae = sum(maes) / len(maes)\n",
    "    \n",
    "    return avg_rmse, avg_mae"
   ]
  },
  {
   "cell_type": "code",
   "execution_count": 70,
   "metadata": {},
   "outputs": [],
   "source": [
    "def hypertuning_cb(alphas, movie_data, folds, train):\n",
    "    rmses = [] \n",
    "    maes = []\n",
    "    for alpha in alphas: \n",
    "        rmse, mae = cross_valid_cb(movie_data, folds, train, alpha)\n",
    "        rmses.append(rmse)\n",
    "        maes.append(mae)\n",
    "        \n",
    "    return rmses, maes"
   ]
  },
  {
   "cell_type": "code",
   "execution_count": 71,
   "metadata": {},
   "outputs": [],
   "source": [
    "alphas = [0.0001, 0.001, 0.005, 0.01, 0.05, 0.1, 0.5, 1]"
   ]
  },
  {
   "cell_type": "code",
   "execution_count": 28,
   "metadata": {},
   "outputs": [],
   "source": [
    "rmses, maes = hypertuning_cb(alphas, movie_data, 10, training_nu)"
   ]
  },
  {
   "cell_type": "code",
   "execution_count": 233,
   "metadata": {},
   "outputs": [
    {
     "data": {
      "image/png": "[encoded data removed]",
      "text/plain": [
       "<Figure size 432x288 with 1 Axes>"
      ]
     },
     "metadata": {
      "needs_background": "light"
     },
     "output_type": "display_data"
    },
    {
     "data": {
      "image/png": "[encoded data removed]",
      "text/plain": [
       "<Figure size 432x288 with 1 Axes>"
      ]
     },
     "metadata": {
      "needs_background": "light"
     },
     "output_type": "display_data"
    }
   ],
   "source": [
    "plt.figure()\n",
    "plt.plot(alphas, rmses)\n",
    "plt.title(\"RMSE values for Alpha\")\n",
    "plt.xlabel(\"Alpha\")\n",
    "plt.ylabel(\"RMSE\")\n",
    "plt.show()\n",
    "\n",
    "plt.figure()\n",
    "plt.plot(alphas, maes)\n",
    "plt.title(\"MAE values for Alpha\")\n",
    "plt.xlabel(\"Alpha\")\n",
    "plt.ylabel(\"MAE\")\n",
    "plt.show()"
   ]
  },
  {
   "cell_type": "code",
   "execution_count": 234,
   "metadata": {},
   "outputs": [
    {
     "name": "stdout",
     "output_type": "stream",
     "text": [
      "Alpha: 1, RMSE: 1.107108213817083\n"
     ]
    }
   ],
   "source": [
    "#get the min rmse value for alpha\n",
    "rmse_min = 0\n",
    "for i in range(len(rmses)):\n",
    "    if rmses[i] < rmses[rmse_min]: \n",
    "        rmse_min = i\n",
    "        \n",
    "print(\"Alpha: \" + str(alphas[rmse_min]) + \", RMSE: \" + str(rmses[rmse_min]))"
   ]
  },
  {
   "cell_type": "markdown",
   "metadata": {},
   "source": [
    "As seen from the plot above, the RMSE and MAE metric follow similar patterns. There is a significant increase in accuracy between as the alpha value increases. After finding the minimum RMSE value, we determined that setting the hyper-parameter to alpha=1 will be the best to proceed the rest of our model evaluations with.\n",
    "\n",
    "We calculated the MAE pattern as well to enforce our reasoning for choosing alpha=1. MAE also has the best accuracy at around alpha=1."
   ]
  },
  {
   "cell_type": "markdown",
   "metadata": {},
   "source": [
    "### Accuracy Metrics"
   ]
  },
  {
   "cell_type": "markdown",
   "metadata": {},
   "source": [
    "We will use the results from this model run in order to evaluate our accuracy metrics. "
   ]
  },
  {
   "cell_type": "code",
   "execution_count": 29,
   "metadata": {},
   "outputs": [],
   "source": [
    "#model predictions\n",
    "predicted_ratings = content_based_model(movie_data, training_nu, test_nu, 1)"
   ]
  },
  {
   "cell_type": "markdown",
   "metadata": {},
   "source": [
    "#### RMSE"
   ]
  },
  {
   "cell_type": "code",
   "execution_count": 102,
   "metadata": {},
   "outputs": [
    {
     "name": "stdout",
     "output_type": "stream",
     "text": [
      "RMSE for test holdouts: 1.0703456104106734\n",
      "MAE for test holdoutes: 0.8265421684282523\n"
     ]
    }
   ],
   "source": [
    "rmse = get_rmse(predicted_ratings['rating'], predicted_ratings['prediction'])\n",
    "mae = get_mae(predicted_ratings['rating'], predicted_ratings['prediction'])\n",
    "print(\"RMSE for test holdouts:\", rmse)\n",
    "print(\"MAE for test holdoutes:\", mae)"
   ]
  },
  {
   "cell_type": "markdown",
   "metadata": {},
   "source": [
    "#### Precision and Recall @ 10"
   ]
  },
  {
   "cell_type": "code",
   "execution_count": 79,
   "metadata": {},
   "outputs": [
    {
     "name": "stdout",
     "output_type": "stream",
     "text": [
      "Average Precision @ 10: 0.4447857142857143\n",
      "Average Recall @ 10: 0.487\n"
     ]
    }
   ],
   "source": [
    "precisions_cb, recalls_cb = precision_recall_at_k(predicted_ratings, k=10, threshold=3.5)\n",
    "avg_cb_precision = sum(precisions_cb.values()) / len(precisions_cb)\n",
    "print(\"Average Precision @ 10:\", avg_cb_precision)\n",
    "avg_cb_recall = sum(recalls_cb.values()) / len(recalls_cb)\n",
    "print(\"Average Recall @ 10:\", avg_cb_recall)"
   ]
  },
  {
   "cell_type": "markdown",
   "metadata": {},
   "source": [
    "From our results above, the precision and recall for the top recs are relatively low. The low precision indicates that the recommendations our users recieve are not entirely relevant. The recall indicates there are still a good amount of unexplored relevant movies that our model does not capture. This can be explored further with analyses on novelty and serendipity."
   ]
  },
  {
   "cell_type": "markdown",
   "metadata": {},
   "source": [
    "#### Coverage"
   ]
  },
  {
   "cell_type": "code",
   "execution_count": 93,
   "metadata": {},
   "outputs": [
    {
     "name": "stdout",
     "output_type": "stream",
     "text": [
      "User Coverage of test set: 0.771\n",
      "Item Coverage of test set: 0.7733612273361228\n"
     ]
    }
   ],
   "source": [
    "top_recs_cb_test = get_top_recs_cb(predicted_ratings, 10)\n",
    "user_cov_test_cb = user_coverage(top_recs_cb_test, 1) / len(top_recs_cb_test)\n",
    "print (\"User Coverage of test set:\", user_cov_test_cb)\n",
    "item_cov_ts_cb, item_dict_ts_cb = item_coverage(top_recs_cb_test, 1)\n",
    "item_cov_test_cb = item_cov_ts_cb / len(item_dict_ts_cb)\n",
    "print (\"Item Coverage of test set:\", item_cov_test_cb)"
   ]
  },
  {
   "cell_type": "markdown",
   "metadata": {},
   "source": [
    "#### NDCG"
   ]
  },
  {
   "cell_type": "code",
   "execution_count": 179,
   "metadata": {},
   "outputs": [
    {
     "name": "stdout",
     "output_type": "stream",
     "text": [
      "Average NDCG @ 10: 0.9256853619795273\n"
     ]
    }
   ],
   "source": [
    "avg_ndcg_cb = ndcg_at_k(predicted_ratings)\n",
    "print(\"Average NDCG @ 10:\", avg_ndcg_cb)"
   ]
  },
  {
   "cell_type": "markdown",
   "metadata": {},
   "source": [
    "## Matrix Factorization - Moderate Users"
   ]
  },
  {
   "cell_type": "markdown",
   "metadata": {},
   "source": [
    "We chose to use a matrix factorization model on moderate users, or more specifically those who have rated between 18 to 61 movies. Our matrix factorization model works by decomposing the user-item dataframe into the product of two lower dimensionality matrices. It discovers the latent factors from the user-item dataframe and uses these features to map the users and movies. We found this model to be most appropriate for moderate users as it is a collaborative filtering model and it can use the increased information from other users to evaluate its own predictions for the user. In addition, this method would not work well with new users because the matrix would be too spare to give a valid recommendation."
   ]
  },
  {
   "cell_type": "markdown",
   "metadata": {},
   "source": [
    "#### Preprocessing"
   ]
  },
  {
   "cell_type": "code",
   "execution_count": 82,
   "metadata": {},
   "outputs": [],
   "source": [
    "findspark.init() "
   ]
  },
  {
   "cell_type": "code",
   "execution_count": 83,
   "metadata": {},
   "outputs": [],
   "source": [
    "sc = SparkContext('local')\n",
    "spark = SparkSession(sc)"
   ]
  },
  {
   "cell_type": "markdown",
   "metadata": {},
   "source": [
    "The moderate user preprocessing method drops the genres column from the moderate users dataframe because this information is not necessary for the model, and uses Spark to split the dataframe into an 80/20 training and testing split. "
   ]
  },
  {
   "cell_type": "code",
   "execution_count": 106,
   "metadata": {},
   "outputs": [],
   "source": [
    "def mod_user_preprocessing(mod_user_data):\n",
    "    mod_data = mod_user_data[[c for c in mod_user_data.columns if c != 'genres']]\n",
    "    ratings = spark.createDataFrame(mod_data)\n",
    "    mod_training, mod_test = ratings.randomSplit([0.8, 0.2])\n",
    "    return mod_training, mod_test "
   ]
  },
  {
   "cell_type": "code",
   "execution_count": 109,
   "metadata": {},
   "outputs": [],
   "source": [
    "mod_training, mod_test = mod_user_preprocessing(moderate_training)"
   ]
  },
  {
   "cell_type": "markdown",
   "metadata": {},
   "source": [
    "### Model "
   ]
  },
  {
   "cell_type": "code",
   "execution_count": 111,
   "metadata": {},
   "outputs": [],
   "source": [
    "# Build the recommendation model using ALS on the training data\n",
    "def mf_model(rank, regparam, training, testing):\n",
    "    als = ALS(maxIter=5, rank=rank, regParam=regparam, userCol=\"userId\", itemCol=\"movieId\", ratingCol=\"rating\",\n",
    "              coldStartStrategy=\"drop\")\n",
    "    model = als.fit(training)\n",
    "    predictions = model.transform(testing)\n",
    "    mod_preds = predictions.select(\"*\").toPandas()\n",
    "    return mod_preds "
   ]
  },
  {
   "cell_type": "markdown",
   "metadata": {},
   "source": [
    "### Evaluation"
   ]
  },
  {
   "cell_type": "markdown",
   "metadata": {},
   "source": [
    "The **primary** accuracy metric we are going to use to determine the best hyper-parameters for this model is the root mean squared error. This method optimizes the rank(number of latent factors) and regularization parameter because these are the two hyper-parameters that we are going to tune for the best results."
   ]
  },
  {
   "cell_type": "markdown",
   "metadata": {},
   "source": [
    "### Cross Validation"
   ]
  },
  {
   "cell_type": "code",
   "execution_count": 112,
   "metadata": {},
   "outputs": [],
   "source": [
    "def build_crossvalid_mf(folds, ratings, regParam, rank): \n",
    "    rmses = [] \n",
    "    weights = [1.0] * folds\n",
    "    sets = ratings.randomSplit(weights)\n",
    "    #create new test and training data frames for each fold \n",
    "    for i in range(0, folds):  \n",
    "        training = spark.createDataFrame(sc.emptyRDD(), ratings.schema)\n",
    "        test = sets[i]\n",
    "        for j in range(0, folds):\n",
    "            if i != j: \n",
    "                training = training.union(sets[j])\n",
    "        \n",
    "        preds = mf_model(rank, regparam, training, test)\n",
    "        rmse = get_rmse(preds['prediction'], preds['rating']) \n",
    "        rmses.append(rmse)\n",
    "        \n",
    "    avg_rmse = sum(rmses)/len(rmses)\n",
    "    return avg_rmse"
   ]
  },
  {
   "cell_type": "code",
   "execution_count": 125,
   "metadata": {},
   "outputs": [],
   "source": [
    "rank_range = [1,2,3,4,5,6,7,8,9,10,50,100] #latent dimensions \n",
    "reg_range = [0.0025, 0.005, 0.01, 0.05, 0.1, 0.25] #regularization parameter "
   ]
  },
  {
   "cell_type": "markdown",
   "metadata": {},
   "source": [
    "Instead of testing on a range of values that increment by a certain constant, for example, from 2 to 100 in increments of 2, we specified our own ranges for the rank and regularization parameters to be tested on in order to provide results under certain time constraints. Because time was a factor in performing the tuning of the hyper-parameters, we believe that the ranges we outlined would provide us with enough information about the model."
   ]
  },
  {
   "cell_type": "code",
   "execution_count": 126,
   "metadata": {},
   "outputs": [],
   "source": [
    "def hypertuning_mf(ratings, rank_range, reg_range, folds):\n",
    "    #hold one parameter constant by testing the range of the other parameter\n",
    "    rmses_rank = {}\n",
    "    for rank in rank_range: \n",
    "        rmse = build_crossvalid_mf(folds, ratings, 0.01, rank)\n",
    "        print(\"Cross-validation done for rank:\", rank)\n",
    "        rmses_rank[rank] = rmse \n",
    "     \n",
    "    rmses_reg = {}\n",
    "    for reg in reg_range:\n",
    "        rmse = build_crossvalid_mf(folds, ratings, reg, 10)\n",
    "        print(\"Cross-validation done for reg:\", reg)\n",
    "        rmses_reg[reg] = rmse        \n",
    "        \n",
    "    return rmses_rank, rmses_reg"
   ]
  },
  {
   "cell_type": "markdown",
   "metadata": {},
   "source": [
    "In order to tune two parameters within time contraints, we held one parameter constant while tuning the other hyper-parameter. While tuning rank, we set the regularization parameter to 0.01, and while tuning the regularization parameter, we set the rank to 10. Both of these parameters were set to the stated values because these values are the defaults that Spark uses when not specified."
   ]
  },
  {
   "cell_type": "code",
   "execution_count": 252,
   "metadata": {},
   "outputs": [
    {
     "name": "stdout",
     "output_type": "stream",
     "text": [
      "Cross-validation done for rank: 1\n",
      "Cross-validation done for rank: 2\n",
      "Cross-validation done for rank: 3\n",
      "Cross-validation done for rank: 4\n",
      "Cross-validation done for rank: 5\n",
      "Cross-validation done for rank: 6\n",
      "Cross-validation done for rank: 7\n",
      "Cross-validation done for rank: 8\n",
      "Cross-validation done for rank: 9\n",
      "Cross-validation done for rank: 10\n",
      "Cross-validation done for rank: 50\n",
      "Cross-validation done for rank: 100\n",
      "Cross-validation done for reg: 0.0025\n",
      "Cross-validation done for reg: 0.005\n",
      "Cross-validation done for reg: 0.01\n",
      "Cross-validation done for reg: 0.05\n",
      "Cross-validation done for reg: 0.1\n",
      "Cross-validation done for reg: 0.25\n"
     ]
    }
   ],
   "source": [
    "rmses_rank, rmses_reg = hypertuning_mf(mod_training, rank_range, reg_range, 10)"
   ]
  },
  {
   "cell_type": "code",
   "execution_count": 271,
   "metadata": {},
   "outputs": [
    {
     "data": {
      "image/png": "[encoded data removed]",
      "text/plain": [
       "<Figure size 432x288 with 1 Axes>"
      ]
     },
     "metadata": {
      "needs_background": "light"
     },
     "output_type": "display_data"
    }
   ],
   "source": [
    "plt.figure()\n",
    "plt.plot(rmses_rank.keys(), rmses_rank.values())\n",
    "plt.title(\"RMSE values for latent dimensions\")\n",
    "plt.xlabel('Latent Dimension')\n",
    "plt.ylabel('RMSE')\n",
    "plt.show()"
   ]
  },
  {
   "cell_type": "code",
   "execution_count": 254,
   "metadata": {},
   "outputs": [
    {
     "name": "stdout",
     "output_type": "stream",
     "text": [
      "Rank: 100, RMSE: 1.2602148984529193\n"
     ]
    }
   ],
   "source": [
    "#get the min rmse value for rank \n",
    "rmse_min = list(rmses_rank.keys())[0]\n",
    "for rank in rmses_rank: \n",
    "    if rmses_rank[rank] < rmses_rank[rmse_min]: \n",
    "        rmse_min = rank\n",
    "        \n",
    "print(\"Rank: \" + str(rmse_min) + \", RMSE: \" + str(rmses_rank[rmse_min]))"
   ]
  },
  {
   "cell_type": "code",
   "execution_count": 272,
   "metadata": {},
   "outputs": [
    {
     "data": {
      "image/png": "[encoded data removed]",
      "text/plain": [
       "<Figure size 432x288 with 1 Axes>"
      ]
     },
     "metadata": {
      "needs_background": "light"
     },
     "output_type": "display_data"
    }
   ],
   "source": [
    "plt.figure()\n",
    "plt.plot(rmses_reg.keys(), rmses_reg.values())\n",
    "plt.title(\"RMSE values for the regularization parameter\")\n",
    "plt.xlabel('Regularization Parameter')\n",
    "plt.ylabel('RMSE')\n",
    "plt.show()"
   ]
  },
  {
   "cell_type": "code",
   "execution_count": 256,
   "metadata": {},
   "outputs": [
    {
     "name": "stdout",
     "output_type": "stream",
     "text": [
      "Reg Param: 0.25, RMSE: 0.9999413451244828\n"
     ]
    }
   ],
   "source": [
    "#get the min rmse value for reg \n",
    "rmse_min = list(rmses_reg.keys())[0]\n",
    "for reg in rmses_reg: \n",
    "    if rmses_reg[reg] < rmses_reg[rmse_min]: \n",
    "        rmse_min = reg\n",
    "        \n",
    "print(\"Reg Param: \" + str(rmse_min) + \", RMSE: \" + str(rmses_reg[rmse_min]))"
   ]
  },
  {
   "cell_type": "markdown",
   "metadata": {},
   "source": [
    "From the plots seen above, the RMSE values for the rank and regularization parameter appear to be following an approximate exponential distribution. As the value of the parameter increases, the RMSE greatly decreases, leaving the regularization parameter of 0.25 as having the minimum RMSE, and the rank of 100 has having the minimum RMSE. "
   ]
  },
  {
   "cell_type": "markdown",
   "metadata": {},
   "source": [
    "### Accuracy Metrics"
   ]
  },
  {
   "cell_type": "markdown",
   "metadata": {},
   "source": [
    "We will use the results from this model run in order to evaluate our accuracy metrics."
   ]
  },
  {
   "cell_type": "code",
   "execution_count": 87,
   "metadata": {},
   "outputs": [],
   "source": [
    "mod_test_preds = mf_model(100, 0.25, mod_training, mod_test)"
   ]
  },
  {
   "cell_type": "markdown",
   "metadata": {},
   "source": [
    "#### RMSE"
   ]
  },
  {
   "cell_type": "code",
   "execution_count": 113,
   "metadata": {},
   "outputs": [
    {
     "name": "stdout",
     "output_type": "stream",
     "text": [
      "RMSE: 0.9889699092627541\n"
     ]
    }
   ],
   "source": [
    "rmse_test = get_rmse(mod_test_preds['prediction'], mod_test_preds['rating'])\n",
    "print(\"RMSE:\", rmse_test)"
   ]
  },
  {
   "cell_type": "markdown",
   "metadata": {},
   "source": [
    "#### Precision and Recall @ 10"
   ]
  },
  {
   "cell_type": "code",
   "execution_count": 114,
   "metadata": {},
   "outputs": [
    {
     "name": "stdout",
     "output_type": "stream",
     "text": [
      "Average Precision @ 10: 0.57736344032854\n",
      "Average Recall @ 10: 0.47159298752980355\n"
     ]
    }
   ],
   "source": [
    "precisions_mf, recalls_mf = precision_recall_at_k(mod_test_preds, k=10, threshold=3.5)\n",
    "avg_mf_precision = sum(precisions_mf.values()) / len(precisions_mf)\n",
    "print(\"Average Precision @ 10:\", avg_mf_precision)\n",
    "avg_mf_recall = sum(recalls_mf.values()) / len(recalls_mf)\n",
    "print(\"Average Recall @ 10:\", avg_mf_recall)"
   ]
  },
  {
   "cell_type": "markdown",
   "metadata": {},
   "source": [
    "The precision is relatively low, meaning that we were only able to recommend approximately a litte over half relevant movies out of the top 10 movies recommended. \n",
    "\n",
    "The low recall shows that we weren't able to predict as many good movies as the users rated. Recall is important because we want to continuously provide our users with good recommendations, so it is crucial to provide a sufficient list of good movies. If the number of good movies we recommend decreases, then the users may start to use the platform less."
   ]
  },
  {
   "cell_type": "markdown",
   "metadata": {},
   "source": [
    "#### Coverage"
   ]
  },
  {
   "cell_type": "code",
   "execution_count": 94,
   "metadata": {},
   "outputs": [
    {
     "name": "stdout",
     "output_type": "stream",
     "text": [
      "User Coverage of test set: 0.9326507066628209\n",
      "Item Coverage of test set: 0.8345646437994723\n"
     ]
    }
   ],
   "source": [
    "top_recs_test_mf = get_top_recs_cb(mod_test_preds, 10)\n",
    "user_cov_test_mf = user_coverage(top_recs_test_mf, 1) / len(top_recs_test_mf)\n",
    "print (\"User Coverage of test set:\", user_cov_test_mf)\n",
    "item_cov_ts_mf, item_dict_ts_mf = item_coverage(top_recs_test_mf, 1)\n",
    "item_cov_test_mf = item_cov_ts_mf / len(item_dict_ts_mf)\n",
    "print (\"Item Coverage of test set:\", item_cov_test_mf)"
   ]
  },
  {
   "cell_type": "code",
   "execution_count": 115,
   "metadata": {},
   "outputs": [],
   "source": [
    "k = [1, 2, 3, 4, 5, 6, 7]\n",
    "user_covs_test = []\n",
    "item_covs_test = [] \n",
    "\n",
    "for num in k: \n",
    "    user_cov_test_mf = user_coverage(top_recs_test_mf, num) / len(top_recs_test_mf)\n",
    "    user_covs_test.append(user_cov_test_mf)\n",
    "    item_cov_ts_mf, item_dict_ts_mf = item_coverage(top_recs_test_mf, num)\n",
    "    item_cov_test_mf = item_cov_ts_mf / len(item_dict_ts_mf)\n",
    "    item_covs_test.append(item_cov_test_mf) "
   ]
  },
  {
   "cell_type": "code",
   "execution_count": 118,
   "metadata": {},
   "outputs": [
    {
     "data": {
      "image/png": "[encoded data removed]",
      "text/plain": [
       "<Figure size 432x288 with 1 Axes>"
      ]
     },
     "metadata": {
      "needs_background": "light"
     },
     "output_type": "display_data"
    }
   ],
   "source": [
    "plt.figure()\n",
    "plt.plot(k, user_covs_test, c=\"b\")\n",
    "plt.title(\"User Test Coverages\")\n",
    "plt.xlabel('top k')\n",
    "plt.ylabel('coverage')\n",
    "plt.show()"
   ]
  },
  {
   "cell_type": "markdown",
   "metadata": {},
   "source": [
    "As expected, the user testing coverages decreased as we increased k. The user coverage is something to work on as our goal is to maintain the satisfaction of all of our users."
   ]
  },
  {
   "cell_type": "code",
   "execution_count": 119,
   "metadata": {},
   "outputs": [
    {
     "data": {
      "image/png": "[encoded data removed]",
      "text/plain": [
       "<Figure size 432x288 with 1 Axes>"
      ]
     },
     "metadata": {
      "needs_background": "light"
     },
     "output_type": "display_data"
    }
   ],
   "source": [
    "plt.figure()\n",
    "plt.plot(k, item_covs_test, c=\"b\")\n",
    "plt.title(\"Item Test Coverages\")\n",
    "plt.xlabel('top k')\n",
    "plt.ylabel('coverage')\n",
    "plt.show()"
   ]
  },
  {
   "cell_type": "markdown",
   "metadata": {},
   "source": [
    "The item coverage also decreases as k increases, and significantly drops from k=1 to k=2. "
   ]
  },
  {
   "cell_type": "markdown",
   "metadata": {},
   "source": [
    "#### NDCG"
   ]
  },
  {
   "cell_type": "code",
   "execution_count": 180,
   "metadata": {},
   "outputs": [
    {
     "name": "stdout",
     "output_type": "stream",
     "text": [
      "Average NDCG @ 10: 0.9228266735530692\n"
     ]
    }
   ],
   "source": [
    "avg_ndcg_mf = ndcg_at_k(mod_test_preds)\n",
    "print(\"Average NDCG @ 10:\", avg_ndcg_mf)"
   ]
  },
  {
   "cell_type": "markdown",
   "metadata": {},
   "source": [
    "## Deep Learning Model - Active Users"
   ]
  },
  {
   "cell_type": "markdown",
   "metadata": {},
   "source": [
    "We chose to use a deep learning model to provide movie recommendations for the active user category, or more specifically those who have rated more than 62 movies. Given that 7000 of the most active users total around 1.6 million movie ratings, we determined that a deep learning model would perform the best, as deep learning performance is known to scale well very well with large amounts of data. With this method, we can take advantage of the large amounts of ratings we have in this subset of users, optimizing the recommendations for users we have a lot of information on. In this model, the features consist of the user ID, movie ID, and the multi-label binarized version of the movie genres. The movie genre matrix becomes a very sparse categorical matrix, so we chose to implement a wide and deep model. The user IDs and movie IDS are passed into dense embedding layers, which are then concatenated and passed through deep dense layers. Finally, the output of the dense layers is concatenated with the wide genre features to make the final prediction. The model is optimized on various aspects, including embedding dimensions, number of dense layers, dropout, and learning rate to output the optimal predicted rating for users."
   ]
  },
  {
   "cell_type": "markdown",
   "metadata": {},
   "source": [
    "This model is thoroughly explored and evaluated in another file called: *DLExploration.ipynb*. Preprocessing steps for conversion of input to this model is outlined below. "
   ]
  },
  {
   "cell_type": "markdown",
   "metadata": {},
   "source": [
    "#### Preprocessing"
   ]
  },
  {
   "cell_type": "code",
   "execution_count": 166,
   "metadata": {},
   "outputs": [],
   "source": [
    "def active_preprocessing(active_user_dataset, movies_data):\n",
    "    merged=active_user_dataset.merge(movies_data).drop(['title'], axis=1)\n",
    "    genres_encoder = MultiLabelBinarizer()\n",
    "    merged['genres'] = genres_encoder.fit_transform(merged['genres'].apply(lambda s: s.split(\"|\"))).tolist()\n",
    "    merged[genres_encoder.classes_.tolist()] = pd.DataFrame(merged.genres.tolist(), index= merged.index)\n",
    "    merged=merged.drop('genres',axis=1)\n",
    "    \n",
    "    user_enc = LabelEncoder()\n",
    "    merged['user'] = user_enc.fit_transform(merged['userId'].values)\n",
    "    item_enc = LabelEncoder()\n",
    "    merged['movie'] = item_enc.fit_transform(merged['movieId'].values)\n",
    "    merged['rating'] = merged['rating'].values.astype(np.float32)\n",
    "\n",
    "    X = merged[[c for c in merged.columns if c!='rating']].values\n",
    "    y = merged['rating'].values\n",
    "\n",
    "    X_train, X_test, y_train, y_test = train_test_split(X, y, test_size=0.2, random_state=1, stratify=merged.user)\n",
    "\n",
    "    X_train_array = [X_train[:, -2], X_train[:, -1], X_train[:, 2:-2]]\n",
    "    X_test_array = [X_test[:, -2], X_test[:, -1], X_test[:, 2:-2]]\n",
    "    \n",
    "    return X_train_array, X_test_array, y_train, y_test, X_test\n",
    "\n",
    "\n",
    "def DL_model(active_user_dataset, X_test_array, X_test, y_test):\n",
    "    n_users = active_user_dataset['userId'].nunique()\n",
    "    n_movies = active_user_dataset['movieId'].nunique()\n",
    "    min_rating = min(active_user_dataset['rating'])\n",
    "    max_rating = max(active_user_dataset['rating'])\n",
    "    model = keras.models.load_model(\"best_model.h5\")\n",
    "    active_preds = model.predict(X_test_array)\n",
    "    act_users_preds = pd.DataFrame(data=X_test[:, :2], columns=[\"userId\", \"movieId\"])\n",
    "    act_users_preds['rating'] = y_test.tolist()\n",
    "    preds_list = active_preds.tolist()\n",
    "    preds_list = [x[0] for x in preds_list]\n",
    "    act_users_preds['prediction'] = preds_list\n",
    "    return act_users_preds"
   ]
  },
  {
   "cell_type": "markdown",
   "metadata": {},
   "source": [
    "## Hybrid Model"
   ]
  },
  {
   "cell_type": "markdown",
   "metadata": {},
   "source": [
    "As a reminder of our business objective, we want to give good recommendations for all of our users on our platform. Because we have so much more information on an active user compared to a new user, we cannot use the same model to give recommendations for all of them. Therefore, we created a hybrid model that can provide a suitable model for each user category.\n",
    "\n",
    "The architecture of our hybrid model is a switching model. This hybrid model takes in the data as an input and categorizes the data into the new user, moderate user, and active user data. Each user category is inputted into its respective model to provide predictions on its specific test dataset, in which is combined all together in the end for model evaluation. The content based model takes in the new user user data, matrix factorization model takes in moderate user data, and the deep learning model takes in active user data. Each model has already been thoroughly evaluated and optimized to provide best results, shown through the inidividual model exploration in the earlier sections of this notebook, and thus, the optimized models are used on this data.  "
   ]
  },
  {
   "cell_type": "code",
   "execution_count": 167,
   "metadata": {},
   "outputs": [],
   "source": [
    "def hybrid_model(data, movie_data):\n",
    "    new_user_data, mod_user_data, active_user_data = categorize_users(data)\n",
    "    \n",
    "    new_train, new_test, mv_data = new_user_preprocessing(new_user_data, movie_data)\n",
    "    new_preds = content_based_model(mv_data, new_train, new_test, 1)\n",
    "    \n",
    "    mod_train, mod_test = mod_user_preprocessing(mod_user_data)\n",
    "    mod_preds = mf_model(100, 0.25, mod_train, mod_test)\n",
    "    \n",
    "    X_train_array, X_test_array, y_train, y_test, X_test = active_preprocessing(active_user_data, movie_data)\n",
    "    active_preds = DL_model(active_user_data, X_test_array, X_test, y_test)\n",
    "    \n",
    "    #returns predictions from all 3 models into one dataframe \n",
    "    all_results = new_preds.append([mod_preds, active_preds])\n",
    "    return all_results "
   ]
  },
  {
   "cell_type": "markdown",
   "metadata": {},
   "source": [
    "### Evaluation"
   ]
  },
  {
   "cell_type": "markdown",
   "metadata": {},
   "source": [
    "The results from this run of the model called above will be the results we use to evaluate the model across all metrics. "
   ]
  },
  {
   "cell_type": "code",
   "execution_count": 149,
   "metadata": {},
   "outputs": [],
   "source": [
    "overall_results = hybrid_model(data, movies_data)"
   ]
  },
  {
   "cell_type": "markdown",
   "metadata": {},
   "source": [
    "#### RMSE"
   ]
  },
  {
   "cell_type": "code",
   "execution_count": 168,
   "metadata": {},
   "outputs": [
    {
     "name": "stdout",
     "output_type": "stream",
     "text": [
      "RMSE: 0.8751373829959131\n"
     ]
    }
   ],
   "source": [
    "rmse_hybrid = get_rmse(overall_results['prediction'], overall_results['rating'])\n",
    "print(\"RMSE:\", rmse_hybrid)"
   ]
  },
  {
   "cell_type": "markdown",
   "metadata": {},
   "source": [
    "#### Precision and Recall @ 10"
   ]
  },
  {
   "cell_type": "code",
   "execution_count": 169,
   "metadata": {},
   "outputs": [
    {
     "name": "stdout",
     "output_type": "stream",
     "text": [
      "Average Precision @ 10: 0.6293716501997815\n",
      "Average Recall @ 10: 0.465106047200315\n"
     ]
    }
   ],
   "source": [
    "precisions_hb, recalls_hb = precision_recall_at_k(overall_results, k=10, threshold=3.5)\n",
    "avg_hb_precision = sum(precisions_hb.values()) / len(precisions_hb)\n",
    "print(\"Average Precision @ 10:\", avg_hb_precision)\n",
    "avg_hb_recall = sum(recalls_hb.values()) / len(recalls_hb)\n",
    "print(\"Average Recall @ 10:\", avg_hb_recall)"
   ]
  },
  {
   "cell_type": "markdown",
   "metadata": {},
   "source": [
    "#### Coverage"
   ]
  },
  {
   "cell_type": "code",
   "execution_count": 170,
   "metadata": {},
   "outputs": [
    {
     "name": "stdout",
     "output_type": "stream",
     "text": [
      "User Coverage of test set: 0.9309505630845581\n",
      "Item Coverage of test set: 0.8521830615465544\n"
     ]
    }
   ],
   "source": [
    "top_recs_test_hb = get_top_recs_cb(overall_results, 10)\n",
    "user_cov_test_hb = user_coverage(top_recs_test_hb, 1) / len(top_recs_test_hb)\n",
    "print (\"User Coverage of test set:\", user_cov_test_hb)\n",
    "item_cov_ts_hb, item_dict_ts_hb = item_coverage(top_recs_test_hb, 1)\n",
    "item_cov_test_hb = item_cov_ts_hb / len(item_dict_ts_hb)\n",
    "print (\"Item Coverage of test set:\", item_cov_test_hb)"
   ]
  },
  {
   "cell_type": "code",
   "execution_count": 171,
   "metadata": {},
   "outputs": [],
   "source": [
    "k = [1, 2, 3, 4, 5, 6, 7]\n",
    "user_covs_hybrid = []\n",
    "item_covs_hybrid = [] \n",
    "\n",
    "for num in k: \n",
    "    user_cov_test_hb = user_coverage(top_recs_test_hb, num) / len(top_recs_test_hb)\n",
    "    user_covs_hybrid.append(user_cov_test_hb)\n",
    "    item_cov_ts_hb, item_dict_ts_hb = item_coverage(top_recs_test_hb, num)\n",
    "    item_cov_test_hb = item_cov_ts_hb / len(item_dict_ts_hb)\n",
    "    item_covs_hybrid.append(item_cov_test_hb) "
   ]
  },
  {
   "cell_type": "code",
   "execution_count": 172,
   "metadata": {},
   "outputs": [
    {
     "data": {
      "image/png": "[encoded data removed]",
      "text/plain": [
       "<Figure size 432x288 with 1 Axes>"
      ]
     },
     "metadata": {
      "needs_background": "light"
     },
     "output_type": "display_data"
    }
   ],
   "source": [
    "plt.figure()\n",
    "plt.plot(k, user_covs_hybrid, c=\"b\")\n",
    "plt.title(\"User Test Coverages\")\n",
    "plt.xlabel('top k')\n",
    "plt.ylabel('coverage')\n",
    "plt.show()"
   ]
  },
  {
   "cell_type": "code",
   "execution_count": 173,
   "metadata": {},
   "outputs": [
    {
     "data": {
      "image/png": "[encoded data removed]",
      "text/plain": [
       "<Figure size 432x288 with 1 Axes>"
      ]
     },
     "metadata": {
      "needs_background": "light"
     },
     "output_type": "display_data"
    }
   ],
   "source": [
    "plt.figure()\n",
    "plt.plot(k, item_covs_hybrid, c=\"b\")\n",
    "plt.title(\"Item Test Coverages\")\n",
    "plt.xlabel('top k')\n",
    "plt.ylabel('coverage')\n",
    "plt.show()"
   ]
  },
  {
   "cell_type": "markdown",
   "metadata": {},
   "source": [
    "The user/item test coverages are doing better than the individual models itself. When compared against the same graphs under the matrix factorization model, as k increases to 7, the user/item coverage drop to 0.1, whereas in this case it drops to 0.3. "
   ]
  },
  {
   "cell_type": "markdown",
   "metadata": {},
   "source": [
    "#### NDCG"
   ]
  },
  {
   "cell_type": "code",
   "execution_count": 181,
   "metadata": {},
   "outputs": [
    {
     "name": "stdout",
     "output_type": "stream",
     "text": [
      "Average NDCG @ 10: 0.8604598231283402\n"
     ]
    }
   ],
   "source": [
    "avg_ndcg_hybrid = ndcg_at_k(overall_results)\n",
    "print(\"Average NDCG @ 10:\", avg_ndcg_hybrid)"
   ]
  },
  {
   "cell_type": "markdown",
   "metadata": {},
   "source": [
    "## Overall Evaluation Results"
   ]
  },
  {
   "cell_type": "markdown",
   "metadata": {},
   "source": [
    "| Model | RMSE | Prec@10 | Recall@10 | User Cov@10 | Item Cov@10 | NDCG@10\n",
    "| --- | --- | --- | --- | --- | --- | --- | \n",
    "| Baseline | 0.921 | 0.653 | 0.542 | 0.933 | 0.826 | 0.861 |\n",
    "| Collaborative Filtering Baseline | 0.867 | 0.685 | 0.564 | 0.933 | 0.810 | 0.872 |\n",
    "| Content Based Model | 1.070 | 0.445 | 0.487 | 0.771 | 0.773 | 0.926 |\n",
    "| Matrix Factorization | 0.989 | 0.577 | 0.472 | 0.933 | 0.835 | 0.923 |\n",
    "| Deep Learning Model | 0.849 | 0.807 | 0.394 | 0.998 | 0.874 | 0.744 |\n",
    "| Hybrid Model | 0.875 | 0.629 | 0.465 | 0.931 | 0.852 | 0.860 |"
   ]
  },
  {
   "cell_type": "markdown",
   "metadata": {},
   "source": [
    "The above table represents all the methods we have in this project. The main three we are comparing is the 2 baselines (baseline and CF) and Hybrid model. We want to minimize RMSE and maximize the other matrics. From an initial glance of the results, we see that the first baseline of just utilizing average ratings of the movie and user produces really good results. In fact, our hybrid model only significantly beats that baseline in RMSE. The other metrics are approximately the same between the two methods. Compared to the CF Baseline, the hybrid model is unfortunately weaker on all aspects except item coverage. When looking at the performances of all the individual models, out of content based, matrix factorization, and deep learning, the deep learning model performs the best. This makes sense because the deep learning model had the most amount of information on its users, and therefore, was able to predict the most accuractely, having the lowest RMSE, highest user and item coverage, and also having a very high precision in comparison to the rest of the models. The surprising factor was its NDCG, it wasn't able to predict as ideal of a top 10 recommendation as other models. \n",
    "\n",
    "Taking a step back, we noticed that our hybrid model was not able to do better than our collaborative filtering baseline model. However, this result is not all negative because we can analyze the different models we use in our hybrid approach and know how to improve the model vastly. In comparison, the method we used to improve the baseline is not as flexible to improvement even with the gathering of new data. One possible reason why the Baseline outperforms our model is that it generalizes users. There is already a lot of information behind a users average rating and a movies average rating that is indicative of how this user will perceive that particular movie. In fact, most users give similar scores to movies. We set a \"good recommendation\" as a rating of over 3.5 which is quite a low bar. Most users would not constantly give super low ratings and most movies do not have incredibly low ratings. They will likely average around 3 to 4. We can see through the lower RMSE score in our hybrid model, it does do better in predicting the exact rating. If we divide the analysis more narrowly beyond \"good\" or \"bad\" recommendations, our hybrid model will likely outperform the baseline. This is also very applicable to the real world setting because a user's feeling towards a movie is not just 2 fold.\n",
    "\n",
    "There are many ways we can improve our hybrid model to evetually completely outperform the baseline. Since we seperated our customers into three groups with three different models, we can analyze each individually to see where we can focus on. The content based model targets new users who do not have many rating data on the platform. It is also the weakest model among the three in our hybrid system. However, this can be vastly improved if we gather more data for each user and use that context as well. Currently, we can only use genre as our content for each user. If we include user profile information, we would have a lot more leeway for our content based recommendation. It would be incredibly helpful if the company can output a survey to solve the cold start issue and understand what a particular user would enjoy to watch.\n",
    "\n",
    "The matrix factorization model is currently used to target customers who have a certain number of ratings. The model by itself is somewhat weak and would work better in conjunction with other models together. The deep learning model has the lowest RMSE but suffers in recall and NDCG. But it has very high precision in compared to the other models. This means the model is good at differentiating between a good and bad recommendation which is reasonable due to the good RMSE score. Recall is quite low for all the models and we will target that issue later. The low NDCG suggests that the model is not very good at ranking the relevant items highly. One possibility of this would be that the deep learning model does not always recommend popular items highly while the other models do. Therefore the other models have a higher score because it always recommends the popular items. Though people do enjoy popular movies, it does create an echo chamber which may not be what the platform would want. \n",
    "\n",
    "In conclusion, even though the hybrid model seems to not work too much better than the baselines, there is a lot more room for improvement for the hybrid model. The way we defiened \"relevant\" versus \"irrelevant\" recommendations may have been too relaxed which allowed the baseline model to superficially outperform the hybrid model."
   ]
  },
  {
   "cell_type": "markdown",
   "metadata": {},
   "source": [
    "## Final Recommendation"
   ]
  },
  {
   "cell_type": "markdown",
   "metadata": {},
   "source": [
    "We recommend to gather more content based data for each user to better recommend movies to the new users. This would not only benefit new user retention, but also provide better analysis for other types of users as well. Furthermore, if computing power permits, we recommend creating ensemble methods within the hybrid model to give better predictions. In this case, each type of user will have a weighted hybrid model, in which several models would run in parallel and their recommendation outputs could be combined together with a weighting mechanism. Finally, we recommend referring to a domain specialist to define the proper way to split up ratings to what we can consider \"relevant\" versus \"non-relevant\".\n",
    "\n",
    "In the future, we can take a closer look at controlling popularity recommendations to improve item coverage. However, this would unevitably decrease the scores for other metrics because people do rate popular movies higher. Therefore, there may be a better method of analzying whether or not a user truly enjoyed the experience of using the platform beyond just ratings. Some examples would be analyzing how much more the user started using the service or if they recommended the platform to other friends. A result of including these recommendations and future directions can enhance user experience and satisfaction, resulting in happier customers and more awareness and revenue for our platform. "
   ]
  }
 ],
 "metadata": {
  "kernelspec": {
   "display_name": "Python 3",
   "language": "python",
   "name": "python3"
  },
  "language_info": {
   "codemirror_mode": {
    "name": "ipython",
    "version": 3
   },
   "file_extension": ".py",
   "mimetype": "text/x-python",
   "name": "python",
   "nbconvert_exporter": "python",
   "pygments_lexer": "ipython3",
   "version": "3.7.3"
  }
 },
 "nbformat": 4,
 "nbformat_minor": 2
}
