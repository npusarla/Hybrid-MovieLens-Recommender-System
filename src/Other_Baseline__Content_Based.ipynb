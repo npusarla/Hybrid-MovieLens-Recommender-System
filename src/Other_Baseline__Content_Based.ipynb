{
  "nbformat": 4,
  "nbformat_minor": 0,
  "metadata": {
    "colab": {
      "name": "Other Baseline & Content Based.ipynb",
      "provenance": [],
      "collapsed_sections": [],
      "machine_shape": "hm"
    },
    "kernelspec": {
      "display_name": "Python 3",
      "name": "python3"
    }
  },
  "cells": [
    {
      "cell_type": "code",
      "metadata": {
        "id": "AVgDPqrmm1C6"
      },
      "source": [
        "import pandas as pd\n",
        "import numpy as np\n",
        "from sklearn.metrics.pairwise import cosine_similarity"
      ],
      "execution_count": 1,
      "outputs": []
    },
    {
      "cell_type": "code",
      "metadata": {
        "id": "1KZYna7gmSs3"
      },
      "source": [
        "ratings_file = '/content/drive/My Drive/IEOR/ratings.csv'\n",
        "movie_file = '/content/drive/My Drive/IEOR/movies.csv'\n",
        "train_file = '/content/drive/My Drive/IEOR/train.csv'\n",
        "test_file = '/content/drive/My Drive/IEOR/test.csv'"
      ],
      "execution_count": 2,
      "outputs": []
    },
    {
      "cell_type": "code",
      "metadata": {
        "colab": {
          "base_uri": "https://localhost:8080/"
        },
        "id": "_jNyVb00mnqa",
        "outputId": "43ddfe4a-5293-4d79-c820-6f5cabc84c3e"
      },
      "source": [
        "from google.colab import drive\n",
        "drive.mount('/content/drive')"
      ],
      "execution_count": 3,
      "outputs": [
        {
          "output_type": "stream",
          "text": [
            "Mounted at /content/drive\n"
          ],
          "name": "stdout"
        }
      ]
    },
    {
      "cell_type": "code",
      "metadata": {
        "id": "vUSB2PETmurm"
      },
      "source": [
        "ratings = pd.read_csv(ratings_file)\n",
        "movies = pd.read_csv(movie_file)\n",
        "training = pd.read_csv(train_file)"
      ],
      "execution_count": 5,
      "outputs": []
    },
    {
      "cell_type": "code",
      "metadata": {
        "id": "79Vh2g7W15Gm"
      },
      "source": [
        "test = pd.read_csv(test_file)"
      ],
      "execution_count": 6,
      "outputs": []
    },
    {
      "cell_type": "code",
      "metadata": {
        "id": "T_ZjNLeo8lYB"
      },
      "source": [
        ""
      ],
      "execution_count": null,
      "outputs": []
    },
    {
      "cell_type": "markdown",
      "metadata": {
        "id": "NcbAboEdOZBE"
      },
      "source": [
        "## Another Baseline"
      ]
    },
    {
      "cell_type": "markdown",
      "metadata": {
        "id": "cKcvK9sbMIMQ"
      },
      "source": [
        "This was another implementation of a baseline we decided not to do because it may not always return a movie thats also in the test set. This implementation works with the most watched genres an individual watched, and recommends the top rated movies of that genre."
      ]
    },
    {
      "cell_type": "code",
      "metadata": {
        "id": "PLBkwR7pLlOJ"
      },
      "source": [
        "training['genres'] = training['genres'].str.split('|')"
      ],
      "execution_count": 10,
      "outputs": []
    },
    {
      "cell_type": "code",
      "metadata": {
        "colab": {
          "base_uri": "https://localhost:8080/",
          "height": 197
        },
        "id": "wjPpd2ZoPENe",
        "outputId": "1957b411-616f-41b4-8304-b67691f0fe2f"
      },
      "source": [
        "avg_movie_rating_df = training.groupby('movieId').mean().reset_index()[['movieId', 'rating']]\n",
        "avg_movie_rating_df[['title','genres']] = movies[['title','genres']]\n",
        "avg_movie_rating_df['genres'] = avg_movie_rating_df['genres'].str.split('|')\n",
        "avg_movie_rating_df = avg_movie_rating_df.sort_values(by='rating', ascending=False).reset_index()\n",
        "avg_movie_rating_df.head()"
      ],
      "execution_count": 32,
      "outputs": [
        {
          "output_type": "execute_result",
          "data": {
            "text/html": [
              "<div>\n",
              "<style scoped>\n",
              "    .dataframe tbody tr th:only-of-type {\n",
              "        vertical-align: middle;\n",
              "    }\n",
              "\n",
              "    .dataframe tbody tr th {\n",
              "        vertical-align: top;\n",
              "    }\n",
              "\n",
              "    .dataframe thead th {\n",
              "        text-align: right;\n",
              "    }\n",
              "</style>\n",
              "<table border=\"1\" class=\"dataframe\">\n",
              "  <thead>\n",
              "    <tr style=\"text-align: right;\">\n",
              "      <th></th>\n",
              "      <th>index</th>\n",
              "      <th>movieId</th>\n",
              "      <th>rating</th>\n",
              "      <th>title</th>\n",
              "      <th>genres</th>\n",
              "    </tr>\n",
              "  </thead>\n",
              "  <tbody>\n",
              "    <tr>\n",
              "      <th>0</th>\n",
              "      <td>15090</td>\n",
              "      <td>94352</td>\n",
              "      <td>5.0</td>\n",
              "      <td>Chloe (2009)</td>\n",
              "      <td>[Drama, Thriller]</td>\n",
              "    </tr>\n",
              "    <tr>\n",
              "      <th>1</th>\n",
              "      <td>15969</td>\n",
              "      <td>101670</td>\n",
              "      <td>5.0</td>\n",
              "      <td>Tumbledown (1988)</td>\n",
              "      <td>[War]</td>\n",
              "    </tr>\n",
              "    <tr>\n",
              "      <th>2</th>\n",
              "      <td>15798</td>\n",
              "      <td>100085</td>\n",
              "      <td>5.0</td>\n",
              "      <td>Fate Is the Hunter (1964)</td>\n",
              "      <td>[Drama]</td>\n",
              "    </tr>\n",
              "    <tr>\n",
              "      <th>3</th>\n",
              "      <td>22186</td>\n",
              "      <td>164260</td>\n",
              "      <td>5.0</td>\n",
              "      <td>Enemy Within, The (O ehthros mou) (2013)</td>\n",
              "      <td>[Drama]</td>\n",
              "    </tr>\n",
              "    <tr>\n",
              "      <th>4</th>\n",
              "      <td>15820</td>\n",
              "      <td>100210</td>\n",
              "      <td>5.0</td>\n",
              "      <td>President's Man, The (2000)</td>\n",
              "      <td>[Action, Adventure, Thriller]</td>\n",
              "    </tr>\n",
              "  </tbody>\n",
              "</table>\n",
              "</div>"
            ],
            "text/plain": [
              "   index  ...                         genres\n",
              "0  15090  ...              [Drama, Thriller]\n",
              "1  15969  ...                          [War]\n",
              "2  15798  ...                        [Drama]\n",
              "3  22186  ...                        [Drama]\n",
              "4  15820  ...  [Action, Adventure, Thriller]\n",
              "\n",
              "[5 rows x 5 columns]"
            ]
          },
          "metadata": {
            "tags": []
          },
          "execution_count": 32
        }
      ]
    },
    {
      "cell_type": "code",
      "metadata": {
        "colab": {
          "base_uri": "https://localhost:8080/",
          "height": 197
        },
        "id": "-iqS9yfbL29x",
        "outputId": "03acaec1-1508-48f6-d94f-2e595a2424f7"
      },
      "source": [
        "#dataframe for user 5\n",
        "df_user = training[training['userId'] == 5]\n",
        "df_user.head()"
      ],
      "execution_count": 33,
      "outputs": [
        {
          "output_type": "execute_result",
          "data": {
            "text/html": [
              "<div>\n",
              "<style scoped>\n",
              "    .dataframe tbody tr th:only-of-type {\n",
              "        vertical-align: middle;\n",
              "    }\n",
              "\n",
              "    .dataframe tbody tr th {\n",
              "        vertical-align: top;\n",
              "    }\n",
              "\n",
              "    .dataframe thead th {\n",
              "        text-align: right;\n",
              "    }\n",
              "</style>\n",
              "<table border=\"1\" class=\"dataframe\">\n",
              "  <thead>\n",
              "    <tr style=\"text-align: right;\">\n",
              "      <th></th>\n",
              "      <th>userId</th>\n",
              "      <th>movieId</th>\n",
              "      <th>genres</th>\n",
              "      <th>rating</th>\n",
              "    </tr>\n",
              "  </thead>\n",
              "  <tbody>\n",
              "    <tr>\n",
              "      <th>301218</th>\n",
              "      <td>5</td>\n",
              "      <td>3173</td>\n",
              "      <td>[Drama]</td>\n",
              "      <td>3.5</td>\n",
              "    </tr>\n",
              "    <tr>\n",
              "      <th>324437</th>\n",
              "      <td>5</td>\n",
              "      <td>6322</td>\n",
              "      <td>[Crime, Thriller]</td>\n",
              "      <td>3.5</td>\n",
              "    </tr>\n",
              "    <tr>\n",
              "      <th>346060</th>\n",
              "      <td>5</td>\n",
              "      <td>5528</td>\n",
              "      <td>[Drama, Thriller]</td>\n",
              "      <td>3.5</td>\n",
              "    </tr>\n",
              "    <tr>\n",
              "      <th>346886</th>\n",
              "      <td>5</td>\n",
              "      <td>3178</td>\n",
              "      <td>[Drama]</td>\n",
              "      <td>4.0</td>\n",
              "    </tr>\n",
              "    <tr>\n",
              "      <th>347717</th>\n",
              "      <td>5</td>\n",
              "      <td>55765</td>\n",
              "      <td>[Crime, Drama, Thriller]</td>\n",
              "      <td>4.0</td>\n",
              "    </tr>\n",
              "  </tbody>\n",
              "</table>\n",
              "</div>"
            ],
            "text/plain": [
              "        userId  movieId                    genres  rating\n",
              "301218       5     3173                   [Drama]     3.5\n",
              "324437       5     6322         [Crime, Thriller]     3.5\n",
              "346060       5     5528         [Drama, Thriller]     3.5\n",
              "346886       5     3178                   [Drama]     4.0\n",
              "347717       5    55765  [Crime, Drama, Thriller]     4.0"
            ]
          },
          "metadata": {
            "tags": []
          },
          "execution_count": 33
        }
      ]
    },
    {
      "cell_type": "code",
      "metadata": {
        "id": "96JYjNoFn4Ui"
      },
      "source": [
        "from collections import Counter\n",
        "def get_most_watched_genre(df_user):\n",
        "  #from the top 10 rated movies the user gave, what is the most common genre?\n",
        "  top10 = df_user.sort_values(by='rating', ascending=False)[:10]\n",
        "  top10 = top10.reset_index()\n",
        "  all = top10['genres']\n",
        "  l = [item for sublist in all for item in sublist]\n",
        "  count = Counter(l)\n",
        "  most_watched_genre = sorted(count, key=count.get)[-1]\n",
        "  return most_watched_genre"
      ],
      "execution_count": 34,
      "outputs": []
    },
    {
      "cell_type": "code",
      "metadata": {
        "id": "3_1LSkMeLcqQ"
      },
      "source": [
        "most_watched = get_most_watched_genre(df_user)"
      ],
      "execution_count": 35,
      "outputs": []
    },
    {
      "cell_type": "code",
      "metadata": {
        "id": "yvhtE-dHNjXG"
      },
      "source": [
        "def make_recommendation(userId): \n",
        "  #recommend 100 movies with that genre\n",
        "  recommend = []\n",
        "  most_watched_genre = most_watched\n",
        "  movies_watched = df_user['movieId']\n",
        "  for i in range(len(avg_movie_rating_df)):\n",
        "    if most_watched_genre in avg_movie_rating_df['genres'][i]:\n",
        "      if len(recommend) == 100:\n",
        "        return recommend\n",
        "      movie = avg_movie_rating_df['movieId'][i]\n",
        "      if movie not in movies_watched:\n",
        "        recommend.append(movie)\n",
        "  return recommend"
      ],
      "execution_count": 38,
      "outputs": []
    },
    {
      "cell_type": "markdown",
      "metadata": {
        "id": "bcgkD5TAYYeL"
      },
      "source": [
        "Recommend 100 movies with the highest ratings that have one of these genres"
      ]
    },
    {
      "cell_type": "code",
      "metadata": {
        "id": "JSSG-kDwOhZb"
      },
      "source": [
        "rec5 = make_recommendation(5)"
      ],
      "execution_count": 39,
      "outputs": []
    },
    {
      "cell_type": "code",
      "metadata": {
        "id": "qJ4T6YqQrt8d"
      },
      "source": [
        "def pred_rating_df(userId, df_user):\n",
        "  #return df_user with pred_rating column\n",
        "  recommendation = make_recommendation(userId)\n",
        "  rec_movies = avg_movie_rating_df.loc[avg_movie_rating_df['movieId'].isin(recommendation)]\n",
        "  rec_movies['pred_rating'] = (rec_movies['rating'] + df_user['rating'].mean()) / 2\n",
        "  return rec_movies"
      ],
      "execution_count": 40,
      "outputs": []
    },
    {
      "cell_type": "code",
      "metadata": {
        "colab": {
          "base_uri": "https://localhost:8080/",
          "height": 513
        },
        "id": "YnAHzvA4YgSf",
        "outputId": "6fff19f4-64c5-4ea4-d292-702b25cba498"
      },
      "source": [
        "rec_movies = avg_movie_rating_df.loc[avg_movie_rating_df['movieId'].isin(rec5)]\n",
        "rec_movies['pred_rating'] = (rec_movies['rating'] + df_user['rating'].mean()) / 2\n",
        "rec_movies"
      ],
      "execution_count": 41,
      "outputs": [
        {
          "output_type": "stream",
          "text": [
            "/usr/local/lib/python3.6/dist-packages/ipykernel_launcher.py:2: SettingWithCopyWarning: \n",
            "A value is trying to be set on a copy of a slice from a DataFrame.\n",
            "Try using .loc[row_indexer,col_indexer] = value instead\n",
            "\n",
            "See the caveats in the documentation: https://pandas.pydata.org/pandas-docs/stable/user_guide/indexing.html#returning-a-view-versus-a-copy\n",
            "  \n"
          ],
          "name": "stderr"
        },
        {
          "output_type": "execute_result",
          "data": {
            "text/html": [
              "<div>\n",
              "<style scoped>\n",
              "    .dataframe tbody tr th:only-of-type {\n",
              "        vertical-align: middle;\n",
              "    }\n",
              "\n",
              "    .dataframe tbody tr th {\n",
              "        vertical-align: top;\n",
              "    }\n",
              "\n",
              "    .dataframe thead th {\n",
              "        text-align: right;\n",
              "    }\n",
              "</style>\n",
              "<table border=\"1\" class=\"dataframe\">\n",
              "  <thead>\n",
              "    <tr style=\"text-align: right;\">\n",
              "      <th></th>\n",
              "      <th>index</th>\n",
              "      <th>movieId</th>\n",
              "      <th>rating</th>\n",
              "      <th>title</th>\n",
              "      <th>genres</th>\n",
              "      <th>pred_rating</th>\n",
              "    </tr>\n",
              "  </thead>\n",
              "  <tbody>\n",
              "    <tr>\n",
              "      <th>0</th>\n",
              "      <td>15090</td>\n",
              "      <td>94352</td>\n",
              "      <td>5.0</td>\n",
              "      <td>Chloe (2009)</td>\n",
              "      <td>[Drama, Thriller]</td>\n",
              "      <td>4.62069</td>\n",
              "    </tr>\n",
              "    <tr>\n",
              "      <th>2</th>\n",
              "      <td>15798</td>\n",
              "      <td>100085</td>\n",
              "      <td>5.0</td>\n",
              "      <td>Fate Is the Hunter (1964)</td>\n",
              "      <td>[Drama]</td>\n",
              "      <td>4.62069</td>\n",
              "    </tr>\n",
              "    <tr>\n",
              "      <th>3</th>\n",
              "      <td>22186</td>\n",
              "      <td>164260</td>\n",
              "      <td>5.0</td>\n",
              "      <td>Enemy Within, The (O ehthros mou) (2013)</td>\n",
              "      <td>[Drama]</td>\n",
              "      <td>4.62069</td>\n",
              "    </tr>\n",
              "    <tr>\n",
              "      <th>5</th>\n",
              "      <td>22162</td>\n",
              "      <td>164061</td>\n",
              "      <td>5.0</td>\n",
              "      <td>Back in the Saddle (Back in the Saddle Again) ...</td>\n",
              "      <td>[Action, Drama, Western]</td>\n",
              "      <td>4.62069</td>\n",
              "    </tr>\n",
              "    <tr>\n",
              "      <th>7</th>\n",
              "      <td>22149</td>\n",
              "      <td>163987</td>\n",
              "      <td>5.0</td>\n",
              "      <td>Superclásico (2011)</td>\n",
              "      <td>[Comedy, Drama]</td>\n",
              "      <td>4.62069</td>\n",
              "    </tr>\n",
              "    <tr>\n",
              "      <th>...</th>\n",
              "      <td>...</td>\n",
              "      <td>...</td>\n",
              "      <td>...</td>\n",
              "      <td>...</td>\n",
              "      <td>...</td>\n",
              "      <td>...</td>\n",
              "    </tr>\n",
              "    <tr>\n",
              "      <th>193</th>\n",
              "      <td>14654</td>\n",
              "      <td>90730</td>\n",
              "      <td>5.0</td>\n",
              "      <td>Hard Luck (2006)</td>\n",
              "      <td>[Crime, Drama, Thriller]</td>\n",
              "      <td>4.62069</td>\n",
              "    </tr>\n",
              "    <tr>\n",
              "      <th>194</th>\n",
              "      <td>14687</td>\n",
              "      <td>91037</td>\n",
              "      <td>5.0</td>\n",
              "      <td>Under the Bridges (Unter den Brücken) (1945)</td>\n",
              "      <td>[Comedy, Drama, Romance]</td>\n",
              "      <td>4.62069</td>\n",
              "    </tr>\n",
              "    <tr>\n",
              "      <th>196</th>\n",
              "      <td>14691</td>\n",
              "      <td>91054</td>\n",
              "      <td>5.0</td>\n",
              "      <td>H.M. Pulham, Esq. (1941)</td>\n",
              "      <td>[Drama, Romance]</td>\n",
              "      <td>4.62069</td>\n",
              "    </tr>\n",
              "    <tr>\n",
              "      <th>197</th>\n",
              "      <td>14719</td>\n",
              "      <td>91286</td>\n",
              "      <td>5.0</td>\n",
              "      <td>Sun Also Rises, The (1957)</td>\n",
              "      <td>[Drama]</td>\n",
              "      <td>4.62069</td>\n",
              "    </tr>\n",
              "    <tr>\n",
              "      <th>198</th>\n",
              "      <td>14794</td>\n",
              "      <td>91762</td>\n",
              "      <td>5.0</td>\n",
              "      <td>27 Club, The (2008)</td>\n",
              "      <td>[Drama]</td>\n",
              "      <td>4.62069</td>\n",
              "    </tr>\n",
              "  </tbody>\n",
              "</table>\n",
              "<p>100 rows × 6 columns</p>\n",
              "</div>"
            ],
            "text/plain": [
              "     index  movieId  ...                    genres pred_rating\n",
              "0    15090    94352  ...         [Drama, Thriller]     4.62069\n",
              "2    15798   100085  ...                   [Drama]     4.62069\n",
              "3    22186   164260  ...                   [Drama]     4.62069\n",
              "5    22162   164061  ...  [Action, Drama, Western]     4.62069\n",
              "7    22149   163987  ...           [Comedy, Drama]     4.62069\n",
              "..     ...      ...  ...                       ...         ...\n",
              "193  14654    90730  ...  [Crime, Drama, Thriller]     4.62069\n",
              "194  14687    91037  ...  [Comedy, Drama, Romance]     4.62069\n",
              "196  14691    91054  ...          [Drama, Romance]     4.62069\n",
              "197  14719    91286  ...                   [Drama]     4.62069\n",
              "198  14794    91762  ...                   [Drama]     4.62069\n",
              "\n",
              "[100 rows x 6 columns]"
            ]
          },
          "metadata": {
            "tags": []
          },
          "execution_count": 41
        }
      ]
    },
    {
      "cell_type": "markdown",
      "metadata": {
        "id": "dyCkCEtqQGJC"
      },
      "source": [
        "## Another Context Based Model"
      ]
    },
    {
      "cell_type": "markdown",
      "metadata": {
        "id": "k5_Xjc1HQTDo"
      },
      "source": [
        "Another consideration of a context based model for new users is shown below. Please note this is not complete and we decided to go with our other content based model because it was more applicable to testing and incorporation to our hybrid model. This model has 2 interesting functions. 1) recommending movies similar to other movies. 2) recommending movies to users based on their past movie watching experience. They both utilize TFIDF for finding relative importance of the genres.\n",
        "\n"
      ]
    },
    {
      "cell_type": "code",
      "metadata": {
        "colab": {
          "base_uri": "https://localhost:8080/"
        },
        "id": "ONPHJr2UoHee",
        "outputId": "0c9f2106-6b37-4e7d-a372-af738468180c"
      },
      "source": [
        "movies.info()"
      ],
      "execution_count": 42,
      "outputs": [
        {
          "output_type": "stream",
          "text": [
            "<class 'pandas.core.frame.DataFrame'>\n",
            "RangeIndex: 58098 entries, 0 to 58097\n",
            "Data columns (total 3 columns):\n",
            " #   Column   Non-Null Count  Dtype \n",
            "---  ------   --------------  ----- \n",
            " 0   movieId  58098 non-null  int64 \n",
            " 1   title    58098 non-null  object\n",
            " 2   genres   58098 non-null  object\n",
            "dtypes: int64(1), object(2)\n",
            "memory usage: 1.3+ MB\n"
          ],
          "name": "stdout"
        }
      ]
    },
    {
      "cell_type": "code",
      "metadata": {
        "colab": {
          "base_uri": "https://localhost:8080/",
          "height": 197
        },
        "id": "Z-Zo2HoU3Kmg",
        "outputId": "3185fd34-457f-4ccf-bc3e-5d0d1d7a5a2c"
      },
      "source": [
        "movies['genres'] = movies['genres'].str.split('|')\n",
        "movies.head()"
      ],
      "execution_count": 43,
      "outputs": [
        {
          "output_type": "execute_result",
          "data": {
            "text/html": [
              "<div>\n",
              "<style scoped>\n",
              "    .dataframe tbody tr th:only-of-type {\n",
              "        vertical-align: middle;\n",
              "    }\n",
              "\n",
              "    .dataframe tbody tr th {\n",
              "        vertical-align: top;\n",
              "    }\n",
              "\n",
              "    .dataframe thead th {\n",
              "        text-align: right;\n",
              "    }\n",
              "</style>\n",
              "<table border=\"1\" class=\"dataframe\">\n",
              "  <thead>\n",
              "    <tr style=\"text-align: right;\">\n",
              "      <th></th>\n",
              "      <th>movieId</th>\n",
              "      <th>title</th>\n",
              "      <th>genres</th>\n",
              "    </tr>\n",
              "  </thead>\n",
              "  <tbody>\n",
              "    <tr>\n",
              "      <th>0</th>\n",
              "      <td>1</td>\n",
              "      <td>Toy Story (1995)</td>\n",
              "      <td>[Adventure, Animation, Children, Comedy, Fantasy]</td>\n",
              "    </tr>\n",
              "    <tr>\n",
              "      <th>1</th>\n",
              "      <td>2</td>\n",
              "      <td>Jumanji (1995)</td>\n",
              "      <td>[Adventure, Children, Fantasy]</td>\n",
              "    </tr>\n",
              "    <tr>\n",
              "      <th>2</th>\n",
              "      <td>3</td>\n",
              "      <td>Grumpier Old Men (1995)</td>\n",
              "      <td>[Comedy, Romance]</td>\n",
              "    </tr>\n",
              "    <tr>\n",
              "      <th>3</th>\n",
              "      <td>4</td>\n",
              "      <td>Waiting to Exhale (1995)</td>\n",
              "      <td>[Comedy, Drama, Romance]</td>\n",
              "    </tr>\n",
              "    <tr>\n",
              "      <th>4</th>\n",
              "      <td>5</td>\n",
              "      <td>Father of the Bride Part II (1995)</td>\n",
              "      <td>[Comedy]</td>\n",
              "    </tr>\n",
              "  </tbody>\n",
              "</table>\n",
              "</div>"
            ],
            "text/plain": [
              "   movieId  ...                                             genres\n",
              "0        1  ...  [Adventure, Animation, Children, Comedy, Fantasy]\n",
              "1        2  ...                     [Adventure, Children, Fantasy]\n",
              "2        3  ...                                  [Comedy, Romance]\n",
              "3        4  ...                           [Comedy, Drama, Romance]\n",
              "4        5  ...                                           [Comedy]\n",
              "\n",
              "[5 rows x 3 columns]"
            ]
          },
          "metadata": {
            "tags": []
          },
          "execution_count": 43
        }
      ]
    },
    {
      "cell_type": "code",
      "metadata": {
        "colab": {
          "base_uri": "https://localhost:8080/"
        },
        "id": "T6WlxZfB1nw2",
        "outputId": "89bc2249-3e15-458c-e84b-980d77d72575"
      },
      "source": [
        "import itertools\n",
        "set(itertools.chain.from_iterable(movies.genres))"
      ],
      "execution_count": 44,
      "outputs": [
        {
          "output_type": "execute_result",
          "data": {
            "text/plain": [
              "{'(no genres listed)',\n",
              " 'Action',\n",
              " 'Adventure',\n",
              " 'Animation',\n",
              " 'Children',\n",
              " 'Comedy',\n",
              " 'Crime',\n",
              " 'Documentary',\n",
              " 'Drama',\n",
              " 'Fantasy',\n",
              " 'Film-Noir',\n",
              " 'Horror',\n",
              " 'IMAX',\n",
              " 'Musical',\n",
              " 'Mystery',\n",
              " 'Romance',\n",
              " 'Sci-Fi',\n",
              " 'Thriller',\n",
              " 'War',\n",
              " 'Western'}"
            ]
          },
          "metadata": {
            "tags": []
          },
          "execution_count": 44
        }
      ]
    },
    {
      "cell_type": "code",
      "metadata": {
        "colab": {
          "base_uri": "https://localhost:8080/"
        },
        "id": "hJhIRKcxrVYY",
        "outputId": "ed653d8d-5d2a-4522-a28d-4a26d1322ebe"
      },
      "source": [
        "#Shows the userID of the new users we are working with\n",
        "grouped = ratings.groupby('userId').count()\n",
        "new_users = grouped[grouped['rating'] < 18].reset_index()['userId']\n",
        "new_users.head()"
      ],
      "execution_count": 45,
      "outputs": [
        {
          "output_type": "execute_result",
          "data": {
            "text/plain": [
              "0    1\n",
              "1    2\n",
              "2    3\n",
              "3    7\n",
              "4    9\n",
              "Name: userId, dtype: int64"
            ]
          },
          "metadata": {
            "tags": []
          },
          "execution_count": 45
        }
      ]
    },
    {
      "cell_type": "markdown",
      "metadata": {
        "id": "RmiCoUyj0B4l"
      },
      "source": [
        "Train Test Split. Not going to work with any users with less than 6 ratings because there's too little to do proper testing. But will be included in the final model."
      ]
    },
    {
      "cell_type": "code",
      "metadata": {
        "id": "XPBjRU86z3m9"
      },
      "source": [
        "grouped = ratings.groupby('userId').count()\n",
        "work_with_df = grouped[(grouped['rating'] < 18) & (grouped['rating'] > 5)]"
      ],
      "execution_count": 46,
      "outputs": []
    },
    {
      "cell_type": "code",
      "metadata": {
        "colab": {
          "base_uri": "https://localhost:8080/",
          "height": 227
        },
        "id": "fDPQ6LgF3Amz",
        "outputId": "33faad5c-5637-4010-bab0-9ad359efd92c"
      },
      "source": [
        "work_with_df.head()"
      ],
      "execution_count": 47,
      "outputs": [
        {
          "output_type": "execute_result",
          "data": {
            "text/html": [
              "<div>\n",
              "<style scoped>\n",
              "    .dataframe tbody tr th:only-of-type {\n",
              "        vertical-align: middle;\n",
              "    }\n",
              "\n",
              "    .dataframe tbody tr th {\n",
              "        vertical-align: top;\n",
              "    }\n",
              "\n",
              "    .dataframe thead th {\n",
              "        text-align: right;\n",
              "    }\n",
              "</style>\n",
              "<table border=\"1\" class=\"dataframe\">\n",
              "  <thead>\n",
              "    <tr style=\"text-align: right;\">\n",
              "      <th></th>\n",
              "      <th>movieId</th>\n",
              "      <th>rating</th>\n",
              "      <th>timestamp</th>\n",
              "    </tr>\n",
              "    <tr>\n",
              "      <th>userId</th>\n",
              "      <th></th>\n",
              "      <th></th>\n",
              "      <th></th>\n",
              "    </tr>\n",
              "  </thead>\n",
              "  <tbody>\n",
              "    <tr>\n",
              "      <th>1</th>\n",
              "      <td>16</td>\n",
              "      <td>16</td>\n",
              "      <td>16</td>\n",
              "    </tr>\n",
              "    <tr>\n",
              "      <th>2</th>\n",
              "      <td>15</td>\n",
              "      <td>15</td>\n",
              "      <td>15</td>\n",
              "    </tr>\n",
              "    <tr>\n",
              "      <th>3</th>\n",
              "      <td>11</td>\n",
              "      <td>11</td>\n",
              "      <td>11</td>\n",
              "    </tr>\n",
              "    <tr>\n",
              "      <th>7</th>\n",
              "      <td>15</td>\n",
              "      <td>15</td>\n",
              "      <td>15</td>\n",
              "    </tr>\n",
              "    <tr>\n",
              "      <th>21</th>\n",
              "      <td>15</td>\n",
              "      <td>15</td>\n",
              "      <td>15</td>\n",
              "    </tr>\n",
              "  </tbody>\n",
              "</table>\n",
              "</div>"
            ],
            "text/plain": [
              "        movieId  rating  timestamp\n",
              "userId                            \n",
              "1            16      16         16\n",
              "2            15      15         15\n",
              "3            11      11         11\n",
              "7            15      15         15\n",
              "21           15      15         15"
            ]
          },
          "metadata": {
            "tags": []
          },
          "execution_count": 47
        }
      ]
    },
    {
      "cell_type": "code",
      "metadata": {
        "id": "wy4SDuF0t60D"
      },
      "source": [
        "new_users_df = ratings[ratings['userId'].isin(new_users)]\n",
        "new_ppl_movies = new_users_df['movieId']"
      ],
      "execution_count": 48,
      "outputs": []
    },
    {
      "cell_type": "code",
      "metadata": {
        "id": "v6SCJdZuvHpD"
      },
      "source": [
        "new_movies_df = movies[movies['movieId'].isin(new_ppl_movies)]"
      ],
      "execution_count": 49,
      "outputs": []
    },
    {
      "cell_type": "code",
      "metadata": {
        "colab": {
          "base_uri": "https://localhost:8080/",
          "height": 304
        },
        "id": "xUH3RkmVnmeQ",
        "outputId": "b2b59fa3-d8e2-442b-cdd7-239cca7795dd"
      },
      "source": [
        "#We are only working with movies that are within our new user data for time constraints and training purposes.\n",
        "new_movies_df['genres'] = new_movies_df['genres'].fillna(\"\").astype('str')\n",
        "new_movies_df = new_movies_df.reset_index().drop(columns='index')\n",
        "new_movies_df.head()"
      ],
      "execution_count": 50,
      "outputs": [
        {
          "output_type": "stream",
          "text": [
            "/usr/local/lib/python3.6/dist-packages/ipykernel_launcher.py:2: SettingWithCopyWarning: \n",
            "A value is trying to be set on a copy of a slice from a DataFrame.\n",
            "Try using .loc[row_indexer,col_indexer] = value instead\n",
            "\n",
            "See the caveats in the documentation: https://pandas.pydata.org/pandas-docs/stable/user_guide/indexing.html#returning-a-view-versus-a-copy\n",
            "  \n"
          ],
          "name": "stderr"
        },
        {
          "output_type": "execute_result",
          "data": {
            "text/html": [
              "<div>\n",
              "<style scoped>\n",
              "    .dataframe tbody tr th:only-of-type {\n",
              "        vertical-align: middle;\n",
              "    }\n",
              "\n",
              "    .dataframe tbody tr th {\n",
              "        vertical-align: top;\n",
              "    }\n",
              "\n",
              "    .dataframe thead th {\n",
              "        text-align: right;\n",
              "    }\n",
              "</style>\n",
              "<table border=\"1\" class=\"dataframe\">\n",
              "  <thead>\n",
              "    <tr style=\"text-align: right;\">\n",
              "      <th></th>\n",
              "      <th>movieId</th>\n",
              "      <th>title</th>\n",
              "      <th>genres</th>\n",
              "    </tr>\n",
              "  </thead>\n",
              "  <tbody>\n",
              "    <tr>\n",
              "      <th>0</th>\n",
              "      <td>1</td>\n",
              "      <td>Toy Story (1995)</td>\n",
              "      <td>['Adventure', 'Animation', 'Children', 'Comedy...</td>\n",
              "    </tr>\n",
              "    <tr>\n",
              "      <th>1</th>\n",
              "      <td>2</td>\n",
              "      <td>Jumanji (1995)</td>\n",
              "      <td>['Adventure', 'Children', 'Fantasy']</td>\n",
              "    </tr>\n",
              "    <tr>\n",
              "      <th>2</th>\n",
              "      <td>3</td>\n",
              "      <td>Grumpier Old Men (1995)</td>\n",
              "      <td>['Comedy', 'Romance']</td>\n",
              "    </tr>\n",
              "    <tr>\n",
              "      <th>3</th>\n",
              "      <td>4</td>\n",
              "      <td>Waiting to Exhale (1995)</td>\n",
              "      <td>['Comedy', 'Drama', 'Romance']</td>\n",
              "    </tr>\n",
              "    <tr>\n",
              "      <th>4</th>\n",
              "      <td>5</td>\n",
              "      <td>Father of the Bride Part II (1995)</td>\n",
              "      <td>['Comedy']</td>\n",
              "    </tr>\n",
              "  </tbody>\n",
              "</table>\n",
              "</div>"
            ],
            "text/plain": [
              "   movieId  ...                                             genres\n",
              "0        1  ...  ['Adventure', 'Animation', 'Children', 'Comedy...\n",
              "1        2  ...               ['Adventure', 'Children', 'Fantasy']\n",
              "2        3  ...                              ['Comedy', 'Romance']\n",
              "3        4  ...                     ['Comedy', 'Drama', 'Romance']\n",
              "4        5  ...                                         ['Comedy']\n",
              "\n",
              "[5 rows x 3 columns]"
            ]
          },
          "metadata": {
            "tags": []
          },
          "execution_count": 50
        }
      ]
    },
    {
      "cell_type": "markdown",
      "metadata": {
        "id": "uHHfh7kGh9UJ"
      },
      "source": [
        "We are using TFIDF to determine the relative importance of the genre."
      ]
    },
    {
      "cell_type": "code",
      "metadata": {
        "colab": {
          "base_uri": "https://localhost:8080/"
        },
        "id": "oaKf5qg2zK2O",
        "outputId": "84ef2a58-cddb-411d-a556-22c2da21ebff"
      },
      "source": [
        "from sklearn.feature_extraction.text import TfidfVectorizer\n",
        "tf = TfidfVectorizer(analyzer='word',ngram_range=(1, 3),min_df=0, stop_words='english')\n",
        "tfidf_matrix = tf.fit_transform(new_movies_df['genres'])\n",
        "tfidf_matrix.shape"
      ],
      "execution_count": 51,
      "outputs": [
        {
          "output_type": "execute_result",
          "data": {
            "text/plain": [
              "(13319, 607)"
            ]
          },
          "metadata": {
            "tags": []
          },
          "execution_count": 51
        }
      ]
    },
    {
      "cell_type": "code",
      "metadata": {
        "colab": {
          "base_uri": "https://localhost:8080/",
          "height": 310
        },
        "id": "j5wDXIAIa4ic",
        "outputId": "98cd3477-cbdc-4ce2-f48b-f1914cf03093"
      },
      "source": [
        "tfidf_data = pd.DataFrame(tfidf_matrix.todense(), columns = tf.get_feature_names())\n",
        "tfidf_data = tfidf_data.set_index(new_movies_df['movieId'])\n",
        "tfidf_data.head()"
      ],
      "execution_count": 53,
      "outputs": [
        {
          "output_type": "execute_result",
          "data": {
            "text/html": [
              "<div>\n",
              "<style scoped>\n",
              "    .dataframe tbody tr th:only-of-type {\n",
              "        vertical-align: middle;\n",
              "    }\n",
              "\n",
              "    .dataframe tbody tr th {\n",
              "        vertical-align: top;\n",
              "    }\n",
              "\n",
              "    .dataframe thead th {\n",
              "        text-align: right;\n",
              "    }\n",
              "</style>\n",
              "<table border=\"1\" class=\"dataframe\">\n",
              "  <thead>\n",
              "    <tr style=\"text-align: right;\">\n",
              "      <th></th>\n",
              "      <th>action</th>\n",
              "      <th>action adventure</th>\n",
              "      <th>action adventure animation</th>\n",
              "      <th>action adventure children</th>\n",
              "      <th>action adventure comedy</th>\n",
              "      <th>action adventure crime</th>\n",
              "      <th>action adventure documentary</th>\n",
              "      <th>action adventure drama</th>\n",
              "      <th>action adventure fantasy</th>\n",
              "      <th>action adventure horror</th>\n",
              "      <th>action adventure imax</th>\n",
              "      <th>action adventure mystery</th>\n",
              "      <th>action adventure romance</th>\n",
              "      <th>action adventure sci</th>\n",
              "      <th>action adventure thriller</th>\n",
              "      <th>action adventure war</th>\n",
              "      <th>action adventure western</th>\n",
              "      <th>action animation</th>\n",
              "      <th>action animation children</th>\n",
              "      <th>action animation comedy</th>\n",
              "      <th>action animation crime</th>\n",
              "      <th>action animation drama</th>\n",
              "      <th>action animation fantasy</th>\n",
              "      <th>action animation horror</th>\n",
              "      <th>action animation mystery</th>\n",
              "      <th>action animation romance</th>\n",
              "      <th>action animation sci</th>\n",
              "      <th>action children</th>\n",
              "      <th>action children comedy</th>\n",
              "      <th>action children drama</th>\n",
              "      <th>action children fantasy</th>\n",
              "      <th>action children romance</th>\n",
              "      <th>action children sci</th>\n",
              "      <th>action comedy</th>\n",
              "      <th>action comedy crime</th>\n",
              "      <th>action comedy documentary</th>\n",
              "      <th>action comedy drama</th>\n",
              "      <th>action comedy fantasy</th>\n",
              "      <th>action comedy horror</th>\n",
              "      <th>action comedy imax</th>\n",
              "      <th>...</th>\n",
              "      <th>mystery western</th>\n",
              "      <th>noir</th>\n",
              "      <th>noir horror</th>\n",
              "      <th>noir horror mystery</th>\n",
              "      <th>noir horror thriller</th>\n",
              "      <th>noir mystery</th>\n",
              "      <th>noir mystery romance</th>\n",
              "      <th>noir mystery thriller</th>\n",
              "      <th>noir romance</th>\n",
              "      <th>noir romance thriller</th>\n",
              "      <th>noir sci</th>\n",
              "      <th>noir sci fi</th>\n",
              "      <th>noir thriller</th>\n",
              "      <th>romance</th>\n",
              "      <th>romance imax</th>\n",
              "      <th>romance sci</th>\n",
              "      <th>romance sci fi</th>\n",
              "      <th>romance thriller</th>\n",
              "      <th>romance thriller imax</th>\n",
              "      <th>romance thriller war</th>\n",
              "      <th>romance thriller western</th>\n",
              "      <th>romance war</th>\n",
              "      <th>romance war western</th>\n",
              "      <th>romance western</th>\n",
              "      <th>sci</th>\n",
              "      <th>sci fi</th>\n",
              "      <th>sci fi imax</th>\n",
              "      <th>sci fi thriller</th>\n",
              "      <th>sci fi war</th>\n",
              "      <th>sci fi western</th>\n",
              "      <th>thriller</th>\n",
              "      <th>thriller imax</th>\n",
              "      <th>thriller war</th>\n",
              "      <th>thriller western</th>\n",
              "      <th>thriller western imax</th>\n",
              "      <th>war</th>\n",
              "      <th>war imax</th>\n",
              "      <th>war western</th>\n",
              "      <th>western</th>\n",
              "      <th>western imax</th>\n",
              "    </tr>\n",
              "    <tr>\n",
              "      <th>movieId</th>\n",
              "      <th></th>\n",
              "      <th></th>\n",
              "      <th></th>\n",
              "      <th></th>\n",
              "      <th></th>\n",
              "      <th></th>\n",
              "      <th></th>\n",
              "      <th></th>\n",
              "      <th></th>\n",
              "      <th></th>\n",
              "      <th></th>\n",
              "      <th></th>\n",
              "      <th></th>\n",
              "      <th></th>\n",
              "      <th></th>\n",
              "      <th></th>\n",
              "      <th></th>\n",
              "      <th></th>\n",
              "      <th></th>\n",
              "      <th></th>\n",
              "      <th></th>\n",
              "      <th></th>\n",
              "      <th></th>\n",
              "      <th></th>\n",
              "      <th></th>\n",
              "      <th></th>\n",
              "      <th></th>\n",
              "      <th></th>\n",
              "      <th></th>\n",
              "      <th></th>\n",
              "      <th></th>\n",
              "      <th></th>\n",
              "      <th></th>\n",
              "      <th></th>\n",
              "      <th></th>\n",
              "      <th></th>\n",
              "      <th></th>\n",
              "      <th></th>\n",
              "      <th></th>\n",
              "      <th></th>\n",
              "      <th></th>\n",
              "      <th></th>\n",
              "      <th></th>\n",
              "      <th></th>\n",
              "      <th></th>\n",
              "      <th></th>\n",
              "      <th></th>\n",
              "      <th></th>\n",
              "      <th></th>\n",
              "      <th></th>\n",
              "      <th></th>\n",
              "      <th></th>\n",
              "      <th></th>\n",
              "      <th></th>\n",
              "      <th></th>\n",
              "      <th></th>\n",
              "      <th></th>\n",
              "      <th></th>\n",
              "      <th></th>\n",
              "      <th></th>\n",
              "      <th></th>\n",
              "      <th></th>\n",
              "      <th></th>\n",
              "      <th></th>\n",
              "      <th></th>\n",
              "      <th></th>\n",
              "      <th></th>\n",
              "      <th></th>\n",
              "      <th></th>\n",
              "      <th></th>\n",
              "      <th></th>\n",
              "      <th></th>\n",
              "      <th></th>\n",
              "      <th></th>\n",
              "      <th></th>\n",
              "      <th></th>\n",
              "      <th></th>\n",
              "      <th></th>\n",
              "      <th></th>\n",
              "      <th></th>\n",
              "      <th></th>\n",
              "    </tr>\n",
              "  </thead>\n",
              "  <tbody>\n",
              "    <tr>\n",
              "      <th>1</th>\n",
              "      <td>0.0</td>\n",
              "      <td>0.0</td>\n",
              "      <td>0.0</td>\n",
              "      <td>0.0</td>\n",
              "      <td>0.0</td>\n",
              "      <td>0.0</td>\n",
              "      <td>0.0</td>\n",
              "      <td>0.0</td>\n",
              "      <td>0.0</td>\n",
              "      <td>0.0</td>\n",
              "      <td>0.0</td>\n",
              "      <td>0.0</td>\n",
              "      <td>0.0</td>\n",
              "      <td>0.0</td>\n",
              "      <td>0.0</td>\n",
              "      <td>0.0</td>\n",
              "      <td>0.0</td>\n",
              "      <td>0.0</td>\n",
              "      <td>0.0</td>\n",
              "      <td>0.0</td>\n",
              "      <td>0.0</td>\n",
              "      <td>0.0</td>\n",
              "      <td>0.0</td>\n",
              "      <td>0.0</td>\n",
              "      <td>0.0</td>\n",
              "      <td>0.0</td>\n",
              "      <td>0.0</td>\n",
              "      <td>0.0</td>\n",
              "      <td>0.0</td>\n",
              "      <td>0.0</td>\n",
              "      <td>0.0</td>\n",
              "      <td>0.0</td>\n",
              "      <td>0.0</td>\n",
              "      <td>0.0</td>\n",
              "      <td>0.0</td>\n",
              "      <td>0.0</td>\n",
              "      <td>0.0</td>\n",
              "      <td>0.0</td>\n",
              "      <td>0.0</td>\n",
              "      <td>0.0</td>\n",
              "      <td>...</td>\n",
              "      <td>0.0</td>\n",
              "      <td>0.0</td>\n",
              "      <td>0.0</td>\n",
              "      <td>0.0</td>\n",
              "      <td>0.0</td>\n",
              "      <td>0.0</td>\n",
              "      <td>0.0</td>\n",
              "      <td>0.0</td>\n",
              "      <td>0.0</td>\n",
              "      <td>0.0</td>\n",
              "      <td>0.0</td>\n",
              "      <td>0.0</td>\n",
              "      <td>0.0</td>\n",
              "      <td>0.000000</td>\n",
              "      <td>0.0</td>\n",
              "      <td>0.0</td>\n",
              "      <td>0.0</td>\n",
              "      <td>0.0</td>\n",
              "      <td>0.0</td>\n",
              "      <td>0.0</td>\n",
              "      <td>0.0</td>\n",
              "      <td>0.0</td>\n",
              "      <td>0.0</td>\n",
              "      <td>0.0</td>\n",
              "      <td>0.0</td>\n",
              "      <td>0.0</td>\n",
              "      <td>0.0</td>\n",
              "      <td>0.0</td>\n",
              "      <td>0.0</td>\n",
              "      <td>0.0</td>\n",
              "      <td>0.0</td>\n",
              "      <td>0.0</td>\n",
              "      <td>0.0</td>\n",
              "      <td>0.0</td>\n",
              "      <td>0.0</td>\n",
              "      <td>0.0</td>\n",
              "      <td>0.0</td>\n",
              "      <td>0.0</td>\n",
              "      <td>0.0</td>\n",
              "      <td>0.0</td>\n",
              "    </tr>\n",
              "    <tr>\n",
              "      <th>2</th>\n",
              "      <td>0.0</td>\n",
              "      <td>0.0</td>\n",
              "      <td>0.0</td>\n",
              "      <td>0.0</td>\n",
              "      <td>0.0</td>\n",
              "      <td>0.0</td>\n",
              "      <td>0.0</td>\n",
              "      <td>0.0</td>\n",
              "      <td>0.0</td>\n",
              "      <td>0.0</td>\n",
              "      <td>0.0</td>\n",
              "      <td>0.0</td>\n",
              "      <td>0.0</td>\n",
              "      <td>0.0</td>\n",
              "      <td>0.0</td>\n",
              "      <td>0.0</td>\n",
              "      <td>0.0</td>\n",
              "      <td>0.0</td>\n",
              "      <td>0.0</td>\n",
              "      <td>0.0</td>\n",
              "      <td>0.0</td>\n",
              "      <td>0.0</td>\n",
              "      <td>0.0</td>\n",
              "      <td>0.0</td>\n",
              "      <td>0.0</td>\n",
              "      <td>0.0</td>\n",
              "      <td>0.0</td>\n",
              "      <td>0.0</td>\n",
              "      <td>0.0</td>\n",
              "      <td>0.0</td>\n",
              "      <td>0.0</td>\n",
              "      <td>0.0</td>\n",
              "      <td>0.0</td>\n",
              "      <td>0.0</td>\n",
              "      <td>0.0</td>\n",
              "      <td>0.0</td>\n",
              "      <td>0.0</td>\n",
              "      <td>0.0</td>\n",
              "      <td>0.0</td>\n",
              "      <td>0.0</td>\n",
              "      <td>...</td>\n",
              "      <td>0.0</td>\n",
              "      <td>0.0</td>\n",
              "      <td>0.0</td>\n",
              "      <td>0.0</td>\n",
              "      <td>0.0</td>\n",
              "      <td>0.0</td>\n",
              "      <td>0.0</td>\n",
              "      <td>0.0</td>\n",
              "      <td>0.0</td>\n",
              "      <td>0.0</td>\n",
              "      <td>0.0</td>\n",
              "      <td>0.0</td>\n",
              "      <td>0.0</td>\n",
              "      <td>0.000000</td>\n",
              "      <td>0.0</td>\n",
              "      <td>0.0</td>\n",
              "      <td>0.0</td>\n",
              "      <td>0.0</td>\n",
              "      <td>0.0</td>\n",
              "      <td>0.0</td>\n",
              "      <td>0.0</td>\n",
              "      <td>0.0</td>\n",
              "      <td>0.0</td>\n",
              "      <td>0.0</td>\n",
              "      <td>0.0</td>\n",
              "      <td>0.0</td>\n",
              "      <td>0.0</td>\n",
              "      <td>0.0</td>\n",
              "      <td>0.0</td>\n",
              "      <td>0.0</td>\n",
              "      <td>0.0</td>\n",
              "      <td>0.0</td>\n",
              "      <td>0.0</td>\n",
              "      <td>0.0</td>\n",
              "      <td>0.0</td>\n",
              "      <td>0.0</td>\n",
              "      <td>0.0</td>\n",
              "      <td>0.0</td>\n",
              "      <td>0.0</td>\n",
              "      <td>0.0</td>\n",
              "    </tr>\n",
              "    <tr>\n",
              "      <th>3</th>\n",
              "      <td>0.0</td>\n",
              "      <td>0.0</td>\n",
              "      <td>0.0</td>\n",
              "      <td>0.0</td>\n",
              "      <td>0.0</td>\n",
              "      <td>0.0</td>\n",
              "      <td>0.0</td>\n",
              "      <td>0.0</td>\n",
              "      <td>0.0</td>\n",
              "      <td>0.0</td>\n",
              "      <td>0.0</td>\n",
              "      <td>0.0</td>\n",
              "      <td>0.0</td>\n",
              "      <td>0.0</td>\n",
              "      <td>0.0</td>\n",
              "      <td>0.0</td>\n",
              "      <td>0.0</td>\n",
              "      <td>0.0</td>\n",
              "      <td>0.0</td>\n",
              "      <td>0.0</td>\n",
              "      <td>0.0</td>\n",
              "      <td>0.0</td>\n",
              "      <td>0.0</td>\n",
              "      <td>0.0</td>\n",
              "      <td>0.0</td>\n",
              "      <td>0.0</td>\n",
              "      <td>0.0</td>\n",
              "      <td>0.0</td>\n",
              "      <td>0.0</td>\n",
              "      <td>0.0</td>\n",
              "      <td>0.0</td>\n",
              "      <td>0.0</td>\n",
              "      <td>0.0</td>\n",
              "      <td>0.0</td>\n",
              "      <td>0.0</td>\n",
              "      <td>0.0</td>\n",
              "      <td>0.0</td>\n",
              "      <td>0.0</td>\n",
              "      <td>0.0</td>\n",
              "      <td>0.0</td>\n",
              "      <td>...</td>\n",
              "      <td>0.0</td>\n",
              "      <td>0.0</td>\n",
              "      <td>0.0</td>\n",
              "      <td>0.0</td>\n",
              "      <td>0.0</td>\n",
              "      <td>0.0</td>\n",
              "      <td>0.0</td>\n",
              "      <td>0.0</td>\n",
              "      <td>0.0</td>\n",
              "      <td>0.0</td>\n",
              "      <td>0.0</td>\n",
              "      <td>0.0</td>\n",
              "      <td>0.0</td>\n",
              "      <td>0.510362</td>\n",
              "      <td>0.0</td>\n",
              "      <td>0.0</td>\n",
              "      <td>0.0</td>\n",
              "      <td>0.0</td>\n",
              "      <td>0.0</td>\n",
              "      <td>0.0</td>\n",
              "      <td>0.0</td>\n",
              "      <td>0.0</td>\n",
              "      <td>0.0</td>\n",
              "      <td>0.0</td>\n",
              "      <td>0.0</td>\n",
              "      <td>0.0</td>\n",
              "      <td>0.0</td>\n",
              "      <td>0.0</td>\n",
              "      <td>0.0</td>\n",
              "      <td>0.0</td>\n",
              "      <td>0.0</td>\n",
              "      <td>0.0</td>\n",
              "      <td>0.0</td>\n",
              "      <td>0.0</td>\n",
              "      <td>0.0</td>\n",
              "      <td>0.0</td>\n",
              "      <td>0.0</td>\n",
              "      <td>0.0</td>\n",
              "      <td>0.0</td>\n",
              "      <td>0.0</td>\n",
              "    </tr>\n",
              "    <tr>\n",
              "      <th>4</th>\n",
              "      <td>0.0</td>\n",
              "      <td>0.0</td>\n",
              "      <td>0.0</td>\n",
              "      <td>0.0</td>\n",
              "      <td>0.0</td>\n",
              "      <td>0.0</td>\n",
              "      <td>0.0</td>\n",
              "      <td>0.0</td>\n",
              "      <td>0.0</td>\n",
              "      <td>0.0</td>\n",
              "      <td>0.0</td>\n",
              "      <td>0.0</td>\n",
              "      <td>0.0</td>\n",
              "      <td>0.0</td>\n",
              "      <td>0.0</td>\n",
              "      <td>0.0</td>\n",
              "      <td>0.0</td>\n",
              "      <td>0.0</td>\n",
              "      <td>0.0</td>\n",
              "      <td>0.0</td>\n",
              "      <td>0.0</td>\n",
              "      <td>0.0</td>\n",
              "      <td>0.0</td>\n",
              "      <td>0.0</td>\n",
              "      <td>0.0</td>\n",
              "      <td>0.0</td>\n",
              "      <td>0.0</td>\n",
              "      <td>0.0</td>\n",
              "      <td>0.0</td>\n",
              "      <td>0.0</td>\n",
              "      <td>0.0</td>\n",
              "      <td>0.0</td>\n",
              "      <td>0.0</td>\n",
              "      <td>0.0</td>\n",
              "      <td>0.0</td>\n",
              "      <td>0.0</td>\n",
              "      <td>0.0</td>\n",
              "      <td>0.0</td>\n",
              "      <td>0.0</td>\n",
              "      <td>0.0</td>\n",
              "      <td>...</td>\n",
              "      <td>0.0</td>\n",
              "      <td>0.0</td>\n",
              "      <td>0.0</td>\n",
              "      <td>0.0</td>\n",
              "      <td>0.0</td>\n",
              "      <td>0.0</td>\n",
              "      <td>0.0</td>\n",
              "      <td>0.0</td>\n",
              "      <td>0.0</td>\n",
              "      <td>0.0</td>\n",
              "      <td>0.0</td>\n",
              "      <td>0.0</td>\n",
              "      <td>0.0</td>\n",
              "      <td>0.362843</td>\n",
              "      <td>0.0</td>\n",
              "      <td>0.0</td>\n",
              "      <td>0.0</td>\n",
              "      <td>0.0</td>\n",
              "      <td>0.0</td>\n",
              "      <td>0.0</td>\n",
              "      <td>0.0</td>\n",
              "      <td>0.0</td>\n",
              "      <td>0.0</td>\n",
              "      <td>0.0</td>\n",
              "      <td>0.0</td>\n",
              "      <td>0.0</td>\n",
              "      <td>0.0</td>\n",
              "      <td>0.0</td>\n",
              "      <td>0.0</td>\n",
              "      <td>0.0</td>\n",
              "      <td>0.0</td>\n",
              "      <td>0.0</td>\n",
              "      <td>0.0</td>\n",
              "      <td>0.0</td>\n",
              "      <td>0.0</td>\n",
              "      <td>0.0</td>\n",
              "      <td>0.0</td>\n",
              "      <td>0.0</td>\n",
              "      <td>0.0</td>\n",
              "      <td>0.0</td>\n",
              "    </tr>\n",
              "    <tr>\n",
              "      <th>5</th>\n",
              "      <td>0.0</td>\n",
              "      <td>0.0</td>\n",
              "      <td>0.0</td>\n",
              "      <td>0.0</td>\n",
              "      <td>0.0</td>\n",
              "      <td>0.0</td>\n",
              "      <td>0.0</td>\n",
              "      <td>0.0</td>\n",
              "      <td>0.0</td>\n",
              "      <td>0.0</td>\n",
              "      <td>0.0</td>\n",
              "      <td>0.0</td>\n",
              "      <td>0.0</td>\n",
              "      <td>0.0</td>\n",
              "      <td>0.0</td>\n",
              "      <td>0.0</td>\n",
              "      <td>0.0</td>\n",
              "      <td>0.0</td>\n",
              "      <td>0.0</td>\n",
              "      <td>0.0</td>\n",
              "      <td>0.0</td>\n",
              "      <td>0.0</td>\n",
              "      <td>0.0</td>\n",
              "      <td>0.0</td>\n",
              "      <td>0.0</td>\n",
              "      <td>0.0</td>\n",
              "      <td>0.0</td>\n",
              "      <td>0.0</td>\n",
              "      <td>0.0</td>\n",
              "      <td>0.0</td>\n",
              "      <td>0.0</td>\n",
              "      <td>0.0</td>\n",
              "      <td>0.0</td>\n",
              "      <td>0.0</td>\n",
              "      <td>0.0</td>\n",
              "      <td>0.0</td>\n",
              "      <td>0.0</td>\n",
              "      <td>0.0</td>\n",
              "      <td>0.0</td>\n",
              "      <td>0.0</td>\n",
              "      <td>...</td>\n",
              "      <td>0.0</td>\n",
              "      <td>0.0</td>\n",
              "      <td>0.0</td>\n",
              "      <td>0.0</td>\n",
              "      <td>0.0</td>\n",
              "      <td>0.0</td>\n",
              "      <td>0.0</td>\n",
              "      <td>0.0</td>\n",
              "      <td>0.0</td>\n",
              "      <td>0.0</td>\n",
              "      <td>0.0</td>\n",
              "      <td>0.0</td>\n",
              "      <td>0.0</td>\n",
              "      <td>0.000000</td>\n",
              "      <td>0.0</td>\n",
              "      <td>0.0</td>\n",
              "      <td>0.0</td>\n",
              "      <td>0.0</td>\n",
              "      <td>0.0</td>\n",
              "      <td>0.0</td>\n",
              "      <td>0.0</td>\n",
              "      <td>0.0</td>\n",
              "      <td>0.0</td>\n",
              "      <td>0.0</td>\n",
              "      <td>0.0</td>\n",
              "      <td>0.0</td>\n",
              "      <td>0.0</td>\n",
              "      <td>0.0</td>\n",
              "      <td>0.0</td>\n",
              "      <td>0.0</td>\n",
              "      <td>0.0</td>\n",
              "      <td>0.0</td>\n",
              "      <td>0.0</td>\n",
              "      <td>0.0</td>\n",
              "      <td>0.0</td>\n",
              "      <td>0.0</td>\n",
              "      <td>0.0</td>\n",
              "      <td>0.0</td>\n",
              "      <td>0.0</td>\n",
              "      <td>0.0</td>\n",
              "    </tr>\n",
              "  </tbody>\n",
              "</table>\n",
              "<p>5 rows × 607 columns</p>\n",
              "</div>"
            ],
            "text/plain": [
              "         action  action adventure  ...  western  western imax\n",
              "movieId                            ...                       \n",
              "1           0.0               0.0  ...      0.0           0.0\n",
              "2           0.0               0.0  ...      0.0           0.0\n",
              "3           0.0               0.0  ...      0.0           0.0\n",
              "4           0.0               0.0  ...      0.0           0.0\n",
              "5           0.0               0.0  ...      0.0           0.0\n",
              "\n",
              "[5 rows x 607 columns]"
            ]
          },
          "metadata": {
            "tags": []
          },
          "execution_count": 53
        }
      ]
    },
    {
      "cell_type": "markdown",
      "metadata": {
        "id": "EX3Q4z9Gh8aK"
      },
      "source": [
        "Now we want to calculate cosine similarity by using linear kernel which is equivalent in this situation and faster"
      ]
    },
    {
      "cell_type": "code",
      "metadata": {
        "colab": {
          "base_uri": "https://localhost:8080/"
        },
        "id": "mKxR0JnWhKrG",
        "outputId": "3423aa5d-8e3d-4333-bac3-ba0af7a49c0a"
      },
      "source": [
        "from sklearn.metrics.pairwise import linear_kernel\n",
        "cosine_sim = linear_kernel(tfidf_matrix, tfidf_matrix)\n",
        "cosine_sim"
      ],
      "execution_count": 54,
      "outputs": [
        {
          "output_type": "execute_result",
          "data": {
            "text/plain": [
              "array([[1.        , 0.20440242, 0.05105159, ..., 0.        , 0.        ,\n",
              "        0.        ],\n",
              "       [0.20440242, 1.        , 0.        , ..., 0.        , 0.        ,\n",
              "        0.        ],\n",
              "       [0.05105159, 0.        , 1.        , ..., 0.        , 0.        ,\n",
              "        0.        ],\n",
              "       ...,\n",
              "       [0.        , 0.        , 0.        , ..., 1.        , 0.        ,\n",
              "        0.56622704],\n",
              "       [0.        , 0.        , 0.        , ..., 0.        , 1.        ,\n",
              "        0.        ],\n",
              "       [0.        , 0.        , 0.        , ..., 0.56622704, 0.        ,\n",
              "        1.        ]])"
            ]
          },
          "metadata": {
            "tags": []
          },
          "execution_count": 54
        }
      ]
    },
    {
      "cell_type": "markdown",
      "metadata": {
        "id": "s70pJudsRgvH"
      },
      "source": [
        "### Recommend Movies based on other movies"
      ]
    },
    {
      "cell_type": "code",
      "metadata": {
        "id": "jmoaNG_Wvlzb"
      },
      "source": [
        "def get_recommendation_genre(movie_df, movie_title, cosine_sim_matrix = cosine_sim):\n",
        "    #find index of movie and extract the row\n",
        "    index = pd.Series(movie_df.index, index=movie_df['title'])[movie_title]\n",
        "    similarity_scores = list(enumerate(cosine_sim_matrix[index]))\n",
        "    #sort by highest similarity\n",
        "    similarity_scores = sorted(similarity_scores, key=lambda x: x[1], reverse=True)\n",
        "    similarity_scores = similarity_scores[1:11]\n",
        "    movie_indices = [i[0] for i in similarity_scores]\n",
        "    return movie_df['title'].iloc[movie_indices]"
      ],
      "execution_count": 55,
      "outputs": []
    },
    {
      "cell_type": "code",
      "metadata": {
        "colab": {
          "base_uri": "https://localhost:8080/"
        },
        "id": "-18S-Gkr75nz",
        "outputId": "5cd65bf0-fe55-488f-c518-f5ae2ae39313"
      },
      "source": [
        "get_recommendation_genre(new_movies_df, \"Toy Story (1995)\", cosine_sim)"
      ],
      "execution_count": 56,
      "outputs": [
        {
          "output_type": "execute_result",
          "data": {
            "text/plain": [
              "2199                                           Antz (1998)\n",
              "3008                                    Toy Story 2 (1999)\n",
              "3634        Adventures of Rocky and Bullwinkle, The (2000)\n",
              "3891                      Emperor's New Groove, The (2000)\n",
              "4720                                 Monsters, Inc. (2001)\n",
              "7724                                      Wild, The (2006)\n",
              "8104                                Shrek the Third (2007)\n",
              "8723                        Tale of Despereaux, The (2008)\n",
              "9910     Asterix and the Vikings (Astérix et les Viking...\n",
              "10418                                         Turbo (2013)\n",
              "Name: title, dtype: object"
            ]
          },
          "metadata": {
            "tags": []
          },
          "execution_count": 56
        }
      ]
    },
    {
      "cell_type": "markdown",
      "metadata": {
        "id": "ugFRGPy5RlUe"
      },
      "source": [
        "Here we can see our recommendation system give other movie recommendations for Toy Story. This is difficult for us to test so we did not include it in our final model but gives interesting insight. From a customer standpoint, these recommendations seem quite accurate."
      ]
    },
    {
      "cell_type": "markdown",
      "metadata": {
        "id": "ATe0fAztRxC_"
      },
      "source": [
        "### Recommend Movies For User"
      ]
    },
    {
      "cell_type": "code",
      "metadata": {
        "id": "xLAirw_Gl5qC"
      },
      "source": [
        "def get_recommendation_genre_for_user (userId):\n",
        "    df_user_ratings = new_users_df[new_users_df.userId == userId]\n",
        "    df_user_data_with_genre = new_movies_df.reset_index().merge(df_user_ratings, on='movieId')\n",
        "    df_user_data_with_genre['weight'] = df_user_data_with_genre['rating']/5\n",
        "    user_profile = np.dot(tfidf_matrix[df_user_data_with_genre['index'].values].toarray().T, df_user_data_with_genre['weight'].values)\n",
        "    c_sim = cosine_similarity(np.atleast_2d(user_profile), tfidf_matrix)\n",
        "    rec = np.flip(np.argsort(c_sim)[0])\n",
        "    recommendations = []\n",
        "    for i in rec:\n",
        "      if i not in df_user_data_with_genre['index']:\n",
        "        recommendations.append(i)\n",
        "    return new_movies_df['title'][recommendations].head(10)"
      ],
      "execution_count": 57,
      "outputs": []
    },
    {
      "cell_type": "code",
      "metadata": {
        "colab": {
          "base_uri": "https://localhost:8080/"
        },
        "id": "zhI45jGSmOOj",
        "outputId": "624178d9-1f88-4b93-e377-4a992c60806f"
      },
      "source": [
        "get_recommendation_genre_for_user(6)"
      ],
      "execution_count": 58,
      "outputs": [
        {
          "output_type": "execute_result",
          "data": {
            "text/plain": [
              "13318                                       Leal (2018)\n",
              "4993                                Mother's Day (1980)\n",
              "4445                                Experts, The (1989)\n",
              "4444                             Erik the Viking (1989)\n",
              "4443                      Eddie and the Cruisers (1983)\n",
              "4442     Eddie and the Cruisers II: Eddie Lives! (1989)\n",
              "4441                        Earth Girls Are Easy (1988)\n",
              "4440                         Dry White Season, A (1989)\n",
              "4439                             Dream Team, The (1989)\n",
              "4438                        Dream a Little Dream (1989)\n",
              "Name: title, dtype: object"
            ]
          },
          "metadata": {
            "tags": []
          },
          "execution_count": 58
        }
      ]
    },
    {
      "cell_type": "markdown",
      "metadata": {
        "id": "vQiJA3bYR1Lv"
      },
      "source": [
        "Here shows an example of giving movie recommendations for a particular user. The method is simimlar to the one above for finding similar movies. We construct a user profile based on their past movies and find movies similar to that user profile as a vector."
      ]
    },
    {
      "cell_type": "code",
      "metadata": {
        "id": "My54W0ghi_Ps"
      },
      "source": [
        ""
      ],
      "execution_count": null,
      "outputs": []
    },
    {
      "cell_type": "code",
      "metadata": {
        "id": "8fhVCLETi_SB"
      },
      "source": [
        ""
      ],
      "execution_count": null,
      "outputs": []
    }
  ]
}